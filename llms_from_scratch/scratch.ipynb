{
   "cells": [
      {
         "cell_type": "code",
         "execution_count": 1,
         "metadata": {},
         "outputs": [],
         "source": [
            "import tiktoken\n",
            "import re"
         ]
      },
      {
         "cell_type": "code",
         "execution_count": 2,
         "metadata": {},
         "outputs": [
            {
               "name": "stdout",
               "output_type": "stream",
               "text": [
                  "20479\n"
               ]
            }
         ],
         "source": [
            "with open(\"the-verdict.txt\", \"r\") as f:\n",
            "    lines = f.read()\n",
            "\n",
            "print(len(lines))"
         ]
      },
      {
         "cell_type": "code",
         "execution_count": 3,
         "metadata": {},
         "outputs": [
            {
               "name": "stdout",
               "output_type": "stream",
               "text": [
                  "['I', ' ', 'HAD', ' ', 'always', ' ', 'thought', ' ', 'Jack', ' ']\n",
                  "4690\n"
               ]
            }
         ],
         "source": [
            "preprocessed = re.split(r'([,.:;?_!\"()\\']|--|\\s)', lines)\n",
            "print(preprocessed[:10])\n",
            "preprocessed = [item for item in preprocessed if item.strip()]\n",
            "print(len(preprocessed))"
         ]
      },
      {
         "cell_type": "code",
         "execution_count": 4,
         "metadata": {},
         "outputs": [
            {
               "name": "stdout",
               "output_type": "stream",
               "text": [
                  "['would', 'wouldn', 'year', 'years', 'yellow', 'yet', 'you', 'younger', 'your', 'yourself']\n",
                  "1130\n",
                  "! 0\n",
                  "\" 1\n",
                  "' 2\n",
                  "( 3\n",
                  ") 4\n",
                  ", 5\n",
                  "-- 6\n",
                  ". 7\n",
                  ": 8\n",
                  "; 9\n",
                  "? 10\n"
               ]
            }
         ],
         "source": [
            "all_words = sorted(set(preprocessed))\n",
            "print(all_words[-10:])\n",
            "vocab_size = len(all_words)\n",
            "print(vocab_size)\n",
            "vocab = {token: idx for idx, token in enumerate(all_words)}\n",
            "for i, word in enumerate(vocab):\n",
            "    if i > 10:\n",
            "        break\n",
            "    print(word, vocab[word])"
         ]
      },
      {
         "cell_type": "code",
         "execution_count": 5,
         "metadata": {},
         "outputs": [
            {
               "name": "stdout",
               "output_type": "stream",
               "text": [
                  "[989, 1077, 7, 7]\n",
                  "their was..\n"
               ]
            }
         ],
         "source": [
            "class SimpleTokenizerV1:\n",
            "    def __init__(self, vocab):\n",
            "        self.token_to_int = vocab\n",
            "        self.int_to_token = {idx: token for token, idx in vocab.items()}\n",
            "    \n",
            "    def encode(self, text):\n",
            "        preprocessed = re.split(r'([,.:;?_!\"()\\']|--|\\s)', text)\n",
            "        preprocessed = [item for item in preprocessed if item.strip()]\n",
            "        return [self.token_to_int[token] for token in preprocessed]\n",
            "    \n",
            "    def decode(self, integers):\n",
            "        text = \" \".join([self.int_to_token[idx] for idx in integers])\n",
            "        # replaces spaces before punctuation marks for format sentences correctly\n",
            "        text = re.sub(r'\\s+([,.:;?_!\"()\\'])', r'\\1', text)\n",
            "        return text\n",
            "    \n",
            "tokenizer = SimpleTokenizerV1(vocab)\n",
            "test = \"their  was..\"\n",
            "print(tokenizer.encode(test))\n",
            "print(tokenizer.decode(tokenizer.encode(test)))\n",
            "\n"
         ]
      },
      {
         "cell_type": "code",
         "execution_count": 6,
         "metadata": {},
         "outputs": [
            {
               "name": "stdout",
               "output_type": "stream",
               "text": [
                  "('younger', 1127)\n",
                  "('your', 1128)\n",
                  "('yourself', 1129)\n",
                  "('<|unk|>', 1130)\n",
                  "('<|endoftext|>', 1131)\n",
                  "Hi, do you like tea? <|endoftext|> In the sunlit terraces\n"
               ]
            }
         ],
         "source": [
            "all_words.extend([\"<|unk|>\", \"<|endoftext|>\"])\n",
            "all_words\n",
            "vocab = {token: idx for idx, token in enumerate(all_words)}\n",
            "max = 10\n",
            "for i, item in enumerate(list(vocab.items())[-5:]):\n",
            "    if i > max:\n",
            "        break\n",
            "    print(item)\n",
            "text1 = \"Hi, do you like tea?\"\n",
            "text2 = \"In the sunlit terraces\"\n",
            "text = \" <|endoftext|> \".join((text1, text2))\n",
            "\n",
            "print(text)"
         ]
      },
      {
         "cell_type": "code",
         "execution_count": 7,
         "metadata": {},
         "outputs": [
            {
               "name": "stdout",
               "output_type": "stream",
               "text": [
                  "[1130, 5, 355, 1126, 628, 975, 10, 1131, 55, 988, 956, 984]\n",
                  "<|unk|>, do you like tea? <|endoftext|> In the sunlit terraces\n",
                  "<|unk|>, do you like tea? <|endoftext|> In the sunlit terraces\n"
               ]
            }
         ],
         "source": [
            "class SimpleTokenizerV2:\n",
            "    def __init__(self, vocab):\n",
            "        self.token_to_int = vocab\n",
            "        self.int_to_token = {idx: token for  token, idx in vocab.items()}\n",
            "    \n",
            "    def encode(self, text):\n",
            "        preprocessed = re.split(r'([,.:;?_!\"()\\']|--|\\s)', text)\n",
            "        preprocessed = [item.strip() for item in preprocessed if item.strip()]\n",
            "        preprocessed = [item if item in self.token_to_int else \"<|unk|>\" for item in preprocessed]\n",
            "        return [self.token_to_int[token] for token in preprocessed]\n",
            "\n",
            "    def decode(self, integers):\n",
            "        text = \" \".join([self.int_to_token[idx] for idx in integers])\n",
            "        # replaces spaces before punctuation marks for format sentences correctly\n",
            "        text = re.sub(r'\\s+([,.:;?!\"()\\'])', r'\\1', text)\n",
            "        return text\n",
            "\n",
            "tokenizer = SimpleTokenizerV2(vocab)\n",
            "encoded = tokenizer.encode(text)\n",
            "# tokenizer.int_to_token.keys()\n",
            "print(encoded)\n",
            "decoded = tokenizer.decode(encoded)\n",
            "print(decoded)\n",
            "print(tokenizer.decode(tokenizer.encode(text)))\n"
         ]
      },
      {
         "cell_type": "code",
         "execution_count": 8,
         "metadata": {},
         "outputs": [
            {
               "name": "stdout",
               "output_type": "stream",
               "text": [
                  "[15496, 11, 466, 345, 588, 8887, 30, 220, 50256, 554, 262, 4252, 18250, 8812, 2114, 1659, 617, 34680, 27271, 13]\n",
                  "Hello, do you like tea? <|endoftext|> In the sunlit terracesof someunknownPlace.\n"
               ]
            }
         ],
         "source": [
            "bpe_tokenizer = tiktoken.get_encoding(\"gpt2\")\n",
            "text = (\n",
            "\"Hello, do you like tea? <|endoftext|> In the sunlit terraces\"\n",
            "\"of someunknownPlace.\"\n",
            ")\n",
            "encoded = bpe_tokenizer.encode(text, allowed_special={\"<|endoftext|>\"})\n",
            "print(encoded)\n",
            "strings = bpe_tokenizer.decode(encoded)\n",
            "print(strings)\n"
         ]
      },
      {
         "cell_type": "code",
         "execution_count": 9,
         "metadata": {},
         "outputs": [
            {
               "name": "stdout",
               "output_type": "stream",
               "text": [
                  "[33901, 86, 343, 86, 220, 959]\n",
                  "Akwirw ier\n"
               ]
            }
         ],
         "source": [
            "new_word = \"Akwirw ier\"\n",
            "\n",
            "encoded = bpe_tokenizer.encode(new_word)\n",
            "print(encoded)\n",
            "decoded = bpe_tokenizer.decode(encoded)\n",
            "print(decoded)"
         ]
      },
      {
         "cell_type": "code",
         "execution_count": 10,
         "metadata": {},
         "outputs": [
            {
               "name": "stdout",
               "output_type": "stream",
               "text": [
                  "['I', ' ', 'HAD', ' ', 'always', ' ', 'thought', ' ', 'Jack', ' ']\n",
                  "20479\n",
                  "['year', 'years', 'yellow', 'yet', 'you', 'younger', 'your', 'yourself', '<|unk|>', '<|endoftext|>']\n",
                  "[40, 367, 2885, 1464, 1807, 3619, 402, 271, 10899, 2138]\n"
               ]
            }
         ],
         "source": [
            "with open(\"the-verdict.txt\", \"r\") as f:\n",
            "    lines = f.read()\n",
            "\n",
            "preprocessed = re.split(r'([,.:;?_!\"()\\']|--|\\s)', lines)\n",
            "print(preprocessed[:10])\n",
            "preprocessed = [item for item in preprocessed if item.strip()]\n",
            "print(len(lines))\n",
            "all_words = sorted(set(preprocessed))\n",
            "all_words.extend([\"<|unk|>\", \"<|endoftext|>\"])\n",
            "print(all_words[-10:])\n",
            "vocab_size = len(all_words)\n",
            "enc_text = bpe_tokenizer.encode(lines)\n",
            "vocab_size = len(enc_text)\n",
            "print(enc_text[:10])\n",
            "\n"
         ]
      },
      {
         "cell_type": "code",
         "execution_count": 11,
         "metadata": {},
         "outputs": [
            {
               "name": "stdout",
               "output_type": "stream",
               "text": [
                  "[290, 4920]\n",
                  "[4920, 2241]\n",
                  " and established -->  established himself\n"
               ]
            }
         ],
         "source": [
            "block_size = 2\n",
            "enc_sample = enc_text[50:]\n",
            "for i in range(block_size):\n",
            "    x = enc_sample[i:block_size]\n",
            "    y = enc_sample[i+1:i+block_size+1]\n",
            "    print(x)\n",
            "    print(y)\n",
            "    print(bpe_tokenizer.decode(x), \"-->\", bpe_tokenizer.decode(y))\n",
            "    break\n"
         ]
      },
      {
         "cell_type": "code",
         "execution_count": 12,
         "metadata": {},
         "outputs": [
            {
               "data": {
                  "text/plain": [
                     "(tensor([  44,  149, 1003,   57]), tensor([ 149, 1003,   57,   38]))"
                  ]
               },
               "execution_count": 12,
               "metadata": {},
               "output_type": "execute_result"
            }
         ],
         "source": [
            "import torch\n",
            "from torch.utils.data import DataLoader, Dataset\n",
            "\n",
            "class GPTDatasetV1(Dataset):\n",
            "    def __init__(self, text, tokenizer, max_length, stride):\n",
            "        self.input_ids = []\n",
            "        self.target_ids = []\n",
            "        self.encoded = tokenizer.encode(text)\n",
            "        #max_length = block_size or context_length, so need to substract max_length from range as that will be size of the sliced array \n",
            "        for i in range(0, len(self.encoded) - max_length, stride):\n",
            "            input_chunk = self.encoded[i:i+max_length]\n",
            "            targets = self.encoded[i+1:i+max_length+1]\n",
            "            self.input_ids.append(torch.tensor(input_chunk))\n",
            "            self.target_ids.append(torch.tensor(targets))\n",
            "    \n",
            "    def __len__(self):\n",
            "        return len(self.input_ids)\n",
            "    \n",
            "    def __getitem__(self, idx):\n",
            "        return (self.input_ids[idx], self.target_ids[idx])\n",
            "\n",
            "\n",
            "dataset = GPTDatasetV1(lines, tokenizer, 4, 1)\n",
            "dataset[1]\n",
            "\n",
            "\n"
         ]
      },
      {
         "cell_type": "code",
         "execution_count": 13,
         "metadata": {},
         "outputs": [
            {
               "data": {
                  "text/plain": [
                     "torch.Size([4, 4])"
                  ]
               },
               "execution_count": 13,
               "metadata": {},
               "output_type": "execute_result"
            }
         ],
         "source": [
            "\n",
            "def create_dataloader_v1(text, batch_size, max_length, stride, shuffle=True, drop_last=True, num_workers=0):\n",
            "    tokenizer = tiktoken.get_encoding(\"gpt2\")\n",
            "    dataset = GPTDatasetV1(text, tokenizer=tokenizer, max_length=max_length, stride=stride)\n",
            "    dataloader = DataLoader(dataset, batch_size=batch_size, num_workers=num_workers, drop_last=drop_last, shuffle=shuffle)\n",
            "    return dataloader\n",
            "\n",
            "dataloader = create_dataloader_v1(lines, batch_size=4, max_length=4, stride=1, shuffle=False)\n",
            "\n",
            "first_batch = next(iter(dataloader))\n",
            "\n",
            "first_batch[0].shape"
         ]
      },
      {
         "cell_type": "code",
         "execution_count": 14,
         "metadata": {},
         "outputs": [
            {
               "data": {
                  "text/plain": [
                     "[tensor([[   40,   367,  2885,  1464],\n",
                     "         [ 1464,  1807,  3619,   402],\n",
                     "         [  402,   271, 10899,  2138],\n",
                     "         [ 2138,   257,  7026, 15632]]),\n",
                     " tensor([[  367,  2885,  1464,  1807],\n",
                     "         [ 1807,  3619,   402,   271],\n",
                     "         [  271, 10899,  2138,   257],\n",
                     "         [  257,  7026, 15632,   438]])]"
                  ]
               },
               "execution_count": 14,
               "metadata": {},
               "output_type": "execute_result"
            }
         ],
         "source": [
            "\n",
            "dataloader = create_dataloader_v1(lines, batch_size=4, max_length=4, stride=3, shuffle=False)\n",
            "\n",
            "first_batch = next(iter(dataloader))\n",
            "\n",
            "first_batch"
         ]
      },
      {
         "cell_type": "markdown",
         "metadata": {},
         "source": [
            "### Chapter 3\n",
            "Prior to transformers, RNNs were a popular architecture for NLP tasks such as machine translation. These networks consist of an encoder and decoder network. The encoder processes a sequence of tokens, where the first token is passed to the first hidden layer, the second is passed to the second layer state AS WELL AS the hidden state of the first token. The last hidden state of the encoder is passed to the decoder network, therefore it relies solely on the encapsulated context from the last hidden state of the encoder. It does not have direct access to previous tokens/hidden states (e.g words in a sentence), but only the last generated hidden state from the encoder. Although the the task of the encoder is to generate a sufficiently rich representation of the entire embedded sentence, this is remains limited to short sequence lengths and highlights the main limitation of the classical RNN architecture.\n",
            "\n",
            "#### Bahdanau attention (2014)\n",
            "\n",
            "Modified the encoder-decoder RNN so the decoder can selectively access different parts of the input sequence at each decoding step. "
         ]
      },
      {
         "cell_type": "markdown",
         "metadata": {},
         "source": [
            "#### Scaled dot product attention\n",
            "\n",
            "The following implements self-attention where the dot products are scaled by the dimension of the compute key matrix encoding representations of the tokens after apply the key weights matrix. The reason for normalised and scaling these values is to improve training performance. For large architectures that use a large embedding dimension (e.g 1000 for GPT models), large dot products can result in very small gradients during backpropagation due to the softmax function. If one value dominates output from the dot product, the softmax normalisation will accordingly scale all the remaining values to very small values. Scaling by the sqrt of the embedding dim prevents these very large values from dominating the normalisation.\n"
         ]
      },
      {
         "cell_type": "code",
         "execution_count": 15,
         "metadata": {},
         "outputs": [
            {
               "name": "stdout",
               "output_type": "stream",
               "text": [
                  "tensor([[-1.3780,  0.5325, -0.7355],\n",
                  "        [-0.3446, -0.1626, -1.7539],\n",
                  "        [-1.4151, -0.4194, -0.4316],\n",
                  "        [-0.0733,  0.0910,  1.3885]], grad_fn=<SelectBackward0>)\n",
                  "input shape torch.Size([4, 4, 3])\n",
                  "torch.Size([2])\n",
                  "torch.Size([4, 2])\n",
                  "tensor(1.7674, grad_fn=<AddBackward0>)\n",
                  "tensor(0.4321, grad_fn=<AddBackward0>)\n",
                  "tensor(0.4321, grad_fn=<DotBackward0>)\n",
                  "attention_scores_2 shape: torch.Size([4])\n",
                  "values shape: torch.Size([4, 2])\n"
               ]
            },
            {
               "data": {
                  "text/plain": [
                     "tensor([ 0.9945, -0.7966], grad_fn=<SqueezeBackward4>)"
                  ]
               },
               "execution_count": 15,
               "metadata": {},
               "output_type": "execute_result"
            }
         ],
         "source": [
            "\n",
            "tokenizer = tiktoken.get_encoding(\"gpt2\")\n",
            "vocab_size = tokenizer.n_vocab\n",
            "output_dim = 3  # for illustration\n",
            "token_embedding_layer = torch.nn.Embedding(vocab_size, output_dim)\n",
            "input_ids, target_ids = first_batch\n",
            "inputs = token_embedding_layer(input_ids)\n",
            "\n",
            "print(inputs[1])\n",
            "print(\"input shape\", inputs.shape)\n",
            "\n",
            "x2 = inputs[1][1]\n",
            "d_in = x2.shape[0]\n",
            "d_out = 2\n",
            "\n",
            "torch.manual_seed(0)\n",
            "W_query = torch.nn.Parameter(torch.randn(d_in, d_out))\n",
            "K_query = torch.nn.Parameter(torch.randn(d_in, d_out))\n",
            "V_query = torch.nn.Parameter(torch.randn(d_in, d_out))\n",
            "\n",
            "\n",
            "x2_query = x2 @ W_query # query vector for 2nd token in the first example of the batch\n",
            "keys = inputs[1] @ K_query # key matrix for all tokens in the first example of the batch\n",
            "values = inputs[1] @ V_query # value matrix for all tokens in the first example of the batch\n",
            "\n",
            "print(x2_query.shape) # query vector\n",
            "print(keys.shape) # \n",
            "\n",
            "# attention score\n",
            "tmp_score = 0\n",
            "x2_key = keys[1]\n",
            "for i in range(2):\n",
            "    tmp_score += x2_query[i] * x2_key[i]\n",
            "    print(tmp_score)\n",
            "attention_score_22 = x2_query.dot(keys[1])\n",
            "print(attention_score_22)\n",
            "\n",
            "attention_scores_2 = x2_query @ keys.T\n",
            "# softmax normalisation\n",
            "d_k = keys.shape[1] # embedding dimension of the keys\n",
            "# SCALED DOT PRODUCT ATTENTION\n",
            "attention_weights_2 = torch.nn.functional.softmax(attention_scores_2 / (d_k ** 0.5), dim=-1)\n",
            "attention_weights_2\n",
            "\n",
            "# context vector calculation\n",
            "print(f\"attention_scores_2 shape: {attention_scores_2.shape}\")\n",
            "print(f\"values shape: {values.shape}\")\n",
            "context_vector_2 = attention_weights_2 @ values\n",
            "context_vector_2 # represents relative importance of all the input tokens wrto the 2nd token in the first example of the batch\n",
            "\n",
            "context_vector_2\n"
         ]
      },
      {
         "cell_type": "code",
         "execution_count": 16,
         "metadata": {},
         "outputs": [],
         "source": [
            "class SelfAttention_v1(torch.nn.Module):\n",
            "    def __init__(self, d_in, d_out):\n",
            "        super().__init__()\n",
            "        self.Q = torch.nn.Parameter(torch.randn(d_in, d_out))\n",
            "        self.K = torch.nn.Parameter(torch.randn(d_in, d_out))\n",
            "        self.V = torch.nn.Parameter(torch.randn(d_in, d_out))\n",
            "    \n",
            "    def forward(self, x):\n",
            "        query = x @ self.Q\n",
            "        keys = x @ self.K\n",
            "        values = x @ self.V\n",
            "        attention_scores = query @ keys.T\n",
            "        d_k = keys.shape[1]\n",
            "        # rescale the attention scores because dot products can be large when embedding dimension is large\n",
            "        # i.e the sum is taken over the embedding dimension, so many values result in a large dot product\n",
            "        # results in very small gradients\n",
            "        attention_weights = torch.nn.functional.softmax(attention_scores / (d_k ** 0.5), dim=-1)\n",
            "        context_vector = attention_weights @ values\n",
            "        return context_vector\n",
            "\n",
            "class SelfAttention_v2(torch.nn.Module):\n",
            "    def __init__(self, d_in, d_out, qkv_bias: bool = False):\n",
            "        super().__init__()\n",
            "        # proper initialization of weights in torch nn.Linear modules\n",
            "        self.Q = torch.nn.Linear(d_in, d_out, bias=qkv_bias)\n",
            "        self.K = torch.nn.Linear(d_in, d_out, bias=qkv_bias)\n",
            "        self.V = torch.nn.Linear(d_in, d_out, bias=qkv_bias)\n",
            "    \n",
            "    def forward(self, x):\n",
            "        query = self.Q(x)\n",
            "        keys = self.K(x)\n",
            "        values = self.V(x)\n",
            "        attention_scores = query @ keys.T\n",
            "        d_k = keys.shape[1]\n",
            "        attention_weights = torch.nn.functional.softmax(attention_scores / (d_k ** 0.5), dim=-1)\n",
            "        context_vector = attention_weights @ values\n",
            "        return context_vector\n",
            "\n",
            "    \n",
            "\n",
            "\n"
         ]
      },
      {
         "cell_type": "code",
         "execution_count": 17,
         "metadata": {},
         "outputs": [
            {
               "data": {
                  "text/plain": [
                     "torch.Size([4, 4, 3])"
                  ]
               },
               "execution_count": 17,
               "metadata": {},
               "output_type": "execute_result"
            }
         ],
         "source": [
            "inputs.shape"
         ]
      },
      {
         "cell_type": "code",
         "execution_count": 18,
         "metadata": {},
         "outputs": [
            {
               "name": "stdout",
               "output_type": "stream",
               "text": [
                  "d_in 3, d_out 2\n",
                  "torch.Size([4, 3])\n",
                  "sa_v1\n",
                  "tensor([ 3.3697, -0.0059], grad_fn=<SelectBackward0>)\n",
                  "sa_v2\n",
                  "tensor([-0.0793,  0.2262], grad_fn=<SelectBackward0>)\n",
                  "torch.Size([3, 2])\n",
                  "torch.Size([2, 3])\n",
                  "updated sa_v1\n",
                  "tensor([-0.0793,  0.2262], grad_fn=<SelectBackward0>)\n"
               ]
            }
         ],
         "source": [
            "# compare SelfAttentionV1 and V2\n",
            "d_in = inputs.shape[-1] # embedding dim\n",
            "d_out = 2\n",
            "print(f\"d_in {d_in}, d_out {d_out}\")\n",
            "sa_v1 = SelfAttention_v1(d_in=d_in, d_out=d_out)\n",
            "sa_v2 = SelfAttention_v2(d_in=d_in, d_out=d_out)\n",
            "\n",
            "x2 = inputs[1]\n",
            "print(x2.shape)\n",
            "sa_v1_mat = sa_v1(inputs[1])\n",
            "sa_v2_mat = sa_v2(inputs[1])\n",
            "print(\"sa_v1\")\n",
            "print(sa_v1_mat[0])\n",
            "print(\"sa_v2\")\n",
            "print(sa_v2_mat[0])\n",
            "\n",
            "print(sa_v1.Q.shape)\n",
            "print(sa_v2.Q.weight.shape)\n",
            "\n",
            "sa_v1.Q = torch.nn.Parameter(sa_v2.Q.weight.T)\n",
            "sa_v1.V = torch.nn.Parameter(sa_v2.V.weight.T)\n",
            "sa_v1.K = torch.nn.Parameter(sa_v2.K.weight.T)\n",
            "print(\"updated sa_v1\")\n",
            "sa_v1_mat_up = sa_v1(inputs[1])\n",
            "print(sa_v1_mat_up[0])\n",
            "\n"
         ]
      },
      {
         "cell_type": "code",
         "execution_count": 19,
         "metadata": {},
         "outputs": [
            {
               "name": "stdout",
               "output_type": "stream",
               "text": [
                  "torch.Size([4, 4, 2]) torch.Size([4, 4, 2])\n",
                  "context length 4\n",
                  "tensor([[0., 1., 1., 1.],\n",
                  "        [0., 0., 1., 1.],\n",
                  "        [0., 0., 0., 1.],\n",
                  "        [0., 0., 0., 0.]])\n",
                  "tensor([[False,  True,  True,  True],\n",
                  "        [False, False,  True,  True],\n",
                  "        [False, False, False,  True],\n",
                  "        [False, False, False, False]])\n",
                  "tensor([[[-0.1464,    -inf,    -inf,    -inf],\n",
                  "         [-0.1635, -0.1080,    -inf,    -inf],\n",
                  "         [-0.2915, -0.1780, -0.0812,    -inf],\n",
                  "         [ 0.0865,  0.1422,  0.3364, -0.0422]],\n",
                  "\n",
                  "        [[-0.0422,    -inf,    -inf,    -inf],\n",
                  "         [-0.1691, -0.4977,    -inf,    -inf],\n",
                  "         [-0.0688, -1.1478,  0.1376,    -inf],\n",
                  "         [ 0.1302,  0.1614,  0.7024,  0.0093]],\n",
                  "\n",
                  "        [[ 0.0093,    -inf,    -inf,    -inf],\n",
                  "         [ 0.2120,  0.5268,    -inf,    -inf],\n",
                  "         [ 0.1706,  0.1400, -0.0270,    -inf],\n",
                  "         [-0.4841, -0.7002,  0.0775,  0.8519]],\n",
                  "\n",
                  "        [[ 0.8519,    -inf,    -inf,    -inf],\n",
                  "         [ 1.9729,  2.6030,    -inf,    -inf],\n",
                  "         [ 0.5238,  0.5978,  0.1404,    -inf],\n",
                  "         [-0.1098, -0.1367, -0.0527,  0.0577]]], grad_fn=<MaskedFillBackward0>)\n"
               ]
            },
            {
               "data": {
                  "text/plain": [
                     "tensor([[[1.0000, 0.0000, 0.0000, 0.0000],\n",
                     "         [0.4902, 0.5098, 0.0000, 0.0000],\n",
                     "         [0.3083, 0.3340, 0.3577, 0.0000],\n",
                     "         [0.2412, 0.2509, 0.2878, 0.2202]],\n",
                     "\n",
                     "        [[1.0000, 0.0000, 0.0000, 0.0000],\n",
                     "         [0.5578, 0.4422, 0.0000, 0.0000],\n",
                     "         [0.3812, 0.1777, 0.4411, 0.0000],\n",
                     "         [0.2253, 0.2303, 0.3376, 0.2068]],\n",
                     "\n",
                     "        [[1.0000, 0.0000, 0.0000, 0.0000],\n",
                     "         [0.4446, 0.5554, 0.0000, 0.0000],\n",
                     "         [0.3511, 0.3436, 0.3053, 0.0000],\n",
                     "         [0.1690, 0.1450, 0.2514, 0.4346]],\n",
                     "\n",
                     "        [[1.0000, 0.0000, 0.0000, 0.0000],\n",
                     "         [0.3904, 0.6096, 0.0000, 0.0000],\n",
                     "         [0.3551, 0.3741, 0.2708, 0.0000],\n",
                     "         [0.2411, 0.2365, 0.2510, 0.2714]]], grad_fn=<SoftmaxBackward0>)"
                  ]
               },
               "execution_count": 19,
               "metadata": {},
               "output_type": "execute_result"
            }
         ],
         "source": [
            "# masked self-attention (causal self-attention)\n",
            "# ensures that no current position is influenced by future positions (e.g for generative tasks)\n",
            "queries = sa_v2.Q(inputs)\n",
            "keys = sa_v2.K(inputs)\n",
            "print(queries.shape, keys.shape)\n",
            "attention_scores = queries @ keys.transpose(1,2)\n",
            "# normalisation of scores to they form a probability distribution summing to 1 - this is applied along the embedding dim \n",
            "attention_weights = torch.nn.functional.softmax(attention_scores / keys.shape[-1] ** 0.5, dim=-1)\n",
            "\n",
            "context_length = inputs.shape[1]\n",
            "print(f\"context length {context_length}\")\n",
            "mask = torch.triu(torch.ones(context_length, context_length), diagonal=1)\n",
            "print(mask)\n",
            "print(mask.bool())\n",
            "# negative infinity approaches 0 in softmax function (because e-inf approaches 0)\n",
            "attention_scores_masked = attention_scores.masked_fill_(mask.bool(), -torch.inf)\n",
            "print(attention_scores_masked)\n",
            "# normalised weights\n",
            "attention_weights = torch.nn.functional.softmax((attention_scores_masked) / keys.shape[-1] ** 0.5, dim=-1)\n",
            "attention_weights"
         ]
      },
      {
         "cell_type": "code",
         "execution_count": 20,
         "metadata": {},
         "outputs": [
            {
               "name": "stdout",
               "output_type": "stream",
               "text": [
                  "tensor([[2., 2., 0., 2.],\n",
                  "        [2., 0., 0., 0.],\n",
                  "        [0., 2., 0., 2.],\n",
                  "        [2., 2., 2., 2.]])\n"
               ]
            }
         ],
         "source": [
            "# Dropout\n",
            "# only applied during training, not inference\n",
            "torch.manual_seed(123)\n",
            "dropout = torch.nn.Dropout(0.5)\n",
            "example = torch.ones((context_length, context_length))\n",
            "# to compensate for the reduction in active units, the un-zero'd values are scaled by (original_val / dropout_prob (0.5))\n",
            "# 1 / 0.5 = 2\n",
            "# this ensures the overall influence of the weight is consistent at both training and inference time\n",
            "print(dropout(example))"
         ]
      },
      {
         "cell_type": "code",
         "execution_count": 21,
         "metadata": {},
         "outputs": [],
         "source": [
            "class CausalAttention(torch.nn.Module):\n",
            "    def __init__(self, d_in, d_out, context_length, dropout, qkv_bias: bool= False):\n",
            "        super().__init__()\n",
            "        self.d_out = d_out\n",
            "        self.dropout = torch.nn.Dropout(dropout)\n",
            "        self.Q = torch.nn.Linear(in_features=d_in, out_features=d_out)\n",
            "        self.K = torch.nn.Linear(in_features=d_in, out_features=d_out)\n",
            "        self.V = torch.nn.Linear(in_features=d_in, out_features=d_out)\n",
            "        self.register_buffer(\"mask\", torch.triu(torch.ones(context_length, context_length), diagonal=1))\n",
            "    \n",
            "    def forward(self, x):\n",
            "        batch, num_token, d_in = x.shape\n",
            "        keys = self.K(x)\n",
            "        queries = self.Q(x)\n",
            "        values = self.V(x)\n",
            "        attn_scores = queries @ keys.transpose(1, 2)\n",
            "        attn_scores.masked_fill_(self.mask.bool()[:num_token, :num_token], -torch.inf)\n",
            "        attn_weights = torch.softmax(attn_scores / keys.shape[-1] ** 0.5, dim=-1)\n",
            "        attn_weights = self.dropout(attn_weights)\n",
            "        context_vec = attn_weights @ values\n",
            "        return context_vec\n",
            "        \n"
         ]
      },
      {
         "cell_type": "code",
         "execution_count": 22,
         "metadata": {},
         "outputs": [
            {
               "data": {
                  "text/plain": [
                     "torch.Size([4, 4, 2])"
                  ]
               },
               "execution_count": 22,
               "metadata": {},
               "output_type": "execute_result"
            }
         ],
         "source": [
            "context_length = inputs.shape[1]\n",
            "ca=CausalAttention(d_in, d_out, context_length, 0.0)\n",
            "context_vecs = ca(inputs)\n",
            "context_vecs.shape\n",
            "\n"
         ]
      },
      {
         "cell_type": "code",
         "execution_count": 23,
         "metadata": {},
         "outputs": [],
         "source": [
            "# multihead attention\n",
            "# apply multiple query key and value matrices (one for each head) in parallel\n",
            "\n",
            "class MultiHeadAttention(torch.nn.Module):\n",
            "    def __init__(self, d_in, d_out, context_length, dropout, num_heads, qkv_bias=False):\n",
            "        super().__init__()\n",
            "        assert (d_out % num_heads == 0), f\"d_out {d_out} must be divisible by num heads {num_heads}\"\n",
            "        self.d_out = d_out\n",
            "        self.num_heads = num_heads\n",
            "        self.head_dim = d_out // num_heads\n",
            "        self.Q = torch.nn.Linear(in_features=d_in, out_features=d_out)\n",
            "        self.K = torch.nn.Linear(in_features=d_in, out_features=d_out)\n",
            "        self.V = torch.nn.Linear(in_features=d_in, out_features=d_out)\n",
            "        self.out_proj = torch.nn.Linear(in_features=d_out, out_features=d_out)\n",
            "        self.dropout = torch.nn.Dropout(dropout)\n",
            "        self.register_buffer(\"mask\", torch.triu(torch.ones(context_length, context_length), diagonal=1))\n",
            "    \n",
            "    def forward(self, x):\n",
            "        batch, num_token, d_in = x.shape\n",
            "        keys = self.K(x)\n",
            "        queries = self.Q(x)\n",
            "        values = self.V(x)\n",
            "        keys = keys.view(batch, num_token, self.num_heads, self.head_dim)\n",
            "        queries = queries.view(batch, num_token, self.num_heads, self.head_dim)\n",
            "        values = values.view(batch, num_token, self.num_heads, self.head_dim)\n",
            "        keys = keys.transpose(1,2)\n",
            "        queries = queries.transpose(1,2)\n",
            "        values = values.transpose(1,2)\n",
            "        attn_scores = queries @ keys.transpose(2, 3)\n",
            "        mask_bool = self.mask.bool()[:num_token, :num_token]\n",
            "        attn_scores.masked_fill_(mask_bool, -torch.inf)\n",
            "        attn_weights = torch.softmax(attn_scores / keys.shape[-1] ** 0.5, dim=-1)\n",
            "        attn_weights = self.dropout(attn_weights)\n",
            "        context_vec = attn_weights @ values\n",
            "        # contiguous makes a copy of the tensor with the final memory layout specified by the tensor shape\n",
            "        context_vec = context_vec.contiguous().view(batch, num_token, self.d_out)\n",
            "        # project layer\n",
            "        context_vec = self.out_proj(context_vec)\n",
            "        return context_vec\n",
            "        \n"
         ]
      },
      {
         "cell_type": "code",
         "execution_count": 24,
         "metadata": {},
         "outputs": [
            {
               "data": {
                  "text/plain": [
                     "torch.Size([4, 4, 2])"
                  ]
               },
               "execution_count": 24,
               "metadata": {},
               "output_type": "execute_result"
            }
         ],
         "source": [
            "torch.manual_seed(123)\n",
            "\n",
            "batch_size, context_length, d_in = inputs.shape\n",
            "d_out = 2\n",
            "mha = MultiHeadAttention(d_in, d_out, context_length, 0.5, num_heads=2)\n",
            "out = mha(inputs)\n",
            "out.shape"
         ]
      },
      {
         "cell_type": "code",
         "execution_count": 25,
         "metadata": {},
         "outputs": [
            {
               "name": "stdout",
               "output_type": "stream",
               "text": [
                  "torch.Size([2, 1024])\n"
               ]
            },
            {
               "data": {
                  "text/plain": [
                     "torch.Size([2, 1024, 768])"
                  ]
               },
               "execution_count": 25,
               "metadata": {},
               "output_type": "execute_result"
            }
         ],
         "source": [
            "# gpt-2 sized MHA\n",
            "\n",
            "embedding_dim = 768\n",
            "num_heads = 12\n",
            "context_length = 1024\n",
            "\n",
            "dataloader = create_dataloader_v1(lines, batch_size=2, max_length=context_length, stride=1, shuffle=False)\n",
            "first_batch = next(iter(dataloader))\n",
            "print(first_batch[0].shape)\n",
            "\n",
            "vocab_size = tokenizer.n_vocab\n",
            "token_embedding_layer = torch.nn.Embedding(vocab_size, embedding_dim)\n",
            "input_ids, target_ids = first_batch\n",
            "inputs = token_embedding_layer(input_ids)\n",
            "\n",
            "inputs[0].shape\n",
            "\n",
            "mha = MultiHeadAttention(d_in=768, d_out=768, context_length=context_length, dropout=0.2, num_heads=12)\n",
            "\n",
            "out = mha(inputs)\n",
            "\n",
            "out.shape"
         ]
      },
      {
         "cell_type": "code",
         "execution_count": 26,
         "metadata": {},
         "outputs": [
            {
               "data": {
                  "text/plain": [
                     "(tensor([[-1.3039e-08, -9.3132e-09, -6.2088e-10,  ..., -3.1044e-09,\n",
                     "          -7.4506e-09, -4.9671e-09],\n",
                     "         [-9.3132e-09, -6.2088e-10, -1.4901e-08,  ..., -7.4506e-09,\n",
                     "          -4.9671e-09,  2.4835e-09]], grad_fn=<MeanBackward1>),\n",
                     " tensor([[1.0000, 1.0000, 1.0000,  ..., 1.0000, 1.0000, 1.0000],\n",
                     "         [1.0000, 1.0000, 1.0000,  ..., 1.0000, 1.0000, 1.0000]],\n",
                     "        grad_fn=<VarBackward0>))"
                  ]
               },
               "execution_count": 26,
               "metadata": {},
               "output_type": "execute_result"
            }
         ],
         "source": [
            "# GPT-2 implementation\n",
            "# vocab size is determined by the BPE tokenizer\n",
            "GPT_CONFIG_124M = {\"vocab_size\": 50257, \"context_length\": 1024, \"emb_dim\": 768, \"n_heads\": 12, \"n_layers\": 12, \"drop_rate\": 0.1, \"qkv_bias\": False}\n",
            "\n",
            "class LayerNorm(torch.nn.Module):\n",
            "    def __init__(self, emb_dim):\n",
            "        super().__init__()\n",
            "        self.eps = 1e-5\n",
            "        # Parameter = trainable parameter in torch\n",
            "        self.scale = torch.nn.Parameter(torch.ones(emb_dim))\n",
            "        self.shift = torch.nn.Parameter(torch.zeros(emb_dim))\n",
            "\n",
            "    def forward(self, x):\n",
            "        # dim = -1  --> embedding dimension\n",
            "        mean = x.mean(dim=-1, keepdim=True)\n",
            "        var = x.var(dim=-1, keepdim=True, unbiased=False)\n",
            "        norm_x = (x-mean) / torch.sqrt(var + self.eps)\n",
            "        return self.scale * norm_x + self.shift\n",
            "\n",
            "first_batch\n",
            "embedding_dim = 768 \n",
            "ln = LayerNorm(embedding_dim)\n",
            "out_ln = ln(inputs)\n",
            "# expect mean = 0 and var = 1\n",
            "out_ln.mean(dim=-1), out_ln.var(dim=-1, unbiased=False)\n"
         ]
      },
      {
         "cell_type": "code",
         "execution_count": 27,
         "metadata": {},
         "outputs": [],
         "source": [
            "# GELU activation function\n",
            "\n",
            "class GELU(torch.nn.Module):\n",
            "    def __init__(self):\n",
            "        super().__init__()\n",
            "    \n",
            "    def forward(self, x):\n",
            "        value = 0.5 * x * (1 + torch.tanh(torch.sqrt(torch.tensor(2.0 / torch.pi)) * (x + 0.044715 * torch.pow(x, 3))))\n",
            "        return value\n",
            "\n"
         ]
      },
      {
         "cell_type": "code",
         "execution_count": 28,
         "metadata": {},
         "outputs": [
            {
               "data": {
                  "image/png": "[encoded data removed]",
                  "text/plain": [
                     "<Figure size 800x300 with 2 Axes>"
                  ]
               },
               "metadata": {},
               "output_type": "display_data"
            }
         ],
         "source": [
            "# GELU compared to RELU\n",
            "import matplotlib.pyplot as plt\n",
            "\n",
            "gelu, relu = GELU(), torch.nn.ReLU()\n",
            "\n",
            "x = torch.linspace(-3, 3, 100)\n",
            "\n",
            "gelu_out = gelu(x)\n",
            "relu_out = relu(x)\n",
            "\n",
            "plt.figure(figsize=(8, 3))\n",
            "for i, (y, label) in enumerate(zip([gelu_out, relu_out], [\"GELU\",\"RELU\"]), 1):\n",
            "    plt.subplot(1, 2, i)\n",
            "    plt.plot(x, y)\n",
            "    plt.title(f\"{label} activation function\")\n",
            "    plt.xlabel(\"x\")\n",
            "    plt.ylabel(f\"{label}(x)\")\n",
            "plt.tight_layout()\n",
            "plt.show()\n",
            "\n",
            "# GELU is a smooth, non-linear function that is differentiable at almost any negative value (except ~ -0.75). \n",
            "# Better optimisation due to:\n",
            "# 1. smoothness\n",
            "# 2. differential for negative values so these can contribute to the gradients/optimisation process"
         ]
      },
      {
         "cell_type": "code",
         "execution_count": 29,
         "metadata": {},
         "outputs": [
            {
               "name": "stdout",
               "output_type": "stream",
               "text": [
                  "{'vocab_size': 50257, 'context_length': 1024, 'emb_dim': 768, 'n_heads': 12, 'n_layers': 12, 'drop_rate': 0.1, 'qkv_bias': False}\n"
               ]
            }
         ],
         "source": [
            "# Feedforward with GELU\n",
            "# Feedforward layers enable richer representations through expansion to higher dimensions \n",
            "\n",
            "class FeedForward(torch.nn.Module):\n",
            "    def __init__(self, cfg):\n",
            "        super().__init__()\n",
            "        self.layers = torch.nn.Sequential(torch.nn.Linear(cfg['emb_dim'], 4*cfg['emb_dim']), GELU(), torch.nn.Linear(4 * cfg['emb_dim'], cfg['emb_dim']))\n",
            "    \n",
            "    def forward(self, x):\n",
            "        out = self.layers(x)\n",
            "        return out\n",
            "\n",
            "print(GPT_CONFIG_124M)\n",
            "\n",
            "ffn = FeedForward(GPT_CONFIG_124M)\n",
            "x = torch.randn((2, 3, 768))\n",
            "out = ffn(x)\n",
            "\n",
            "\n"
         ]
      },
      {
         "cell_type": "code",
         "execution_count": 30,
         "metadata": {},
         "outputs": [
            {
               "name": "stdout",
               "output_type": "stream",
               "text": [
                  "no skip\n",
                  "layers.0.0.weight has gradient mean of 0.00020173587836325169\n",
                  "layers.1.0.weight has gradient mean of 0.0001201116101583466\n",
                  "layers.2.0.weight has gradient mean of 0.0007152041071094573\n",
                  "layers.3.0.weight has gradient mean of 0.0013988735154271126\n",
                  "layers.4.0.weight has gradient mean of 0.005049645435065031\n",
                  "skip\n",
                  "layers.0.0.weight has gradient mean of 0.0014432291500270367\n",
                  "layers.1.0.weight has gradient mean of 0.004846951924264431\n",
                  "layers.2.0.weight has gradient mean of 0.004138893447816372\n",
                  "layers.3.0.weight has gradient mean of 0.005915115587413311\n",
                  "layers.4.0.weight has gradient mean of 0.032659437507390976\n"
               ]
            }
         ],
         "source": [
            "# Skip connections\n",
            "# Create an alternative path for the gradient flow by adding the output from layer to the output of a later layer \n",
            "# First applied in \"residual\" networks in computer vision\n",
            "# Help with optimisation process as the addition of the input (e.g x) to the output from a layer increase the magnitude of the values\n",
            "# Thus helps with the vanishing gradient problem\n",
            "\n",
            "class DeepNeuralNetwork(torch.nn.Module):\n",
            "    def __init__(self, layer_sizes, use_skip):\n",
            "        super().__init__()\n",
            "        self.use_skip = use_skip\n",
            "        self.layers = torch.nn.ModuleList([torch.nn.Sequential(torch.nn.Linear(layer_sizes[0], layer_sizes[1]), GELU()), torch.nn.Sequential(torch.nn.Linear(layer_sizes[1], layer_sizes[2]), GELU()), torch.nn.Sequential(torch.nn.Linear(layer_sizes[2], layer_sizes[3]), GELU()), torch.nn.Sequential(torch.nn.Linear(layer_sizes[3], layer_sizes[4]), GELU()), torch.nn.Sequential(torch.nn.Linear(layer_sizes[4], layer_sizes[5]), GELU())])\n",
            "    \n",
            "    def forward(self, x):\n",
            "        for layer in self.layers:\n",
            "            out = layer(x)\n",
            "            if self.use_skip and x.shape == out.shape:\n",
            "                x = out + x\n",
            "            else:\n",
            "                x = out\n",
            "        return x\n",
            "                \n",
            "layer_sizes = [3, 3, 3, 3, 3, 1]\n",
            "sample_input = torch.tensor([[1.0, 0., -1]])\n",
            "torch.manual_seed(123)\n",
            "model_no_skip = DeepNeuralNetwork(layer_sizes, False)\n",
            "\n",
            "def print_gradients(model, x):\n",
            "    output = model(x)\n",
            "    target = torch.tensor([[0.]])\n",
            "    loss = torch.nn.MSELoss()\n",
            "    loss = loss(output, target)\n",
            "    loss.backward()\n",
            "    for name, param in model.named_parameters():\n",
            "        if 'weight' in name:\n",
            "            print(f\"{name} has gradient mean of {param.grad.abs().mean().item()}\")\n",
            "\n",
            "\n",
            "print(\"no skip\")\n",
            "print_gradients(model_no_skip, sample_input)\n",
            "\n",
            "print(\"skip\")\n",
            "model_skip = DeepNeuralNetwork(layer_sizes, True)\n",
            "print_gradients(model_skip, sample_input)\n"
         ]
      },
      {
         "cell_type": "code",
         "execution_count": 31,
         "metadata": {},
         "outputs": [
            {
               "name": "stdout",
               "output_type": "stream",
               "text": [
                  "Input shape: torch.Size([2, 4, 768])\n",
                  "Output shape: torch.Size([2, 4, 768])\n"
               ]
            }
         ],
         "source": [
            "# Transformer implementation - combines all of the above\n",
            "\n",
            "class TransformerBlock(torch.nn.Module):\n",
            "    def __init__(self, cfg):\n",
            "        super().__init__()\n",
            "        self.att = MultiHeadAttention(\n",
            "            d_in=cfg[\"emb_dim\"],\n",
            "            d_out=cfg[\"emb_dim\"],\n",
            "            context_length=cfg[\"context_length\"],\n",
            "            num_heads=cfg[\"n_heads\"],\n",
            "            dropout=cfg[\"drop_rate\"],\n",
            "            qkv_bias=cfg[\"qkv_bias\"])\n",
            "        self.ff = FeedForward(cfg)\n",
            "        self.norm1 = LayerNorm(cfg[\"emb_dim\"])\n",
            "        self.norm2 = LayerNorm(cfg[\"emb_dim\"])\n",
            "        self.drop_shortcut = torch.nn.Dropout(cfg[\"drop_rate\"])\n",
            "    def forward(self, x):\n",
            "        shortcut = x\n",
            "        # layer norm\n",
            "        x = self.norm1(x)\n",
            "        # multihead attn\n",
            "        x = self.att(x)\n",
            "        # dropout\n",
            "        x = self.drop_shortcut(x)\n",
            "        # skip connection\n",
            "        x = x + shortcut\n",
            "        shortcut = x\n",
            "        # layer norm\n",
            "        x = self.norm2(x)\n",
            "        # feedforward\n",
            "        x = self.ff(x)\n",
            "        # dropout\n",
            "        x = self.drop_shortcut(x)\n",
            "        # skip connection\n",
            "        x = x + shortcut\n",
            "        return x\n",
            "\n",
            "\n",
            "torch.manual_seed(123)\n",
            "x = torch.rand(2, 4, 768)\n",
            "block = TransformerBlock(GPT_CONFIG_124M)\n",
            "output = block(x)\n",
            "print(\"Input shape:\", x.shape)\n",
            "print(\"Output shape:\", output.shape)\n",
            "\n",
            "# The preservation of shape throughout the transformer block\n",
            "# architecture is not incidental but a crucial aspect of its\n",
            "# design. This design enables its effective application across a\n",
            "# wide range of sequence-to-sequence tasks, where each\n",
            "# output vector directly corresponds to an input vector,\n",
            "# maintaining a one-to-one relationship"
         ]
      },
      {
         "cell_type": "code",
         "execution_count": 32,
         "metadata": {},
         "outputs": [
            {
               "name": "stdout",
               "output_type": "stream",
               "text": [
                  "torch.Size([2, 1024])\n",
                  "Input batch:\n",
                  " tensor([[   40,   367,  2885,  ...,   691, 12226,   318],\n",
                  "        [  367,  2885,  1464,  ..., 12226,   318,   284]])\n",
                  "\n",
                  "Output shape: torch.Size([2, 1024, 50257])\n",
                  "tensor([[[ 0.1187, -0.1796, -0.6110,  ...,  0.0130, -1.3194,  0.1855],\n",
                  "         [ 0.3433, -0.4382,  0.3009,  ..., -0.6556, -1.0232, -0.4446],\n",
                  "         [ 0.0872,  0.0704, -1.1122,  ..., -0.0253, -0.9942, -0.1097],\n",
                  "         ...,\n",
                  "         [ 0.0912,  1.0045,  0.0662,  ...,  0.1016, -0.2378,  0.0536],\n",
                  "         [ 0.0238,  0.8239, -0.7458,  ...,  0.1565, -0.5105, -0.4867],\n",
                  "         [-0.2985, -0.6460, -0.3411,  ..., -0.4631, -0.3258, -0.0331]],\n",
                  "\n",
                  "        [[-0.0576, -0.7426, -0.7723,  ...,  0.1837, -0.7695, -0.3656],\n",
                  "         [ 0.6787, -0.1122,  0.3471,  ..., -0.5583, -1.1185, -0.3215],\n",
                  "         [ 0.9600, -0.2068, -1.1007,  ...,  0.2360, -0.9795, -0.9828],\n",
                  "         ...,\n",
                  "         [-0.4394,  0.0363, -0.4366,  ..., -0.2182, -1.5601, -0.4550],\n",
                  "         [ 0.2571,  1.3750, -0.5499,  ..., -0.2535,  0.1757, -0.4047],\n",
                  "         [-0.6850,  0.3276, -0.8184,  ...,  0.4380, -0.2520, -0.1804]]],\n",
                  "       grad_fn=<UnsafeViewBackward0>)\n"
               ]
            }
         ],
         "source": [
            "# GPT Model\n",
            "from torch import nn\n",
            "\n",
            "class GPTModel(nn.Module):\n",
            "    def __init__(self, cfg):\n",
            "        super().__init__()\n",
            "        self.tok_emb = nn.Embedding(cfg[\"vocab_size\"], cfg[\"emb_dim\"])\n",
            "        self.pos_emb = nn.Embedding(cfg[\"context_length\"], cfg[\"emb_dim\"])\n",
            "        self.drop_emb = nn.Dropout(cfg[\"drop_rate\"])\n",
            "        self.trf_blocks = nn.Sequential(*[TransformerBlock(cfg) for _ in range(cfg[\"n_layers\"])])\n",
            "        self.final_norm = LayerNorm(cfg[\"emb_dim\"])\n",
            "        self.out_head = nn.Linear(cfg[\"emb_dim\"], cfg[\"vocab_size\"], bias=False)\n",
            "\n",
            "    def forward(self, in_idx):\n",
            "        batch_size, seq_len = in_idx.shape\n",
            "        tok_embeds = self.tok_emb(in_idx)\n",
            "        #1\n",
            "        pos_embeds = self.pos_emb(\n",
            "        torch.arange(seq_len, device=in_idx.device)\n",
            "        )\n",
            "        x = tok_embeds + pos_embeds\n",
            "        x = self.drop_emb(x)\n",
            "        x = self.trf_blocks(x)\n",
            "        x = self.final_norm(x)\n",
            "        logits = self.out_head(x)\n",
            "        return logits\n",
            "\n",
            "torch.manual_seed(123)\n",
            "model = GPTModel(GPT_CONFIG_124M)\n",
            "print(first_batch[0].shape)\n",
            "out = model(first_batch[0])\n",
            "print(\"Input batch:\\n\", first_batch[0])\n",
            "print(\"\\nOutput shape:\", out.shape)\n",
            "print(out)\n"
         ]
      },
      {
         "cell_type": "code",
         "execution_count": 33,
         "metadata": {},
         "outputs": [
            {
               "name": "stdout",
               "output_type": "stream",
               "text": [
                  "Total number of parameters: 163,037,184\n",
                  "Token embedding layer shape: torch.Size([50257, 768])\n",
                  "Output layer shape: torch.Size([50257, 768])\n",
                  "Number of trainable parameters considering weight tying: 124,439,808\n"
               ]
            }
         ],
         "source": [
            "total_params = sum(p.numel() for p in model.parameters())\n",
            "print(f\"Total number of parameters: {total_params:,}\")\n",
            "print(\"Token embedding layer shape:\", model.tok_emb.weight.shape)\n",
            "print(\"Output layer shape:\", model.out_head.weight.shape)\n",
            "\n",
            "total_params_gpt2 = (\n",
            "total_params - sum(p.numel()\n",
            "for p in model.out_head.parameters())\n",
            ")\n",
            "print(f\"Number of trainable parameters \"\n",
            "f\"considering weight tying: {total_params_gpt2:,}\"\n",
            ")"
         ]
      },
      {
         "cell_type": "code",
         "execution_count": 34,
         "metadata": {},
         "outputs": [
            {
               "name": "stdout",
               "output_type": "stream",
               "text": [
                  "feedfordward params 56669184, attn params 28348416\n"
               ]
            }
         ],
         "source": [
            "# exercise\n",
            "# Calculate and compare the number of parameters that are\n",
            "# contained in the feed forward module and those that are\n",
            "# contained in the multi-head attention module.\n",
            "\n",
            "feedforward_params = 0\n",
            "attn_params = 0\n",
            "for i in range(len(model.trf_blocks)):\n",
            "    feedforward_params+= sum(p.numel() for p in model.trf_blocks[i].ff.parameters())\n",
            "    attn_params += sum(p.numel() for p in model.trf_blocks[i].att.parameters())\n",
            "print(f\"feedfordward params {feedforward_params}, attn params {attn_params}\")"
         ]
      },
      {
         "cell_type": "code",
         "execution_count": 35,
         "metadata": {},
         "outputs": [
            {
               "name": "stdout",
               "output_type": "stream",
               "text": [
                  "Total size of the model: 621.94 MB\n"
               ]
            }
         ],
         "source": [
            "total_size_bytes = total_params * 4 # 4 bytes per float32 parameter\n",
            "total_size_mb = total_size_bytes / (1024 * 1024)\n",
            "print(f\"Total size of the model: {total_size_mb:.2f} MB\")"
         ]
      },
      {
         "cell_type": "code",
         "execution_count": 36,
         "metadata": {},
         "outputs": [
            {
               "name": "stdout",
               "output_type": "stream",
               "text": [
                  "large params 838359040\n",
                  "large model size 3198.09 MB\n"
               ]
            }
         ],
         "source": [
            "# exercise\n",
            "# implement GPT2-large and count params\n",
            "\n",
            "GPT_CONFIG_124M\n",
            "GPT_CONFIG_L = {\"vocab_size\": 50257, \"context_length\": 1024, \"emb_dim\": 1280, \"n_heads\": 20, \"n_layers\": 36, \"drop_rate\": 0.1, \"qkv_bias\": False}\n",
            "\n",
            "large_model = GPTModel(GPT_CONFIG_L)\n",
            "large_params = sum(p.numel() for p in large_model.parameters())\n",
            "large_size = (large_params * 4) / (1024*1024)\n",
            "print(f\"large params {large_params}\")\n",
            "print(f\"large model size {large_size:.2f} MB\")"
         ]
      },
      {
         "cell_type": "code",
         "execution_count": 37,
         "metadata": {},
         "outputs": [
            {
               "name": "stdout",
               "output_type": "stream",
               "text": [
                  "[15496, 314, 716]\n"
               ]
            },
            {
               "data": {
                  "text/plain": [
                     "'Hello I am Basdxjected Roosevelt rateoby FaceALL disappearsarmac'"
                  ]
               },
               "execution_count": 37,
               "metadata": {},
               "output_type": "execute_result"
            }
         ],
         "source": [
            "# generate text\n",
            "def generate_text_simple(model, idx, max_new_tokens, context_size):\n",
            "    for _ in range(max_new_tokens):\n",
            "        idx_cond = idx[:, -context_size:]\n",
            "        with torch.no_grad():\n",
            "            logits = model(idx_cond)\n",
            "        # last \"timestep\"/token i.e model generated output vs context\n",
            "        logits = logits[:, -1, :]\n",
            "        probas = torch.softmax(logits, dim=-1)\n",
            "        idx_next = torch.argmax(probas, dim=-1, keepdim=True)\n",
            "        # cat the predicted token to the context for the next iteration\n",
            "        idx = torch.cat((idx, idx_next), dim=1)\n",
            "    return idx\n",
            "\n",
            "start_context = \"Hello I am\"\n",
            "encoded = tokenizer.encode(start_context)\n",
            "print(encoded)\n",
            "enc_input = torch.tensor(encoded).unsqueeze(0)\n",
            "model.eval()\n",
            "next_iter = generate_text_simple(model, enc_input, 10, GPT_CONFIG_124M['context_length'])\n",
            "next_iter\n",
            "decoded_text = tokenizer.decode(next_iter.squeeze(0).tolist())\n",
            "decoded_text\n"
         ]
      },
      {
         "cell_type": "code",
         "execution_count": 38,
         "metadata": {},
         "outputs": [
            {
               "data": {
                  "text/plain": [
                     "GPTModel(\n",
                     "  (tok_emb): Embedding(50257, 768)\n",
                     "  (pos_emb): Embedding(256, 768)\n",
                     "  (drop_emb): Dropout(p=0.1, inplace=False)\n",
                     "  (trf_blocks): Sequential(\n",
                     "    (0): TransformerBlock(\n",
                     "      (att): MultiHeadAttention(\n",
                     "        (Q): Linear(in_features=768, out_features=768, bias=True)\n",
                     "        (K): Linear(in_features=768, out_features=768, bias=True)\n",
                     "        (V): Linear(in_features=768, out_features=768, bias=True)\n",
                     "        (out_proj): Linear(in_features=768, out_features=768, bias=True)\n",
                     "        (dropout): Dropout(p=0.1, inplace=False)\n",
                     "      )\n",
                     "      (ff): FeedForward(\n",
                     "        (layers): Sequential(\n",
                     "          (0): Linear(in_features=768, out_features=3072, bias=True)\n",
                     "          (1): GELU()\n",
                     "          (2): Linear(in_features=3072, out_features=768, bias=True)\n",
                     "        )\n",
                     "      )\n",
                     "      (norm1): LayerNorm()\n",
                     "      (norm2): LayerNorm()\n",
                     "      (drop_shortcut): Dropout(p=0.1, inplace=False)\n",
                     "    )\n",
                     "    (1): TransformerBlock(\n",
                     "      (att): MultiHeadAttention(\n",
                     "        (Q): Linear(in_features=768, out_features=768, bias=True)\n",
                     "        (K): Linear(in_features=768, out_features=768, bias=True)\n",
                     "        (V): Linear(in_features=768, out_features=768, bias=True)\n",
                     "        (out_proj): Linear(in_features=768, out_features=768, bias=True)\n",
                     "        (dropout): Dropout(p=0.1, inplace=False)\n",
                     "      )\n",
                     "      (ff): FeedForward(\n",
                     "        (layers): Sequential(\n",
                     "          (0): Linear(in_features=768, out_features=3072, bias=True)\n",
                     "          (1): GELU()\n",
                     "          (2): Linear(in_features=3072, out_features=768, bias=True)\n",
                     "        )\n",
                     "      )\n",
                     "      (norm1): LayerNorm()\n",
                     "      (norm2): LayerNorm()\n",
                     "      (drop_shortcut): Dropout(p=0.1, inplace=False)\n",
                     "    )\n",
                     "    (2): TransformerBlock(\n",
                     "      (att): MultiHeadAttention(\n",
                     "        (Q): Linear(in_features=768, out_features=768, bias=True)\n",
                     "        (K): Linear(in_features=768, out_features=768, bias=True)\n",
                     "        (V): Linear(in_features=768, out_features=768, bias=True)\n",
                     "        (out_proj): Linear(in_features=768, out_features=768, bias=True)\n",
                     "        (dropout): Dropout(p=0.1, inplace=False)\n",
                     "      )\n",
                     "      (ff): FeedForward(\n",
                     "        (layers): Sequential(\n",
                     "          (0): Linear(in_features=768, out_features=3072, bias=True)\n",
                     "          (1): GELU()\n",
                     "          (2): Linear(in_features=3072, out_features=768, bias=True)\n",
                     "        )\n",
                     "      )\n",
                     "      (norm1): LayerNorm()\n",
                     "      (norm2): LayerNorm()\n",
                     "      (drop_shortcut): Dropout(p=0.1, inplace=False)\n",
                     "    )\n",
                     "    (3): TransformerBlock(\n",
                     "      (att): MultiHeadAttention(\n",
                     "        (Q): Linear(in_features=768, out_features=768, bias=True)\n",
                     "        (K): Linear(in_features=768, out_features=768, bias=True)\n",
                     "        (V): Linear(in_features=768, out_features=768, bias=True)\n",
                     "        (out_proj): Linear(in_features=768, out_features=768, bias=True)\n",
                     "        (dropout): Dropout(p=0.1, inplace=False)\n",
                     "      )\n",
                     "      (ff): FeedForward(\n",
                     "        (layers): Sequential(\n",
                     "          (0): Linear(in_features=768, out_features=3072, bias=True)\n",
                     "          (1): GELU()\n",
                     "          (2): Linear(in_features=3072, out_features=768, bias=True)\n",
                     "        )\n",
                     "      )\n",
                     "      (norm1): LayerNorm()\n",
                     "      (norm2): LayerNorm()\n",
                     "      (drop_shortcut): Dropout(p=0.1, inplace=False)\n",
                     "    )\n",
                     "    (4): TransformerBlock(\n",
                     "      (att): MultiHeadAttention(\n",
                     "        (Q): Linear(in_features=768, out_features=768, bias=True)\n",
                     "        (K): Linear(in_features=768, out_features=768, bias=True)\n",
                     "        (V): Linear(in_features=768, out_features=768, bias=True)\n",
                     "        (out_proj): Linear(in_features=768, out_features=768, bias=True)\n",
                     "        (dropout): Dropout(p=0.1, inplace=False)\n",
                     "      )\n",
                     "      (ff): FeedForward(\n",
                     "        (layers): Sequential(\n",
                     "          (0): Linear(in_features=768, out_features=3072, bias=True)\n",
                     "          (1): GELU()\n",
                     "          (2): Linear(in_features=3072, out_features=768, bias=True)\n",
                     "        )\n",
                     "      )\n",
                     "      (norm1): LayerNorm()\n",
                     "      (norm2): LayerNorm()\n",
                     "      (drop_shortcut): Dropout(p=0.1, inplace=False)\n",
                     "    )\n",
                     "    (5): TransformerBlock(\n",
                     "      (att): MultiHeadAttention(\n",
                     "        (Q): Linear(in_features=768, out_features=768, bias=True)\n",
                     "        (K): Linear(in_features=768, out_features=768, bias=True)\n",
                     "        (V): Linear(in_features=768, out_features=768, bias=True)\n",
                     "        (out_proj): Linear(in_features=768, out_features=768, bias=True)\n",
                     "        (dropout): Dropout(p=0.1, inplace=False)\n",
                     "      )\n",
                     "      (ff): FeedForward(\n",
                     "        (layers): Sequential(\n",
                     "          (0): Linear(in_features=768, out_features=3072, bias=True)\n",
                     "          (1): GELU()\n",
                     "          (2): Linear(in_features=3072, out_features=768, bias=True)\n",
                     "        )\n",
                     "      )\n",
                     "      (norm1): LayerNorm()\n",
                     "      (norm2): LayerNorm()\n",
                     "      (drop_shortcut): Dropout(p=0.1, inplace=False)\n",
                     "    )\n",
                     "    (6): TransformerBlock(\n",
                     "      (att): MultiHeadAttention(\n",
                     "        (Q): Linear(in_features=768, out_features=768, bias=True)\n",
                     "        (K): Linear(in_features=768, out_features=768, bias=True)\n",
                     "        (V): Linear(in_features=768, out_features=768, bias=True)\n",
                     "        (out_proj): Linear(in_features=768, out_features=768, bias=True)\n",
                     "        (dropout): Dropout(p=0.1, inplace=False)\n",
                     "      )\n",
                     "      (ff): FeedForward(\n",
                     "        (layers): Sequential(\n",
                     "          (0): Linear(in_features=768, out_features=3072, bias=True)\n",
                     "          (1): GELU()\n",
                     "          (2): Linear(in_features=3072, out_features=768, bias=True)\n",
                     "        )\n",
                     "      )\n",
                     "      (norm1): LayerNorm()\n",
                     "      (norm2): LayerNorm()\n",
                     "      (drop_shortcut): Dropout(p=0.1, inplace=False)\n",
                     "    )\n",
                     "    (7): TransformerBlock(\n",
                     "      (att): MultiHeadAttention(\n",
                     "        (Q): Linear(in_features=768, out_features=768, bias=True)\n",
                     "        (K): Linear(in_features=768, out_features=768, bias=True)\n",
                     "        (V): Linear(in_features=768, out_features=768, bias=True)\n",
                     "        (out_proj): Linear(in_features=768, out_features=768, bias=True)\n",
                     "        (dropout): Dropout(p=0.1, inplace=False)\n",
                     "      )\n",
                     "      (ff): FeedForward(\n",
                     "        (layers): Sequential(\n",
                     "          (0): Linear(in_features=768, out_features=3072, bias=True)\n",
                     "          (1): GELU()\n",
                     "          (2): Linear(in_features=3072, out_features=768, bias=True)\n",
                     "        )\n",
                     "      )\n",
                     "      (norm1): LayerNorm()\n",
                     "      (norm2): LayerNorm()\n",
                     "      (drop_shortcut): Dropout(p=0.1, inplace=False)\n",
                     "    )\n",
                     "    (8): TransformerBlock(\n",
                     "      (att): MultiHeadAttention(\n",
                     "        (Q): Linear(in_features=768, out_features=768, bias=True)\n",
                     "        (K): Linear(in_features=768, out_features=768, bias=True)\n",
                     "        (V): Linear(in_features=768, out_features=768, bias=True)\n",
                     "        (out_proj): Linear(in_features=768, out_features=768, bias=True)\n",
                     "        (dropout): Dropout(p=0.1, inplace=False)\n",
                     "      )\n",
                     "      (ff): FeedForward(\n",
                     "        (layers): Sequential(\n",
                     "          (0): Linear(in_features=768, out_features=3072, bias=True)\n",
                     "          (1): GELU()\n",
                     "          (2): Linear(in_features=3072, out_features=768, bias=True)\n",
                     "        )\n",
                     "      )\n",
                     "      (norm1): LayerNorm()\n",
                     "      (norm2): LayerNorm()\n",
                     "      (drop_shortcut): Dropout(p=0.1, inplace=False)\n",
                     "    )\n",
                     "    (9): TransformerBlock(\n",
                     "      (att): MultiHeadAttention(\n",
                     "        (Q): Linear(in_features=768, out_features=768, bias=True)\n",
                     "        (K): Linear(in_features=768, out_features=768, bias=True)\n",
                     "        (V): Linear(in_features=768, out_features=768, bias=True)\n",
                     "        (out_proj): Linear(in_features=768, out_features=768, bias=True)\n",
                     "        (dropout): Dropout(p=0.1, inplace=False)\n",
                     "      )\n",
                     "      (ff): FeedForward(\n",
                     "        (layers): Sequential(\n",
                     "          (0): Linear(in_features=768, out_features=3072, bias=True)\n",
                     "          (1): GELU()\n",
                     "          (2): Linear(in_features=3072, out_features=768, bias=True)\n",
                     "        )\n",
                     "      )\n",
                     "      (norm1): LayerNorm()\n",
                     "      (norm2): LayerNorm()\n",
                     "      (drop_shortcut): Dropout(p=0.1, inplace=False)\n",
                     "    )\n",
                     "    (10): TransformerBlock(\n",
                     "      (att): MultiHeadAttention(\n",
                     "        (Q): Linear(in_features=768, out_features=768, bias=True)\n",
                     "        (K): Linear(in_features=768, out_features=768, bias=True)\n",
                     "        (V): Linear(in_features=768, out_features=768, bias=True)\n",
                     "        (out_proj): Linear(in_features=768, out_features=768, bias=True)\n",
                     "        (dropout): Dropout(p=0.1, inplace=False)\n",
                     "      )\n",
                     "      (ff): FeedForward(\n",
                     "        (layers): Sequential(\n",
                     "          (0): Linear(in_features=768, out_features=3072, bias=True)\n",
                     "          (1): GELU()\n",
                     "          (2): Linear(in_features=3072, out_features=768, bias=True)\n",
                     "        )\n",
                     "      )\n",
                     "      (norm1): LayerNorm()\n",
                     "      (norm2): LayerNorm()\n",
                     "      (drop_shortcut): Dropout(p=0.1, inplace=False)\n",
                     "    )\n",
                     "    (11): TransformerBlock(\n",
                     "      (att): MultiHeadAttention(\n",
                     "        (Q): Linear(in_features=768, out_features=768, bias=True)\n",
                     "        (K): Linear(in_features=768, out_features=768, bias=True)\n",
                     "        (V): Linear(in_features=768, out_features=768, bias=True)\n",
                     "        (out_proj): Linear(in_features=768, out_features=768, bias=True)\n",
                     "        (dropout): Dropout(p=0.1, inplace=False)\n",
                     "      )\n",
                     "      (ff): FeedForward(\n",
                     "        (layers): Sequential(\n",
                     "          (0): Linear(in_features=768, out_features=3072, bias=True)\n",
                     "          (1): GELU()\n",
                     "          (2): Linear(in_features=3072, out_features=768, bias=True)\n",
                     "        )\n",
                     "      )\n",
                     "      (norm1): LayerNorm()\n",
                     "      (norm2): LayerNorm()\n",
                     "      (drop_shortcut): Dropout(p=0.1, inplace=False)\n",
                     "    )\n",
                     "  )\n",
                     "  (final_norm): LayerNorm()\n",
                     "  (out_head): Linear(in_features=768, out_features=50257, bias=False)\n",
                     ")"
                  ]
               },
               "execution_count": 38,
               "metadata": {},
               "output_type": "execute_result"
            }
         ],
         "source": [
            "# Chapter 5\n",
            "# Pretraining\n",
            "\n",
            "GPT_CONFIG_124M = {\n",
            "    \"vocab_size\": 50257,\n",
            "    \"context_length\": 256,\n",
            "    \"emb_dim\": 768,\n",
            "    \"n_heads\": 12,\n",
            "    \"n_layers\": 12,\n",
            "    \"drop_rate\": 0.1,\n",
            "    \"qkv_bias\": False\n",
            "}\n",
            "torch.manual_seed(123)\n",
            "model = GPTModel(GPT_CONFIG_124M)\n",
            "model.eval()"
         ]
      },
      {
         "cell_type": "code",
         "execution_count": 39,
         "metadata": {},
         "outputs": [
            {
               "name": "stdout",
               "output_type": "stream",
               "text": [
                  "Output text:\n",
                  " Every effort moves you 107 Holo analystsaiden Behampamr raidinguro覚醒\n"
               ]
            }
         ],
         "source": [
            "def text_to_token_ids(text, tokenizer):\n",
            "    encoded = tokenizer.encode(text, allowed_special={'<|endoftext|>'})\n",
            "    encoded_tensor = torch.tensor(encoded).unsqueeze(0)\n",
            "    #1\n",
            "    return encoded_tensor\n",
            "def token_ids_to_text(token_ids, tokenizer):\n",
            "    flat = token_ids.squeeze(0)\n",
            "    return tokenizer.decode(flat.tolist())\n",
            "\n",
            "start_context = \"Every effort moves you\"\n",
            "tokenizer = tiktoken.get_encoding(\"gpt2\")\n",
            "\n",
            "token_ids = generate_text_simple(\n",
            "    model=model,\n",
            "    idx=text_to_token_ids(start_context, tokenizer),\n",
            "    max_new_tokens=10,\n",
            "    context_size=GPT_CONFIG_124M[\"context_length\"]\n",
            ")\n",
            "print(\"Output text:\\n\", token_ids_to_text(token_ids, tokenizer))"
         ]
      },
      {
         "cell_type": "code",
         "execution_count": 40,
         "metadata": {},
         "outputs": [
            {
               "name": "stdout",
               "output_type": "stream",
               "text": [
                  "Characters: 20479\n",
                  "Tokens: 5145\n"
               ]
            }
         ],
         "source": [
            "file_path = \"the-verdict.txt\"\n",
            "with open(file_path, \"r\", encoding=\"utf-8\") as file:\n",
            "    text_data = file.read()\n",
            "total_characters = len(text_data)\n",
            "total_tokens = len(tokenizer.encode(text_data))\n",
            "print(\"Characters:\", total_characters)\n",
            "print(\"Tokens:\", total_tokens)\n",
            "\n",
            "train_ratio = 0.90\n",
            "split_idx = int(train_ratio * len(text_data))\n",
            "train_data = text_data[:split_idx]\n",
            "val_data = text_data[split_idx:]"
         ]
      },
      {
         "cell_type": "code",
         "execution_count": 41,
         "metadata": {},
         "outputs": [],
         "source": [
            "\n",
            "torch.manual_seed(123)\n",
            "train_loader = create_dataloader_v1(\n",
            "    train_data,\n",
            "    batch_size=2,\n",
            "    max_length=GPT_CONFIG_124M[\"context_length\"],\n",
            "    stride=GPT_CONFIG_124M[\"context_length\"],\n",
            "    drop_last=True,\n",
            "    shuffle=True,\n",
            "    num_workers=0\n",
            ")\n",
            "val_loader = create_dataloader_v1(\n",
            "    val_data,\n",
            "    batch_size=2,\n",
            "    max_length=GPT_CONFIG_124M[\"context_length\"],\n",
            "    stride=GPT_CONFIG_124M[\"context_length\"],\n",
            "    drop_last=False,\n",
            "    shuffle=False,\n",
            "    num_workers=0\n",
            ")"
         ]
      },
      {
         "cell_type": "code",
         "execution_count": 42,
         "metadata": {},
         "outputs": [
            {
               "name": "stdout",
               "output_type": "stream",
               "text": [
                  "Train loader:\n",
                  "torch.Size([2, 256]) torch.Size([2, 256])\n",
                  "torch.Size([2, 256]) torch.Size([2, 256])\n",
                  "torch.Size([2, 256]) torch.Size([2, 256])\n",
                  "torch.Size([2, 256]) torch.Size([2, 256])\n",
                  "torch.Size([2, 256]) torch.Size([2, 256])\n",
                  "torch.Size([2, 256]) torch.Size([2, 256])\n",
                  "torch.Size([2, 256]) torch.Size([2, 256])\n",
                  "torch.Size([2, 256]) torch.Size([2, 256])\n",
                  "torch.Size([2, 256]) torch.Size([2, 256])\n",
                  "\n",
                  "Validation loader:\n",
                  "torch.Size([2, 256]) torch.Size([2, 256])\n"
               ]
            }
         ],
         "source": [
            "print(\"Train loader:\")\n",
            "for x, y in train_loader:\n",
            "    print(x.shape, y.shape)\n",
            "print(\"\\nValidation loader:\")\n",
            "\n",
            "for x, y in val_loader:\n",
            "    print(x.shape, y.shape)"
         ]
      },
      {
         "cell_type": "code",
         "execution_count": 43,
         "metadata": {},
         "outputs": [
            {
               "name": "stdout",
               "output_type": "stream",
               "text": [
                  "train loss 10.99\n",
                  "val loss 10.97\n"
               ]
            }
         ],
         "source": [
            "def calc_loss_batch(train_batch, target_batch, model, device):\n",
            "    train_batch = train_batch.to(device)\n",
            "    target_batch = target_batch.to(device)\n",
            "    preds = model(train_batch)\n",
            "    # flatten converts preds [9, 2, 256] --> [18, 256]; target_batch [9, 2] --> [18]\n",
            "    loss = torch.nn.functional.cross_entropy(preds.flatten(0, 1), target_batch.flatten(0))\n",
            "    return loss\n",
            "\n",
            "def calc_loss_loader(data_loader, model, device, num_batches=None):\n",
            "    total_loss = 0.\n",
            "    if len(data_loader) == 0:\n",
            "        return float(\"nan\")\n",
            "    elif num_batches is None:\n",
            "        num_batches = len(data_loader)\n",
            "    else:\n",
            "        num_batches = min(num_batches, len(data_loader)) \n",
            "    for i, (input_batch, target_batch) in enumerate(data_loader):\n",
            "        if i < num_batches:\n",
            "            loss = calc_loss_batch(input_batch, target_batch, model, device)\n",
            "            total_loss += loss.item()\n",
            "        else:\n",
            "            break\n",
            "    return total_loss / num_batches\n",
            "\n",
            "device = torch.device(\"cuda\" if torch.cuda.is_available() else \"cpu\")\n",
            "model.to(device)\n",
            "with torch.no_grad():\n",
            "    train_loss = calc_loss_loader(train_loader, model, device, 2)\n",
            "    val_loss = calc_loss_loader(train_loader, model, device, 2)\n",
            "print(f\"train loss {train_loss:.2f}\")\n",
            "print(f\"val loss {val_loss:.2f}\")\n",
            "\n",
            "\n",
            "\n",
            "\n",
            "\n",
            "\n"
         ]
      },
      {
         "cell_type": "code",
         "execution_count": 44,
         "metadata": {},
         "outputs": [
            {
               "name": "stdout",
               "output_type": "stream",
               "text": [
                  "Ep 1 (Step 000000): Train loss 9.680, Val loss 10.028\n",
                  "Ep 1 (Step 000005): Train loss 7.938, Val loss 8.265\n",
                  "Every effort moves you, the, the, the of the of the of the of the of the of the of the, of the of the of the of the of the of the of the of the of the of the of the of the of the of the of\n",
                  "Ep 2 (Step 000010): Train loss 6.516, Val loss 7.051\n",
                  "Ep 2 (Step 000015): Train loss 5.785, Val loss 6.538\n",
                  "Every effort moves you. \", and, and, and he was, and, and in the of the of the of the of the of the of the of the of the of the of the of the of the of the of the of the of the of\n",
                  "Ep 3 (Step 000020): Train loss 4.923, Val loss 6.539\n",
                  "Ep 3 (Step 000025): Train loss 4.758, Val loss 6.240\n",
                  "Every effort moves you he was, in a was, in a little--I had been. Gisburn's was, in the, I had been to see it was a little of my, as he was a little of the picture--I had been was a\n",
                  "Ep 4 (Step 000030): Train loss 3.695, Val loss 6.204\n",
                  "Ep 4 (Step 000035): Train loss 3.142, Val loss 6.177\n",
                  "Every effort moves you know, I had been the picture, the--and the picture, and in the picture--and a little the fact, and in the. \"I the picture, he had the picture.          \n",
                  "Ep 5 (Step 000040): Train loss 2.439, Val loss 6.181\n",
                  "Every effort moves you know, and my dear, and he was not the fact with the in the and it was no--that was the women had been his pictures--his--as he had been his pictures--the quality of the my dear, and he was his\n",
                  "Ep 6 (Step 000045): Train loss 1.799, Val loss 6.198\n",
                  "Ep 6 (Step 000050): Train loss 1.472, Val loss 6.260\n",
                  "Every effort moves you in the, my-rooms, as his pictures--and by the in a and it was his eyes and in theed it. Gisburn. Stroud.  \"I didn't know of Jack's \"strong he had been his\n",
                  "Ep 7 (Step 000055): Train loss 1.080, Val loss 6.335\n",
                  "Ep 7 (Step 000060): Train loss 0.828, Val loss 6.329\n",
                  "Every effort moves you in the inevitable garlanded to have been--I told Mrs.                                    \n",
                  "Ep 8 (Step 000065): Train loss 0.435, Val loss 6.432\n",
                  "Ep 8 (Step 000070): Train loss 0.272, Val loss 6.449\n",
                  "Every effort moves you in the inevitable garlanded to have been the the fact with the background of the house.\"  \" went on groping and muddling; and he _not_ interesting--his own of the donkey, and were amusing himself by holding\n",
                  "Ep 9 (Step 000075): Train loss 0.158, Val loss 6.485\n",
                  "Ep 9 (Step 000080): Train loss 0.094, Val loss 6.538\n",
                  "Every effort moves you know,\" was not that my hostess was \"interesting\": on the Sevres and silver was no great surprise to me to hear that, in the moment--as Jack himself, as once one had been hard in a fashionable painter--that I had\n",
                  "Ep 10 (Step 000085): Train loss 0.064, Val loss 6.556\n",
                  "Every effort moves you know,\" was not that my hostess was \"interesting\": on that point I could have disarming, and went on groping and muddling; then I looked at the donkey again. \"I must add--because he didn't want\n"
               ]
            }
         ],
         "source": [
            "\n",
            "\n",
            "def evaluate_model(model, train_loader, val_loader, device, eval_iter):\n",
            "    model.eval() \n",
            "    with torch.no_grad():\n",
            "        train_loss = calc_loss_loader(\n",
            "            train_loader, model, device, num_batches=eval_iter\n",
            "        )\n",
            "        val_loss = calc_loss_loader(\n",
            "            val_loader, model, device, num_batches=eval_iter\n",
            "        )\n",
            "    model.train()\n",
            "    return train_loss, val_loss\n",
            "\n",
            "def generate_and_print_sample(model, tokenizer, device, start_context):\n",
            "    model.eval()\n",
            "    context_size = model.pos_emb.weight.shape[0]\n",
            "    encoded = text_to_token_ids(start_context, tokenizer).to(device)\n",
            "    with torch.no_grad():\n",
            "        token_ids = generate_text_simple(\n",
            "            model=model, idx=encoded,\n",
            "            max_new_tokens=50, context_size=context_size\n",
            "        )\n",
            "    decoded_text = token_ids_to_text(token_ids, tokenizer)\n",
            "    print(decoded_text.replace(\"\\n\", \" \"))\n",
            "    model.train()\n",
            "\n",
            "\n",
            "def train_model_simple(model, train_loader, val_loader, optimizer, device, num_epochs,eval_freq, eval_iter, start_context, tokenizer):\n",
            "    train_losses, val_losses, track_tokens_seen = [], [], []\n",
            "    tokens_seen, global_step = 0, -1\n",
            "    for epoch in range(num_epochs):\n",
            "        model.train()\n",
            "        for input_batch, target_batch in train_loader:\n",
            "            optimizer.zero_grad()\n",
            "            loss = calc_loss_batch(input_batch, target_batch, model, device)\n",
            "            loss.backward()\n",
            "            optimizer.step()\n",
            "            tokens_seen += input_batch.numel()\n",
            "            global_step += 1\n",
            "            if global_step % eval_freq == 0:\n",
            "                train_loss, val_loss = evaluate_model(model, train_loader, val_loader, device, eval_iter)\n",
            "                train_losses.append(train_loss)\n",
            "                val_losses.append(val_loss)\n",
            "                track_tokens_seen.append(tokens_seen)\n",
            "                print(f\"Ep {epoch+1} (Step {global_step:06d}): \"\n",
            "                        f\"Train loss {train_loss:.3f}, \"\n",
            "                        f\"Val loss {val_loss:.3f}\"\n",
            "                )\n",
            "        generate_and_print_sample(model, tokenizer, device, start_context)\n",
            "    return train_losses, val_losses, track_tokens_seen\n",
            "\n",
            "torch.manual_seed(123)\n",
            "model = GPTModel(GPT_CONFIG_124M)\n",
            "model.to(device)\n",
            "optimizer = torch.optim.AdamW(\n",
            "    model.parameters(),\n",
            "    lr=0.0004, weight_decay=0.1\n",
            ")\n",
            "num_epochs = 10\n",
            "train_losses, val_losses, tokens_seen = train_model_simple(\n",
            "    model, train_loader, val_loader, optimizer, device,\n",
            "    num_epochs=num_epochs, eval_freq=5, eval_iter=5,\n",
            "    start_context=\"Every effort moves you\", tokenizer=tokenizer\n",
            ")\n",
            "\n"
         ]
      },
      {
         "cell_type": "code",
         "execution_count": 46,
         "metadata": {},
         "outputs": [
            {
               "data": {
                  "image/png": "[encoded data removed]",
                  "text/plain": [
                     "<Figure size 500x300 with 2 Axes>"
                  ]
               },
               "metadata": {},
               "output_type": "display_data"
            }
         ],
         "source": [
            "import matplotlib.pyplot as plt\n",
            "from matplotlib.ticker import MaxNLocator\n",
            "\n",
            "def plot_losses(epochs_seen, tokens_seen, train_losses, val_losses):\n",
            "    fig, ax1 = plt.subplots(figsize=(5, 3))\n",
            "    ax1.plot(epochs_seen, train_losses, label=\"Training loss\")\n",
            "    ax1.plot(\n",
            "        epochs_seen, val_losses, linestyle=\"-.\", label=\"Validation loss\"\n",
            "    )\n",
            "    ax1.set_xlabel(\"Epochs\")\n",
            "    ax1.set_ylabel(\"Loss\")\n",
            "    ax1.legend(loc=\"upper right\")\n",
            "    ax1.xaxis.set_major_locator(MaxNLocator(integer=True))\n",
            "    ax2 = ax1.twiny()\n",
            "    #1\n",
            "    ax2.plot(tokens_seen, train_losses, alpha=0)\n",
            "    ax2.set_xlabel(\"Tokens seen\")\n",
            "    fig.tight_layout()\n",
            "    plt.show()\n",
            "\n",
            "epochs_tensor = torch.linspace(0, num_epochs, len(train_losses))\n",
            "plot_losses(epochs_tensor, tokens_seen, train_losses, val_losses)"
         ]
      },
      {
         "cell_type": "code",
         "execution_count": 48,
         "metadata": {},
         "outputs": [
            {
               "data": {
                  "text/plain": [
                     "'every effort moves you know,\" was not that my hostess was \"interesting\": on that point I could have disarming, and went on grop'"
                  ]
               },
               "execution_count": 48,
               "metadata": {},
               "output_type": "execute_result"
            }
         ],
         "source": [
            "model.to(\"cpu\")\n",
            "model.eval()\n",
            "\n",
            "tokenizer = tiktoken.get_encoding(\"gpt2\")\n",
            "token_ids = generate_text_simple(model, text_to_token_ids(\"every effort moves you\", tokenizer), max_new_tokens=25, context_size=GPT_CONFIG_124M['context_length'])\n",
            "text = token_ids_to_text(token_ids, tokenizer)\n",
            "text\n"
         ]
      },
      {
         "cell_type": "code",
         "execution_count": 65,
         "metadata": {},
         "outputs": [
            {
               "name": "stdout",
               "output_type": "stream",
               "text": [
                  "forward\n",
                  "forward\n",
                  "73 x closer\n",
                  "0 x every\n",
                  "0 x effort\n",
                  "582 x forward\n",
                  "2 x inches\n",
                  "0 x moves\n",
                  "0 x pizza\n",
                  "343 x toward\n"
               ]
            }
         ],
         "source": [
            "# text generation methods to introduce variation in the outpt\n",
            "vocab = {\n",
            "\"closer\": 0,\n",
            "\"every\": 1,\n",
            "\"effort\": 2,\n",
            "\"forward\": 3,\n",
            "\"inches\": 4,\n",
            "\"moves\": 5,\n",
            "\"pizza\": 6,\n",
            "\"toward\": 7,\n",
            "\"you\": 8,\n",
            "}\n",
            "inverse_vocab = {v: k for k, v in vocab.items()}\n",
            "next_token_logits = torch.tensor(\n",
            "    [4.51, 0.89, -1.90, 6.75, 1.63, -1.62, -1.89, 6.28, 1.79]\n",
            ")\n",
            "probas = torch.softmax(next_token_logits, dim=0)\n",
            "next_token_id = torch.argmax(probas).item()\n",
            "print(inverse_vocab[next_token_id])\n",
            "\n",
            "# probabilistic sampling process using multinomial function\n",
            "# multinomial function samples from the probas probability distribution num_samples times\n",
            "# multinomial = probs distribution for discrete events, where each event takes on a fixed set of discrete possible values \n",
            "# in this case, possible outcomes = vocab \n",
            "torch.manual_seed(123)\n",
            "next_token_id = torch.multinomial(probas, num_samples=1).item()\n",
            "print(inverse_vocab[next_token_id])\n",
            "\n",
            "def print_sampled_tokens(probas):\n",
            "    torch.manual_seed(123)\n",
            "    sample = [torch.multinomial(probas, num_samples=1).item() for i in range(1_000)]\n",
            "    sampled_ids = torch.bincount(torch.tensor(sample))\n",
            "    for i, freq in enumerate(sampled_ids):\n",
            "        print(f\"{freq} x {inverse_vocab[i]}\")\n",
            "\n",
            "print_sampled_tokens(probas)"
         ]
      },
      {
         "cell_type": "code",
         "execution_count": 68,
         "metadata": {},
         "outputs": [
            {
               "data": {
                  "image/png": "[encoded data removed]",
                  "text/plain": [
                     "<Figure size 500x300 with 1 Axes>"
                  ]
               },
               "metadata": {},
               "output_type": "display_data"
            }
         ],
         "source": [
            "# temperature scaling = scale the softmax to control the width of the distribution\n",
            "# dividing the logits with the temp values > 1, result in a flatter more spreadout distribution\n",
            "# temp values < 1 result in a peakier distribution \n",
            "def softmax_with_temperature(logits, temperature):\n",
            "    scaled_logits = logits / temperature\n",
            "    return torch.softmax(scaled_logits, dim=0)\n",
            "\n",
            "temperatures = [1, 0.1, 5]\n",
            "scaled_probas = [softmax_with_temperature(next_token_logits, T) for T in temperatures]\n",
            "x = torch.arange(len(vocab))\n",
            "bar_width = 0.15\n",
            "fig, ax = plt.subplots(figsize=(5, 3))\n",
            "for i, T in enumerate(temperatures):\n",
            "    rects = ax.bar(x + i * bar_width, scaled_probas[i],\n",
            "    bar_width, label=f'Temperature = {T}')\n",
            "    ax.set_ylabel('Probability')\n",
            "    ax.set_xticks(x)\n",
            "    ax.set_xticklabels(vocab.keys(), rotation=90)\n",
            "ax.legend()\n",
            "plt.tight_layout()\n",
            "plt.show()"
         ]
      },
      {
         "cell_type": "code",
         "execution_count": 70,
         "metadata": {},
         "outputs": [
            {
               "name": "stdout",
               "output_type": "stream",
               "text": [
                  "temp :1\n",
                  "73 x closer\n",
                  "0 x every\n",
                  "0 x effort\n",
                  "582 x forward\n",
                  "2 x inches\n",
                  "0 x moves\n",
                  "0 x pizza\n",
                  "343 x toward\n",
                  "temp :0.1\n",
                  "0 x closer\n",
                  "0 x every\n",
                  "0 x effort\n",
                  "985 x forward\n",
                  "0 x inches\n",
                  "0 x moves\n",
                  "0 x pizza\n",
                  "15 x toward\n",
                  "temp :5\n",
                  "165 x closer\n",
                  "75 x every\n",
                  "42 x effort\n",
                  "239 x forward\n",
                  "71 x inches\n",
                  "46 x moves\n",
                  "32 x pizza\n",
                  "227 x toward\n",
                  "103 x you\n",
                  "temp :1\n",
                  "temp :0.1\n",
                  "temp :5\n",
                  "tensor(0.0430)\n"
               ]
            }
         ],
         "source": [
            "# exercise 5.1 \n",
            "#Use the print_sampled_tokens function to print the sampling\n",
            "#frequencies of the softmax probabilities scaled with the\n",
            "# temperatures shown in figure 5.14. How often is the word\n",
            "# pizza sampled in each case? Can you think of a faster and\n",
            "# more accurate way to determine how often the word pizza\n",
            "# is sampled?\n",
            "\n",
            "for T in temperatures:\n",
            "    print(f\"temp :{T}\")\n",
            "    scaled_probs = softmax_with_temperature(next_token_logits, T)\n",
            "    print_sampled_tokens(scaled_probs)\n",
            "\n",
            "# more efficient way\n",
            "for T in temperatures:\n",
            "    print(f\"temp :{T}\")\n",
            "    scaled_probs = softmax_with_temperature(next_token_logits, T)\n",
            "    sample = torch.multinomial(scaled_probs, num_samples=1000, replacement=True)#.item()\n",
            "\n",
            "# pizza_sample = torch.sum(sample[])\n",
            "pizza_sample = sum([x.item() for x in sample if x == 6])\n",
            "pizza_sample\n",
            "\n",
            "temp_scaled_probs = [softmax_with_temperature(next_token_logits, T) for T in temperatures]\n",
            "pizza_sample_temp_5 = temp_scaled_probs[2][6]\n",
            "print(pizza_sample_temp_5)"
         ]
      },
      {
         "cell_type": "code",
         "execution_count": 74,
         "metadata": {},
         "outputs": [
            {
               "name": "stdout",
               "output_type": "stream",
               "text": [
                  "Top logits: tensor([6.7500, 6.2800, 4.5100])\n",
                  "Top positions: tensor([3, 7, 0])\n",
                  "tensor([4.5100,   -inf,   -inf, 6.7500,   -inf,   -inf,   -inf, 6.2800,   -inf])\n",
                  "tensor([0.0615, 0.0000, 0.0000, 0.5775, 0.0000, 0.0000, 0.0000, 0.3610, 0.0000])\n"
               ]
            }
         ],
         "source": [
            "# topk sampling\n",
            "# selects the top k scores from the logits and masks out the remaining possible token scores by replacing them with -inf \n",
            "# when applying softmax, those scores receive 0 probability and only the top k sampled words are considered for the output/generated token \n",
            "top_k = 3\n",
            "top_logits, top_pos = torch.topk(next_token_logits, top_k)\n",
            "print(\"Top logits:\", top_logits)\n",
            "print(\"Top positions:\", top_pos)\n",
            "\n",
            "# derive new logits using where condition, by masking all values less than the n=k probability (last element) with -inf\n",
            "new_logits = torch.where(\n",
            "    condition=next_token_logits < top_logits[-1],\n",
            "    input=torch.tensor(float('-inf')),\n",
            "    other=next_token_logits\n",
            ")\n",
            "\n",
            "print(new_logits)\n",
            "# get the probabilitis for the top k logits\n",
            "topk_probas = torch.softmax(new_logits, dim=0)\n",
            "print(topk_probas)"
         ]
      },
      {
         "cell_type": "code",
         "execution_count": null,
         "metadata": {},
         "outputs": [
            {
               "name": "stdout",
               "output_type": "stream",
               "text": [
                  "Output text:\n",
                  " Every effort moves you an object Gisburn rather a little to face watching me across the been\n"
               ]
            }
         ],
         "source": [
            "# combine topk sampling with mulitnomial sampling and temperature scaling to generate text\n",
            "def generate(model, idx, max_new_tokens, context_size, temperature=0.0, top_k=None, eos_id=None):\n",
            "    for _ in range(max_new_tokens):\n",
            "        idx_cond = idx[:, -context_size:]\n",
            "        with torch.no_grad():\n",
            "            logits = model(idx_cond)\n",
            "        logits = logits[:, -1, :]\n",
            "        if top_k is not None:\n",
            "            top_logits, _ = torch.topk(logits, top_k)\n",
            "        min_val = top_logits[:, -1]\n",
            "        logits = torch.where(logits < min_val, torch.tensor(float('-inf')).to(logits.device),logits)\n",
            "        if temperature > 0.0:\n",
            "            logits = logits / temperature\n",
            "            probs = torch.softmax(logits, dim=-1)\n",
            "            idx_next = torch.multinomial(probs, num_samples=1)\n",
            "        else:\n",
            "            idx_next = torch.argmax(logits, dim=-1, keepdim=True)\n",
            "        if idx_next == eos_id:\n",
            "            break\n",
            "        idx = torch.cat((idx, idx_next), dim=1)\n",
            "    return idx\n",
            "\n",
            "\n",
            "torch.manual_seed(123)\n",
            "token_ids = generate(model=model,\n",
            "    idx=text_to_token_ids(\"Every effort moves you\", tokenizer),\n",
            "    max_new_tokens=15,\n",
            "    context_size=GPT_CONFIG_124M[\"context_length\"],\n",
            "    top_k=25,\n",
            "    temperature=1.4\n",
            ")\n",
            "print(\"Output text:\\n\", token_ids_to_text(token_ids, tokenizer))\n",
            "\n",
            "\n",
            "\n"
         ]
      },
      {
         "cell_type": "code",
         "execution_count": null,
         "metadata": {},
         "outputs": [
            {
               "name": "stdout",
               "output_type": "stream",
               "text": [
                  "temp 1, topk 3, text Every effort moves you just began to face was! She's a with a deprecating in\n",
                  "temp 1, topk 10, text Every effort moves you?\"\n",
                  "\" on painting people, as my own sex for my such's\n",
                  "temp 1, topk 15, text Every effort moves you say to the house.\"ed to see the the't dab to me in\n",
                  "temp 0.1, topk 3, text Every effort moves you't _was Gisburn, as the deep years by little the background\n",
                  "temp 0.1, topk 10, text Every effort moves you been his own sittersforming, as it, he turned Mrs. St\n",
                  "temp 0.1, topk 15, text Every effort moves you half me into; his glory, he Gisburn--chairs forwardanim\n",
                  "temp 5, topk 3, text Every effort moves you in her inevitable the do the picture by the endinteresting\": on the point\n",
                  "temp 5, topk 10, text Every effort moves you thought Jack's go a little felt able to face the fact with equanim\n",
                  "temp 5, topk 15, text Every effort moves you know without such, at the picture for me into his painting. He says\n"
               ]
            }
         ],
         "source": [
            "\n",
            "# exercise 5.2\n",
            "# different topk and temp settings - when is that desired?\n",
            "\n",
            "temps = [1, 0.1, 5]\n",
            "topk = [3, 10, 15]\n",
            "settings_text = []\n",
            "for t in temps:\n",
            "    for k in topk:\n",
            "        settings_text.append({\"temp\": t, \"topk\": k, \"text\": []})\n",
            "# settings_text = [{\"temp\": t, \"topk\": k, \"text\": []} for t, k in zip(temps, topk)]\n",
            "\n",
            "for i, set_ in enumerate(settings_text):\n",
            "    token_ids = generate(model=model,\n",
            "        idx=text_to_token_ids(\"Every effort moves you\", tokenizer),\n",
            "        max_new_tokens=15,\n",
            "        context_size=GPT_CONFIG_124M[\"context_length\"],\n",
            "        top_k=25,\n",
            "        temperature=1.4\n",
            "    )\n",
            "    # print(\"Output text:\\n\", token_ids_to_text(token_ids, tokenizer))\n",
            "    gen_text = token_ids_to_text(token_ids, tokenizer)\n",
            "    settings_text[i]['text'] = gen_text\n",
            "\n",
            "for set_ in settings_text:\n",
            "    print(f\"temp {set_['temp']}, topk {set_['topk']}, text {set_['text']}\")\n",
            "\n",
            "# EXERCISE 5.3\n",
            "# What are the different combinations of settings for the\n",
            "# generate function to force deterministic behavior, that is,\n",
            "# disabling the random sampling such that it always\n",
            "# produces the same outputs similar to the generate_simple\n",
            "# function?\n",
            "# temp = 1, topk = 1\n"
         ]
      }
   ],
   "metadata": {
      "kernelspec": {
         "display_name": "stanford",
         "language": "python",
         "name": "python3"
      },
      "language_info": {
         "codemirror_mode": {
            "name": "ipython",
            "version": 3
         },
         "file_extension": ".py",
         "mimetype": "text/x-python",
         "name": "python",
         "nbconvert_exporter": "python",
         "pygments_lexer": "ipython3",
         "version": "3.10.16"
      }
   },
   "nbformat": 4,
   "nbformat_minor": 2
}
