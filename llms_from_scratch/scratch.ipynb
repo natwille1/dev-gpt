{
   "cells": [
      {
         "cell_type": "code",
         "execution_count": 1,
         "metadata": {},
         "outputs": [],
         "source": [
            "import tiktoken\n",
            "import re"
         ]
      },
      {
         "cell_type": "code",
         "execution_count": 2,
         "metadata": {},
         "outputs": [
            {
               "name": "stdout",
               "output_type": "stream",
               "text": [
                  "20479\n"
               ]
            }
         ],
         "source": [
            "with open(\"the-verdict.txt\", \"r\") as f:\n",
            "    lines = f.read()\n",
            "\n",
            "print(len(lines))"
         ]
      },
      {
         "cell_type": "code",
         "execution_count": 3,
         "metadata": {},
         "outputs": [
            {
               "name": "stdout",
               "output_type": "stream",
               "text": [
                  "['I', ' ', 'HAD', ' ', 'always', ' ', 'thought', ' ', 'Jack', ' ']\n",
                  "4690\n"
               ]
            }
         ],
         "source": [
            "preprocessed = re.split(r'([,.:;?_!\"()\\']|--|\\s)', lines)\n",
            "print(preprocessed[:10])\n",
            "preprocessed = [item for item in preprocessed if item.strip()]\n",
            "print(len(preprocessed))"
         ]
      },
      {
         "cell_type": "code",
         "execution_count": 4,
         "metadata": {},
         "outputs": [
            {
               "name": "stdout",
               "output_type": "stream",
               "text": [
                  "['would', 'wouldn', 'year', 'years', 'yellow', 'yet', 'you', 'younger', 'your', 'yourself']\n",
                  "1130\n",
                  "! 0\n",
                  "\" 1\n",
                  "' 2\n",
                  "( 3\n",
                  ") 4\n",
                  ", 5\n",
                  "-- 6\n",
                  ". 7\n",
                  ": 8\n",
                  "; 9\n",
                  "? 10\n"
               ]
            }
         ],
         "source": [
            "all_words = sorted(set(preprocessed))\n",
            "print(all_words[-10:])\n",
            "vocab_size = len(all_words)\n",
            "print(vocab_size)\n",
            "vocab = {token: idx for idx, token in enumerate(all_words)}\n",
            "for i, word in enumerate(vocab):\n",
            "    if i > 10:\n",
            "        break\n",
            "    print(word, vocab[word])"
         ]
      },
      {
         "cell_type": "code",
         "execution_count": 5,
         "metadata": {},
         "outputs": [
            {
               "name": "stdout",
               "output_type": "stream",
               "text": [
                  "[989, 1077, 7, 7]\n",
                  "their was..\n"
               ]
            }
         ],
         "source": [
            "class SimpleTokenizerV1:\n",
            "    def __init__(self, vocab):\n",
            "        self.token_to_int = vocab\n",
            "        self.int_to_token = {idx: token for token, idx in vocab.items()}\n",
            "    \n",
            "    def encode(self, text):\n",
            "        preprocessed = re.split(r'([,.:;?_!\"()\\']|--|\\s)', text)\n",
            "        preprocessed = [item for item in preprocessed if item.strip()]\n",
            "        return [self.token_to_int[token] for token in preprocessed]\n",
            "    \n",
            "    def decode(self, integers):\n",
            "        text = \" \".join([self.int_to_token[idx] for idx in integers])\n",
            "        # replaces spaces before punctuation marks for format sentences correctly\n",
            "        text = re.sub(r'\\s+([,.:;?_!\"()\\'])', r'\\1', text)\n",
            "        return text\n",
            "    \n",
            "tokenizer = SimpleTokenizerV1(vocab)\n",
            "test = \"their  was..\"\n",
            "print(tokenizer.encode(test))\n",
            "print(tokenizer.decode(tokenizer.encode(test)))\n",
            "\n"
         ]
      },
      {
         "cell_type": "code",
         "execution_count": 6,
         "metadata": {},
         "outputs": [
            {
               "name": "stdout",
               "output_type": "stream",
               "text": [
                  "('younger', 1127)\n",
                  "('your', 1128)\n",
                  "('yourself', 1129)\n",
                  "('<|unk|>', 1130)\n",
                  "('<|endoftext|>', 1131)\n",
                  "Hi, do you like tea? <|endoftext|> In the sunlit terraces\n"
               ]
            }
         ],
         "source": [
            "all_words.extend([\"<|unk|>\", \"<|endoftext|>\"])\n",
            "all_words\n",
            "vocab = {token: idx for idx, token in enumerate(all_words)}\n",
            "max = 10\n",
            "for i, item in enumerate(list(vocab.items())[-5:]):\n",
            "    if i > max:\n",
            "        break\n",
            "    print(item)\n",
            "text1 = \"Hi, do you like tea?\"\n",
            "text2 = \"In the sunlit terraces\"\n",
            "text = \" <|endoftext|> \".join((text1, text2))\n",
            "\n",
            "print(text)"
         ]
      },
      {
         "cell_type": "code",
         "execution_count": 7,
         "metadata": {},
         "outputs": [
            {
               "name": "stdout",
               "output_type": "stream",
               "text": [
                  "[1130, 5, 355, 1126, 628, 975, 10, 1131, 55, 988, 956, 984]\n",
                  "<|unk|>, do you like tea? <|endoftext|> In the sunlit terraces\n",
                  "<|unk|>, do you like tea? <|endoftext|> In the sunlit terraces\n"
               ]
            }
         ],
         "source": [
            "# adds support for handling unknown tokens\n",
            "class SimpleTokenizerV2:\n",
            "    def __init__(self, vocab):\n",
            "        self.token_to_int = vocab\n",
            "        self.int_to_token = {idx: token for  token, idx in vocab.items()}\n",
            "    \n",
            "    def encode(self, text):\n",
            "        preprocessed = re.split(r'([,.:;?_!\"()\\']|--|\\s)', text)\n",
            "        preprocessed = [item.strip() for item in preprocessed if item.strip()]\n",
            "        preprocessed = [item if item in self.token_to_int else \"<|unk|>\" for item in preprocessed]\n",
            "        return [self.token_to_int[token] for token in preprocessed]\n",
            "\n",
            "    def decode(self, integers):\n",
            "        text = \" \".join([self.int_to_token[idx] for idx in integers])\n",
            "        # replaces spaces before punctuation marks for format sentences correctly\n",
            "        text = re.sub(r'\\s+([,.:;?!\"()\\'])', r'\\1', text)\n",
            "        return text\n",
            "\n",
            "tokenizer = SimpleTokenizerV2(vocab)\n",
            "encoded = tokenizer.encode(text)\n",
            "# tokenizer.int_to_token.keys()\n",
            "print(encoded)\n",
            "decoded = tokenizer.decode(encoded)\n",
            "print(decoded)\n",
            "print(tokenizer.decode(tokenizer.encode(text)))\n"
         ]
      },
      {
         "cell_type": "code",
         "execution_count": 8,
         "metadata": {},
         "outputs": [
            {
               "name": "stdout",
               "output_type": "stream",
               "text": [
                  "[15496, 11, 466, 345, 588, 8887, 30, 220, 50256, 554, 262, 4252, 18250, 8812, 2114, 1659, 617, 34680, 27271, 13]\n",
                  "Hello, do you like tea? <|endoftext|> In the sunlit terracesof someunknownPlace.\n"
               ]
            }
         ],
         "source": [
            "bpe_tokenizer = tiktoken.get_encoding(\"gpt2\")\n",
            "text = (\n",
            "\"Hello, do you like tea? <|endoftext|> In the sunlit terraces\"\n",
            "\"of someunknownPlace.\"\n",
            ")\n",
            "encoded = bpe_tokenizer.encode(text, allowed_special={\"<|endoftext|>\"})\n",
            "print(encoded)\n",
            "strings = bpe_tokenizer.decode(encoded)\n",
            "print(strings)\n"
         ]
      },
      {
         "cell_type": "code",
         "execution_count": 9,
         "metadata": {},
         "outputs": [
            {
               "name": "stdout",
               "output_type": "stream",
               "text": [
                  "[33901, 86, 343, 86, 220, 959]\n",
                  "Akwirw ier\n"
               ]
            }
         ],
         "source": [
            "new_word = \"Akwirw ier\"\n",
            "\n",
            "encoded = bpe_tokenizer.encode(new_word)\n",
            "print(encoded)\n",
            "decoded = bpe_tokenizer.decode(encoded)\n",
            "print(decoded)"
         ]
      },
      {
         "cell_type": "code",
         "execution_count": 10,
         "metadata": {},
         "outputs": [
            {
               "name": "stdout",
               "output_type": "stream",
               "text": [
                  "['I', ' ', 'HAD', ' ', 'always', ' ', 'thought', ' ', 'Jack', ' ']\n",
                  "20479\n",
                  "['year', 'years', 'yellow', 'yet', 'you', 'younger', 'your', 'yourself', '<|unk|>', '<|endoftext|>']\n",
                  "[40, 367, 2885, 1464, 1807, 3619, 402, 271, 10899, 2138]\n"
               ]
            }
         ],
         "source": [
            "with open(\"the-verdict.txt\", \"r\") as f:\n",
            "    lines = f.read()\n",
            "\n",
            "preprocessed = re.split(r'([,.:;?_!\"()\\']|--|\\s)', lines)\n",
            "print(preprocessed[:10])\n",
            "preprocessed = [item for item in preprocessed if item.strip()]\n",
            "print(len(lines))\n",
            "all_words = sorted(set(preprocessed))\n",
            "all_words.extend([\"<|unk|>\", \"<|endoftext|>\"])\n",
            "print(all_words[-10:])\n",
            "vocab_size = len(all_words)\n",
            "enc_text = bpe_tokenizer.encode(lines)\n",
            "vocab_size = len(enc_text)\n",
            "print(enc_text[:10])\n",
            "\n"
         ]
      },
      {
         "cell_type": "code",
         "execution_count": 11,
         "metadata": {},
         "outputs": [
            {
               "name": "stdout",
               "output_type": "stream",
               "text": [
                  "[290, 4920]\n",
                  "[4920, 2241]\n",
                  " and established -->  established himself\n"
               ]
            }
         ],
         "source": [
            "block_size = 2\n",
            "enc_sample = enc_text[50:]\n",
            "for i in range(block_size):\n",
            "    x = enc_sample[i:block_size]\n",
            "    y = enc_sample[i+1:i+block_size+1]\n",
            "    print(x)\n",
            "    print(y)\n",
            "    print(bpe_tokenizer.decode(x), \"-->\", bpe_tokenizer.decode(y))\n",
            "    break\n"
         ]
      },
      {
         "cell_type": "code",
         "execution_count": 12,
         "metadata": {},
         "outputs": [
            {
               "data": {
                  "text/plain": [
                     "(tensor([  44,  149, 1003,   57]), tensor([ 149, 1003,   57,   38]))"
                  ]
               },
               "execution_count": 12,
               "metadata": {},
               "output_type": "execute_result"
            }
         ],
         "source": [
            "import torch\n",
            "from torch.utils.data import DataLoader, Dataset\n",
            "\n",
            "class GPTDatasetV1(Dataset):\n",
            "    def __init__(self, text, tokenizer, max_length, stride):\n",
            "        self.input_ids = []\n",
            "        self.target_ids = []\n",
            "        self.encoded = tokenizer.encode(text)\n",
            "        #max_length = block_size or context_length, so need to substract max_length from range as that will be size of the sliced array \n",
            "        for i in range(0, len(self.encoded) - max_length, stride):\n",
            "            input_chunk = self.encoded[i:i+max_length]\n",
            "            targets = self.encoded[i+1:i+max_length+1]\n",
            "            self.input_ids.append(torch.tensor(input_chunk))\n",
            "            self.target_ids.append(torch.tensor(targets))\n",
            "    \n",
            "    def __len__(self):\n",
            "        return len(self.input_ids)\n",
            "    \n",
            "    def __getitem__(self, idx):\n",
            "        return (self.input_ids[idx], self.target_ids[idx])\n",
            "\n",
            "\n",
            "dataset = GPTDatasetV1(lines, tokenizer, 4, 1)\n",
            "dataset[1]\n",
            "\n",
            "\n"
         ]
      },
      {
         "cell_type": "code",
         "execution_count": 13,
         "metadata": {},
         "outputs": [
            {
               "data": {
                  "text/plain": [
                     "torch.Size([4, 4])"
                  ]
               },
               "execution_count": 13,
               "metadata": {},
               "output_type": "execute_result"
            }
         ],
         "source": [
            "\n",
            "def create_dataloader_v1(text, batch_size, max_length, stride, shuffle=True, drop_last=True, num_workers=0):\n",
            "    tokenizer = tiktoken.get_encoding(\"gpt2\")\n",
            "    dataset = GPTDatasetV1(text, tokenizer=tokenizer, max_length=max_length, stride=stride)\n",
            "    dataloader = DataLoader(dataset, batch_size=batch_size, num_workers=num_workers, drop_last=drop_last, shuffle=shuffle)\n",
            "    return dataloader\n",
            "\n",
            "dataloader = create_dataloader_v1(lines, batch_size=4, max_length=4, stride=1, shuffle=False)\n",
            "\n",
            "first_batch = next(iter(dataloader))\n",
            "\n",
            "first_batch[0].shape"
         ]
      },
      {
         "cell_type": "code",
         "execution_count": 14,
         "metadata": {},
         "outputs": [
            {
               "data": {
                  "text/plain": [
                     "[tensor([[   40,   367,  2885,  1464],\n",
                     "         [ 1464,  1807,  3619,   402],\n",
                     "         [  402,   271, 10899,  2138],\n",
                     "         [ 2138,   257,  7026, 15632]]),\n",
                     " tensor([[  367,  2885,  1464,  1807],\n",
                     "         [ 1807,  3619,   402,   271],\n",
                     "         [  271, 10899,  2138,   257],\n",
                     "         [  257,  7026, 15632,   438]])]"
                  ]
               },
               "execution_count": 14,
               "metadata": {},
               "output_type": "execute_result"
            }
         ],
         "source": [
            "\n",
            "dataloader = create_dataloader_v1(lines, batch_size=4, max_length=4, stride=3, shuffle=False)\n",
            "\n",
            "first_batch = next(iter(dataloader))\n",
            "\n",
            "first_batch"
         ]
      },
      {
         "cell_type": "markdown",
         "metadata": {},
         "source": [
            "### Chapter 3\n",
            "Prior to transformers, RNNs were a popular architecture for NLP tasks such as machine translation. These networks consist of an encoder and decoder network. The encoder processes a sequence of tokens, where the first token is passed to the first hidden layer, the second is passed to the second layer state AS WELL AS the hidden state of the first token. The last hidden state of the encoder is passed to the decoder network, therefore it relies solely on the encapsulated context from the last hidden state of the encoder. It does not have direct access to previous tokens/hidden states (e.g words in a sentence), but only the last generated hidden state from the encoder. Although the the task of the encoder is to generate a sufficiently rich representation of the entire embedded sentence, this is remains limited to short sequence lengths and highlights the main limitation of the classical RNN architecture.\n",
            "\n",
            "#### Bahdanau attention (2014)\n",
            "\n",
            "Modified the encoder-decoder RNN so the decoder can selectively access different parts of the input sequence at each decoding step. "
         ]
      },
      {
         "cell_type": "markdown",
         "metadata": {},
         "source": [
            "#### Scaled dot product attention\n",
            "\n",
            "The following implements self-attention where the dot products are scaled by the dimension of the compute key matrix encoding representations of the tokens after apply the key weights matrix. The reason for normalised and scaling these values is to improve training performance. For large architectures that use a large embedding dimension (e.g 1000 for GPT models), large dot products can result in very small gradients during backpropagation due to the softmax function. If one value dominates output from the dot product, the softmax normalisation will accordingly scale all the remaining values to very small values. Scaling by the sqrt of the embedding dim prevents these very large values from dominating the normalisation.\n"
         ]
      },
      {
         "cell_type": "code",
         "execution_count": 15,
         "metadata": {},
         "outputs": [
            {
               "name": "stdout",
               "output_type": "stream",
               "text": [
                  "tensor([[-1.1222, -0.4242,  0.3353],\n",
                  "        [ 0.5446, -2.1994, -0.8101],\n",
                  "        [-0.2203, -1.6969,  0.1617],\n",
                  "        [ 0.2020,  2.6632, -1.2929]], grad_fn=<SelectBackward0>)\n",
                  "input shape torch.Size([4, 4, 3])\n",
                  "torch.Size([2])\n",
                  "torch.Size([4, 2])\n",
                  "tensor(14.8739, grad_fn=<AddBackward0>)\n",
                  "tensor(14.5425, grad_fn=<AddBackward0>)\n",
                  "tensor(14.5425, grad_fn=<DotBackward0>)\n",
                  "attention_scores_2 shape: torch.Size([4])\n",
                  "values shape: torch.Size([4, 2])\n"
               ]
            },
            {
               "data": {
                  "text/plain": [
                     "tensor([2.3466, 0.0257], grad_fn=<SqueezeBackward4>)"
                  ]
               },
               "execution_count": 15,
               "metadata": {},
               "output_type": "execute_result"
            }
         ],
         "source": [
            "\n",
            "tokenizer = tiktoken.get_encoding(\"gpt2\")\n",
            "vocab_size = tokenizer.n_vocab\n",
            "output_dim = 3  # for illustration\n",
            "token_embedding_layer = torch.nn.Embedding(vocab_size, output_dim)\n",
            "input_ids, target_ids = first_batch\n",
            "inputs = token_embedding_layer(input_ids)\n",
            "\n",
            "print(inputs[1])\n",
            "print(\"input shape\", inputs.shape)\n",
            "\n",
            "x2 = inputs[1][1]\n",
            "d_in = x2.shape[0]\n",
            "d_out = 2\n",
            "\n",
            "torch.manual_seed(0)\n",
            "W_query = torch.nn.Parameter(torch.randn(d_in, d_out))\n",
            "K_query = torch.nn.Parameter(torch.randn(d_in, d_out))\n",
            "V_query = torch.nn.Parameter(torch.randn(d_in, d_out))\n",
            "\n",
            "\n",
            "x2_query = x2 @ W_query # query vector for 2nd token in the first example of the batch\n",
            "keys = inputs[1] @ K_query # key matrix for all tokens in the first example of the batch\n",
            "values = inputs[1] @ V_query # value matrix for all tokens in the first example of the batch\n",
            "\n",
            "print(x2_query.shape) # query vector\n",
            "print(keys.shape) # \n",
            "\n",
            "# attention score\n",
            "tmp_score = 0\n",
            "x2_key = keys[1]\n",
            "for i in range(2):\n",
            "    tmp_score += x2_query[i] * x2_key[i]\n",
            "    print(tmp_score)\n",
            "attention_score_22 = x2_query.dot(keys[1])\n",
            "print(attention_score_22)\n",
            "\n",
            "attention_scores_2 = x2_query @ keys.T\n",
            "# softmax normalisation\n",
            "d_k = keys.shape[1] # embedding dimension of the keys\n",
            "# SCALED DOT PRODUCT ATTENTION\n",
            "attention_weights_2 = torch.nn.functional.softmax(attention_scores_2 / (d_k ** 0.5), dim=-1)\n",
            "attention_weights_2\n",
            "\n",
            "# context vector calculation\n",
            "print(f\"attention_scores_2 shape: {attention_scores_2.shape}\")\n",
            "print(f\"values shape: {values.shape}\")\n",
            "context_vector_2 = attention_weights_2 @ values\n",
            "context_vector_2 # represents relative importance of all the input tokens wrto the 2nd token in the first example of the batch\n",
            "\n",
            "context_vector_2\n"
         ]
      },
      {
         "cell_type": "code",
         "execution_count": 16,
         "metadata": {},
         "outputs": [],
         "source": [
            "class SelfAttention_v1(torch.nn.Module):\n",
            "    def __init__(self, d_in, d_out):\n",
            "        super().__init__()\n",
            "        self.Q = torch.nn.Parameter(torch.randn(d_in, d_out))\n",
            "        self.K = torch.nn.Parameter(torch.randn(d_in, d_out))\n",
            "        self.V = torch.nn.Parameter(torch.randn(d_in, d_out))\n",
            "    \n",
            "    def forward(self, x):\n",
            "        query = x @ self.Q\n",
            "        keys = x @ self.K\n",
            "        values = x @ self.V\n",
            "        attention_scores = query @ keys.T\n",
            "        d_k = keys.shape[1]\n",
            "        # rescale the attention scores because dot products can be large when embedding dimension is large\n",
            "        # i.e the sum is taken over the embedding dimension, so many values result in a large dot product\n",
            "        # results in very small gradients\n",
            "        attention_weights = torch.nn.functional.softmax(attention_scores / (d_k ** 0.5), dim=-1)\n",
            "        context_vector = attention_weights @ values\n",
            "        return context_vector\n",
            "\n",
            "class SelfAttention_v2(torch.nn.Module):\n",
            "    def __init__(self, d_in, d_out, qkv_bias: bool = False):\n",
            "        super().__init__()\n",
            "        # proper initialization of weights in torch nn.Linear modules\n",
            "        self.Q = torch.nn.Linear(d_in, d_out, bias=qkv_bias)\n",
            "        self.K = torch.nn.Linear(d_in, d_out, bias=qkv_bias)\n",
            "        self.V = torch.nn.Linear(d_in, d_out, bias=qkv_bias)\n",
            "    \n",
            "    def forward(self, x):\n",
            "        query = self.Q(x)\n",
            "        keys = self.K(x)\n",
            "        values = self.V(x)\n",
            "        attention_scores = query @ keys.T\n",
            "        d_k = keys.shape[1]\n",
            "        attention_weights = torch.nn.functional.softmax(attention_scores / (d_k ** 0.5), dim=-1)\n",
            "        context_vector = attention_weights @ values\n",
            "        return context_vector\n",
            "\n",
            "    \n",
            "\n",
            "\n"
         ]
      },
      {
         "cell_type": "code",
         "execution_count": 17,
         "metadata": {},
         "outputs": [
            {
               "data": {
                  "text/plain": [
                     "torch.Size([4, 4, 3])"
                  ]
               },
               "execution_count": 17,
               "metadata": {},
               "output_type": "execute_result"
            }
         ],
         "source": [
            "inputs.shape"
         ]
      },
      {
         "cell_type": "code",
         "execution_count": 18,
         "metadata": {},
         "outputs": [
            {
               "name": "stdout",
               "output_type": "stream",
               "text": [
                  "d_in 3, d_out 2\n",
                  "torch.Size([4, 3])\n",
                  "sa_v1\n",
                  "tensor([ 1.4852, -2.0078], grad_fn=<SelectBackward0>)\n",
                  "sa_v2\n",
                  "tensor([ 0.0592, -0.0882], grad_fn=<SelectBackward0>)\n",
                  "torch.Size([3, 2])\n",
                  "torch.Size([2, 3])\n",
                  "updated sa_v1\n",
                  "tensor([ 0.0592, -0.0882], grad_fn=<SelectBackward0>)\n"
               ]
            }
         ],
         "source": [
            "# compare SelfAttentionV1 and V2\n",
            "d_in = inputs.shape[-1] # embedding dim\n",
            "d_out = 2\n",
            "print(f\"d_in {d_in}, d_out {d_out}\")\n",
            "sa_v1 = SelfAttention_v1(d_in=d_in, d_out=d_out)\n",
            "sa_v2 = SelfAttention_v2(d_in=d_in, d_out=d_out)\n",
            "\n",
            "x2 = inputs[1]\n",
            "print(x2.shape)\n",
            "sa_v1_mat = sa_v1(inputs[1])\n",
            "sa_v2_mat = sa_v2(inputs[1])\n",
            "print(\"sa_v1\")\n",
            "print(sa_v1_mat[0])\n",
            "print(\"sa_v2\")\n",
            "print(sa_v2_mat[0])\n",
            "\n",
            "print(sa_v1.Q.shape)\n",
            "print(sa_v2.Q.weight.shape)\n",
            "\n",
            "sa_v1.Q = torch.nn.Parameter(sa_v2.Q.weight.T)\n",
            "sa_v1.V = torch.nn.Parameter(sa_v2.V.weight.T)\n",
            "sa_v1.K = torch.nn.Parameter(sa_v2.K.weight.T)\n",
            "print(\"updated sa_v1\")\n",
            "sa_v1_mat_up = sa_v1(inputs[1])\n",
            "print(sa_v1_mat_up[0])\n",
            "\n"
         ]
      },
      {
         "cell_type": "code",
         "execution_count": 19,
         "metadata": {},
         "outputs": [
            {
               "name": "stdout",
               "output_type": "stream",
               "text": [
                  "torch.Size([4, 4, 2]) torch.Size([4, 4, 2])\n",
                  "context length 4\n",
                  "tensor([[0., 1., 1., 1.],\n",
                  "        [0., 0., 1., 1.],\n",
                  "        [0., 0., 0., 1.],\n",
                  "        [0., 0., 0., 0.]])\n",
                  "tensor([[False,  True,  True,  True],\n",
                  "        [False, False,  True,  True],\n",
                  "        [False, False, False,  True],\n",
                  "        [False, False, False, False]])\n",
                  "tensor([[[ 2.4812,    -inf,    -inf,    -inf],\n",
                  "         [-0.3801,  0.0472,    -inf,    -inf],\n",
                  "         [-0.8012,  0.2457, -0.2796,    -inf],\n",
                  "         [ 1.5541, -0.2591, -0.4124,  0.7783]],\n",
                  "\n",
                  "        [[ 0.7783,    -inf,    -inf,    -inf],\n",
                  "         [-0.2961, -1.7764,    -inf,    -inf],\n",
                  "         [ 0.4386, -0.8974, -0.0319,    -inf],\n",
                  "         [-1.0685,  0.6116, -0.6616,  1.9631]],\n",
                  "\n",
                  "        [[ 1.9631,    -inf,    -inf,    -inf],\n",
                  "         [-0.4489,  0.0934,    -inf,    -inf],\n",
                  "         [-0.7499,  0.1974,  0.1156,    -inf],\n",
                  "         [-1.9299,  0.5336,  0.2568,  1.1510]],\n",
                  "\n",
                  "        [[ 1.1510,    -inf,    -inf,    -inf],\n",
                  "         [-0.6953,  0.5583,    -inf,    -inf],\n",
                  "         [-0.6513,  1.1516, -0.4708,    -inf],\n",
                  "         [-0.2439, -0.5934,  1.4365, -1.8915]]], grad_fn=<MaskedFillBackward0>)\n"
               ]
            },
            {
               "data": {
                  "text/plain": [
                     "tensor([[[1.0000, 0.0000, 0.0000, 0.0000],\n",
                     "         [0.4250, 0.5750, 0.0000, 0.0000],\n",
                     "         [0.2201, 0.4615, 0.3183, 0.0000],\n",
                     "         [0.4752, 0.1319, 0.1183, 0.2746]],\n",
                     "\n",
                     "        [[1.0000, 0.0000, 0.0000, 0.0000],\n",
                     "         [0.7401, 0.2599, 0.0000, 0.0000],\n",
                     "         [0.4749, 0.1846, 0.3405, 0.0000],\n",
                     "         [0.0707, 0.2319, 0.0943, 0.6031]],\n",
                     "\n",
                     "        [[1.0000, 0.0000, 0.0000, 0.0000],\n",
                     "         [0.4053, 0.5947, 0.0000, 0.0000],\n",
                     "         [0.2084, 0.4072, 0.3843, 0.0000],\n",
                     "         [0.0494, 0.2821, 0.2320, 0.4365]],\n",
                     "\n",
                     "        [[1.0000, 0.0000, 0.0000, 0.0000],\n",
                     "         [0.2919, 0.7081, 0.0000, 0.0000],\n",
                     "         [0.1750, 0.6262, 0.1988, 0.0000],\n",
                     "         [0.1861, 0.1453, 0.6106, 0.0580]]], grad_fn=<SoftmaxBackward0>)"
                  ]
               },
               "execution_count": 19,
               "metadata": {},
               "output_type": "execute_result"
            }
         ],
         "source": [
            "# masked self-attention (causal self-attention)\n",
            "# ensures that no current position is influenced by future positions (e.g for generative tasks)\n",
            "queries = sa_v2.Q(inputs)\n",
            "keys = sa_v2.K(inputs)\n",
            "print(queries.shape, keys.shape)\n",
            "attention_scores = queries @ keys.transpose(1,2)\n",
            "# normalisation of scores to they form a probability distribution summing to 1 - this is applied along the embedding dim \n",
            "attention_weights = torch.nn.functional.softmax(attention_scores / keys.shape[-1] ** 0.5, dim=-1)\n",
            "\n",
            "context_length = inputs.shape[1]\n",
            "print(f\"context length {context_length}\")\n",
            "mask = torch.triu(torch.ones(context_length, context_length), diagonal=1)\n",
            "print(mask)\n",
            "print(mask.bool())\n",
            "# negative infinity approaches 0 in softmax function (because e-inf approaches 0)\n",
            "attention_scores_masked = attention_scores.masked_fill_(mask.bool(), -torch.inf)\n",
            "print(attention_scores_masked)\n",
            "# normalised weights\n",
            "attention_weights = torch.nn.functional.softmax((attention_scores_masked) / keys.shape[-1] ** 0.5, dim=-1)\n",
            "attention_weights"
         ]
      },
      {
         "cell_type": "code",
         "execution_count": 20,
         "metadata": {},
         "outputs": [
            {
               "name": "stdout",
               "output_type": "stream",
               "text": [
                  "tensor([[2., 2., 0., 2.],\n",
                  "        [2., 0., 0., 0.],\n",
                  "        [0., 2., 0., 2.],\n",
                  "        [2., 2., 2., 2.]])\n"
               ]
            }
         ],
         "source": [
            "# Dropout\n",
            "# only applied during training, not inference\n",
            "torch.manual_seed(123)\n",
            "dropout = torch.nn.Dropout(0.5)\n",
            "example = torch.ones((context_length, context_length))\n",
            "# to compensate for the reduction in active units, the un-zero'd values are scaled by (original_val / dropout_prob (0.5))\n",
            "# 1 / 0.5 = 2\n",
            "# this ensures the overall influence of the weight is consistent at both training and inference time\n",
            "print(dropout(example))"
         ]
      },
      {
         "cell_type": "code",
         "execution_count": 21,
         "metadata": {},
         "outputs": [],
         "source": [
            "class CausalAttention(torch.nn.Module):\n",
            "    def __init__(self, d_in, d_out, context_length, dropout, qkv_bias: bool= False):\n",
            "        super().__init__()\n",
            "        self.d_out = d_out\n",
            "        self.dropout = torch.nn.Dropout(dropout)\n",
            "        self.Q = torch.nn.Linear(in_features=d_in, out_features=d_out)\n",
            "        self.K = torch.nn.Linear(in_features=d_in, out_features=d_out)\n",
            "        self.V = torch.nn.Linear(in_features=d_in, out_features=d_out)\n",
            "        self.register_buffer(\"mask\", torch.triu(torch.ones(context_length, context_length), diagonal=1))\n",
            "    \n",
            "    def forward(self, x):\n",
            "        batch, num_token, d_in = x.shape\n",
            "        keys = self.K(x)\n",
            "        queries = self.Q(x)\n",
            "        values = self.V(x)\n",
            "        attn_scores = queries @ keys.transpose(1, 2)\n",
            "        attn_scores.masked_fill_(self.mask.bool()[:num_token, :num_token], -torch.inf)\n",
            "        attn_weights = torch.softmax(attn_scores / keys.shape[-1] ** 0.5, dim=-1)\n",
            "        attn_weights = self.dropout(attn_weights)\n",
            "        context_vec = attn_weights @ values\n",
            "        return context_vec\n",
            "        \n"
         ]
      },
      {
         "cell_type": "code",
         "execution_count": 22,
         "metadata": {},
         "outputs": [
            {
               "data": {
                  "text/plain": [
                     "torch.Size([4, 4, 2])"
                  ]
               },
               "execution_count": 22,
               "metadata": {},
               "output_type": "execute_result"
            }
         ],
         "source": [
            "context_length = inputs.shape[1]\n",
            "ca=CausalAttention(d_in, d_out, context_length, 0.0)\n",
            "context_vecs = ca(inputs)\n",
            "context_vecs.shape\n",
            "\n"
         ]
      },
      {
         "cell_type": "code",
         "execution_count": 23,
         "metadata": {},
         "outputs": [],
         "source": [
            "# multihead attention\n",
            "# apply multiple query key and value matrices (one for each head) in parallel\n",
            "\n",
            "class MultiHeadAttention(torch.nn.Module):\n",
            "    def __init__(self, d_in, d_out, context_length, dropout, num_heads, qkv_bias=False):\n",
            "        super().__init__()\n",
            "        assert (d_out % num_heads == 0), f\"d_out {d_out} must be divisible by num heads {num_heads}\"\n",
            "        self.d_out = d_out\n",
            "        self.num_heads = num_heads\n",
            "        self.head_dim = d_out // num_heads\n",
            "        self.W_query = torch.nn.Linear(in_features=d_in, out_features=d_out, bias=qkv_bias)\n",
            "        self.W_key = torch.nn.Linear(in_features=d_in, out_features=d_out, bias=qkv_bias)\n",
            "        self.W_value = torch.nn.Linear(in_features=d_in, out_features=d_out, bias=qkv_bias)\n",
            "        self.out_proj = torch.nn.Linear(in_features=d_out, out_features=d_out)\n",
            "        self.dropout = torch.nn.Dropout(dropout)\n",
            "        self.register_buffer(\"mask\", torch.triu(torch.ones(context_length, context_length), diagonal=1))\n",
            "    \n",
            "    def forward(self, x):\n",
            "        batch, num_token, d_in = x.shape\n",
            "        keys = self.W_key(x)\n",
            "        queries = self.W_query(x)\n",
            "        values = self.W_value(x)\n",
            "        keys = keys.view(batch, num_token, self.num_heads, self.head_dim)\n",
            "        queries = queries.view(batch, num_token, self.num_heads, self.head_dim)\n",
            "        values = values.view(batch, num_token, self.num_heads, self.head_dim)\n",
            "        keys = keys.transpose(1,2)\n",
            "        queries = queries.transpose(1,2)\n",
            "        values = values.transpose(1,2)\n",
            "        attn_scores = queries @ keys.transpose(2, 3)\n",
            "        mask_bool = self.mask.bool()[:num_token, :num_token]\n",
            "        attn_scores.masked_fill_(mask_bool, -torch.inf)\n",
            "        attn_weights = torch.softmax(attn_scores / keys.shape[-1] ** 0.5, dim=-1)\n",
            "        attn_weights = self.dropout(attn_weights)\n",
            "        context_vec = attn_weights @ values\n",
            "        # contiguous makes a copy of the tensor with the final memory layout specified by the tensor shape\n",
            "        context_vec = context_vec.contiguous().view(batch, num_token, self.d_out)\n",
            "        # project layer\n",
            "        context_vec = self.out_proj(context_vec)\n",
            "        return context_vec\n",
            "        \n"
         ]
      },
      {
         "cell_type": "code",
         "execution_count": 24,
         "metadata": {},
         "outputs": [
            {
               "data": {
                  "text/plain": [
                     "torch.Size([2, 1024, 2])"
                  ]
               },
               "execution_count": 24,
               "metadata": {},
               "output_type": "execute_result"
            }
         ],
         "source": [
            "torch.manual_seed(123)\n",
            "\n",
            "batch_size, context_length, d_in = inputs.shape\n",
            "d_out = 2\n",
            "mha = MultiHeadAttention(d_in, d_out, context_length, 0.5, num_heads=2)\n",
            "out = mha(inputs)\n",
            "out.shape"
         ]
      },
      {
         "cell_type": "code",
         "execution_count": 24,
         "metadata": {},
         "outputs": [
            {
               "name": "stdout",
               "output_type": "stream",
               "text": [
                  "torch.Size([2, 1024])\n"
               ]
            },
            {
               "data": {
                  "text/plain": [
                     "torch.Size([2, 1024, 768])"
                  ]
               },
               "execution_count": 24,
               "metadata": {},
               "output_type": "execute_result"
            }
         ],
         "source": [
            "# gpt-2 sized MHA\n",
            "\n",
            "embedding_dim = 768\n",
            "num_heads = 12\n",
            "context_length = 1024\n",
            "\n",
            "dataloader = create_dataloader_v1(lines, batch_size=2, max_length=context_length, stride=1, shuffle=False)\n",
            "first_batch = next(iter(dataloader))\n",
            "print(first_batch[0].shape)\n",
            "\n",
            "vocab_size = tokenizer.n_vocab\n",
            "token_embedding_layer = torch.nn.Embedding(vocab_size, embedding_dim)\n",
            "input_ids, target_ids = first_batch\n",
            "inputs = token_embedding_layer(input_ids)\n",
            "\n",
            "inputs[0].shape\n",
            "\n",
            "mha = MultiHeadAttention(d_in=768, d_out=768, context_length=context_length, dropout=0.2, num_heads=12)\n",
            "\n",
            "out = mha(inputs)\n",
            "\n",
            "out.shape"
         ]
      },
      {
         "cell_type": "code",
         "execution_count": 25,
         "metadata": {},
         "outputs": [
            {
               "data": {
                  "text/plain": [
                     "(tensor([[ 9.0028e-09,  1.2418e-08,  1.1797e-08,  ...,  1.2418e-08,\n",
                     "           0.0000e+00, -1.2418e-09],\n",
                     "         [ 1.2418e-08,  1.1797e-08,  5.5879e-09,  ...,  0.0000e+00,\n",
                     "          -1.2418e-09, -1.6143e-08]], grad_fn=<MeanBackward1>),\n",
                     " tensor([[1.0000, 1.0000, 1.0000,  ..., 1.0000, 1.0000, 1.0000],\n",
                     "         [1.0000, 1.0000, 1.0000,  ..., 1.0000, 1.0000, 1.0000]],\n",
                     "        grad_fn=<VarBackward0>))"
                  ]
               },
               "execution_count": 25,
               "metadata": {},
               "output_type": "execute_result"
            }
         ],
         "source": [
            "# GPT-2 implementation\n",
            "# vocab size is determined by the BPE tokenizer\n",
            "GPT_CONFIG_124M = {\"vocab_size\": 50257, \"context_length\": 1024, \"emb_dim\": 768, \"n_heads\": 12, \"n_layers\": 12, \"drop_rate\": 0.1, \"qkv_bias\": False}\n",
            "\n",
            "class LayerNorm(torch.nn.Module):\n",
            "    def __init__(self, emb_dim):\n",
            "        super().__init__()\n",
            "        self.eps = 1e-5\n",
            "        # Parameter = trainable parameter in torch\n",
            "        self.scale = torch.nn.Parameter(torch.ones(emb_dim))\n",
            "        self.shift = torch.nn.Parameter(torch.zeros(emb_dim))\n",
            "\n",
            "    def forward(self, x):\n",
            "        # dim = -1  --> embedding dimension\n",
            "        mean = x.mean(dim=-1, keepdim=True)\n",
            "        var = x.var(dim=-1, keepdim=True, unbiased=False)\n",
            "        norm_x = (x-mean) / torch.sqrt(var + self.eps)\n",
            "        return self.scale * norm_x + self.shift\n",
            "\n",
            "first_batch\n",
            "embedding_dim = 768 \n",
            "ln = LayerNorm(embedding_dim)\n",
            "out_ln = ln(inputs)\n",
            "# expect mean = 0 and var = 1\n",
            "out_ln.mean(dim=-1), out_ln.var(dim=-1, unbiased=False)\n"
         ]
      },
      {
         "cell_type": "code",
         "execution_count": 26,
         "metadata": {},
         "outputs": [],
         "source": [
            "# GELU activation function\n",
            "\n",
            "class GELU(torch.nn.Module):\n",
            "    def __init__(self):\n",
            "        super().__init__()\n",
            "    \n",
            "    def forward(self, x):\n",
            "        value = 0.5 * x * (1 + torch.tanh(torch.sqrt(torch.tensor(2.0 / torch.pi)) * (x + 0.044715 * torch.pow(x, 3))))\n",
            "        return value\n",
            "\n"
         ]
      },
      {
         "cell_type": "code",
         "execution_count": 27,
         "metadata": {},
         "outputs": [
            {
               "data": {
                  "image/png": "[encoded data removed]",
                  "text/plain": [
                     "<Figure size 800x300 with 2 Axes>"
                  ]
               },
               "metadata": {},
               "output_type": "display_data"
            }
         ],
         "source": [
            "# GELU compared to RELU\n",
            "import matplotlib.pyplot as plt\n",
            "\n",
            "gelu, relu = GELU(), torch.nn.ReLU()\n",
            "\n",
            "x = torch.linspace(-3, 3, 100)\n",
            "\n",
            "gelu_out = gelu(x)\n",
            "relu_out = relu(x)\n",
            "\n",
            "plt.figure(figsize=(8, 3))\n",
            "for i, (y, label) in enumerate(zip([gelu_out, relu_out], [\"GELU\",\"RELU\"]), 1):\n",
            "    plt.subplot(1, 2, i)\n",
            "    plt.plot(x, y)\n",
            "    plt.title(f\"{label} activation function\")\n",
            "    plt.xlabel(\"x\")\n",
            "    plt.ylabel(f\"{label}(x)\")\n",
            "plt.tight_layout()\n",
            "plt.show()\n",
            "\n",
            "# GELU is a smooth, non-linear function that is differentiable at almost any negative value (except ~ -0.75). \n",
            "# Better optimisation due to:\n",
            "# 1. smoothness\n",
            "# 2. differential for negative values so these can contribute to the gradients/optimisation process"
         ]
      },
      {
         "cell_type": "code",
         "execution_count": 28,
         "metadata": {},
         "outputs": [
            {
               "name": "stdout",
               "output_type": "stream",
               "text": [
                  "{'vocab_size': 50257, 'context_length': 1024, 'emb_dim': 768, 'n_heads': 12, 'n_layers': 12, 'drop_rate': 0.1, 'qkv_bias': False}\n"
               ]
            }
         ],
         "source": [
            "# Feedforward with GELU\n",
            "# Feedforward layers enable richer representations through expansion to higher dimensions \n",
            "\n",
            "class FeedForward(torch.nn.Module):\n",
            "    def __init__(self, cfg):\n",
            "        super().__init__()\n",
            "        self.layers = torch.nn.Sequential(torch.nn.Linear(cfg['emb_dim'], 4*cfg['emb_dim']), GELU(), torch.nn.Linear(4 * cfg['emb_dim'], cfg['emb_dim']))\n",
            "    \n",
            "    def forward(self, x):\n",
            "        out = self.layers(x)\n",
            "        return out\n",
            "\n",
            "print(GPT_CONFIG_124M)\n",
            "\n",
            "ffn = FeedForward(GPT_CONFIG_124M)\n",
            "x = torch.randn((2, 3, 768))\n",
            "out = ffn(x)\n",
            "\n",
            "\n"
         ]
      },
      {
         "cell_type": "code",
         "execution_count": 29,
         "metadata": {},
         "outputs": [
            {
               "name": "stdout",
               "output_type": "stream",
               "text": [
                  "no skip\n",
                  "layers.0.0.weight has gradient mean of 0.00020173587836325169\n",
                  "layers.1.0.weight has gradient mean of 0.0001201116101583466\n",
                  "layers.2.0.weight has gradient mean of 0.0007152041071094573\n",
                  "layers.3.0.weight has gradient mean of 0.0013988735154271126\n",
                  "layers.4.0.weight has gradient mean of 0.005049645435065031\n",
                  "skip\n",
                  "layers.0.0.weight has gradient mean of 0.0014432291500270367\n",
                  "layers.1.0.weight has gradient mean of 0.004846951924264431\n",
                  "layers.2.0.weight has gradient mean of 0.004138893447816372\n",
                  "layers.3.0.weight has gradient mean of 0.005915115587413311\n",
                  "layers.4.0.weight has gradient mean of 0.032659437507390976\n"
               ]
            }
         ],
         "source": [
            "# Skip connections\n",
            "# Create an alternative path for the gradient flow by adding the output from layer to the output of a later layer \n",
            "# First applied in \"residual\" networks in computer vision\n",
            "# Help with optimisation process as the addition of the input (e.g x) to the output from a layer increase the magnitude of the values\n",
            "# Thus helps with the vanishing gradient problem\n",
            "\n",
            "class DeepNeuralNetwork(torch.nn.Module):\n",
            "    def __init__(self, layer_sizes, use_skip):\n",
            "        super().__init__()\n",
            "        self.use_skip = use_skip\n",
            "        self.layers = torch.nn.ModuleList([torch.nn.Sequential(torch.nn.Linear(layer_sizes[0], layer_sizes[1]), GELU()), torch.nn.Sequential(torch.nn.Linear(layer_sizes[1], layer_sizes[2]), GELU()), torch.nn.Sequential(torch.nn.Linear(layer_sizes[2], layer_sizes[3]), GELU()), torch.nn.Sequential(torch.nn.Linear(layer_sizes[3], layer_sizes[4]), GELU()), torch.nn.Sequential(torch.nn.Linear(layer_sizes[4], layer_sizes[5]), GELU())])\n",
            "    \n",
            "    def forward(self, x):\n",
            "        for layer in self.layers:\n",
            "            layer_out = layer(x)\n",
            "            if self.use_skip and x.shape == layer_out.shape:\n",
            "                x = layer_out + x\n",
            "            else:\n",
            "                x = layer_out\n",
            "        return x\n",
            "                \n",
            "\n",
            "def print_gradients(model, x):\n",
            "    output = model(x)\n",
            "    target = torch.tensor([[0.]])\n",
            "    loss = torch.nn.MSELoss()\n",
            "    loss = loss(output, target)\n",
            "    loss.backward()\n",
            "    for name, param in model.named_parameters():\n",
            "        if 'weight' in name:\n",
            "            print(f\"{name} has gradient mean of {param.grad.abs().mean().item()}\")\n",
            "\n",
            "\n",
            "layer_sizes = [3, 3, 3, 3, 3, 1]\n",
            "sample_input = torch.tensor([[1.0, 0., -1]])\n",
            "torch.manual_seed(123)\n",
            "model_no_skip = DeepNeuralNetwork(layer_sizes, use_skip=False)\n",
            "print(\"no skip\")\n",
            "print_gradients(model_no_skip, sample_input)\n",
            "\n",
            "# torch.manual_seed(123)\n",
            "print(\"skip\")\n",
            "model_skip = DeepNeuralNetwork(layer_sizes, use_skip=True)\n",
            "print_gradients(model_skip, sample_input)\n"
         ]
      },
      {
         "cell_type": "code",
         "execution_count": 30,
         "metadata": {},
         "outputs": [
            {
               "name": "stdout",
               "output_type": "stream",
               "text": [
                  "no skip\n",
                  "layers.0.0.weight has gradient mean of 0.00020173587836325169\n",
                  "layers.1.0.weight has gradient mean of 0.0001201116101583466\n",
                  "layers.2.0.weight has gradient mean of 0.0007152041071094573\n",
                  "layers.3.0.weight has gradient mean of 0.0013988735154271126\n",
                  "layers.4.0.weight has gradient mean of 0.005049645435065031\n",
                  "skip\n",
                  "layers.0.0.weight has gradient mean of 0.22169791162014008\n",
                  "layers.1.0.weight has gradient mean of 0.20694106817245483\n",
                  "layers.2.0.weight has gradient mean of 0.32896995544433594\n",
                  "layers.3.0.weight has gradient mean of 0.2665732204914093\n",
                  "layers.4.0.weight has gradient mean of 1.3258540630340576\n"
               ]
            }
         ],
         "source": [
            "\n",
            "layer_sizes = [3, 3, 3, 3, 3, 1]\n",
            "sample_input = torch.tensor([[1.0, 0., -1]])\n",
            "torch.manual_seed(123)\n",
            "model_no_skip = DeepNeuralNetwork(layer_sizes, use_skip=False)\n",
            "print(\"no skip\")\n",
            "print_gradients(model_no_skip, sample_input)\n",
            "\n",
            "torch.manual_seed(123)\n",
            "print(\"skip\")\n",
            "model_skip = DeepNeuralNetwork(layer_sizes, use_skip=True)\n",
            "print_gradients(model_skip, sample_input)"
         ]
      },
      {
         "cell_type": "code",
         "execution_count": 31,
         "metadata": {},
         "outputs": [
            {
               "name": "stdout",
               "output_type": "stream",
               "text": [
                  "Input shape: torch.Size([2, 4, 768])\n",
                  "Output shape: torch.Size([2, 4, 768])\n"
               ]
            }
         ],
         "source": [
            "# Transformer implementation - combines all of the above\n",
            "\n",
            "class TransformerBlock(torch.nn.Module):\n",
            "    def __init__(self, cfg):\n",
            "        super().__init__()\n",
            "        self.att = MultiHeadAttention(\n",
            "            d_in=cfg[\"emb_dim\"],\n",
            "            d_out=cfg[\"emb_dim\"],\n",
            "            context_length=cfg[\"context_length\"],\n",
            "            num_heads=cfg[\"n_heads\"],\n",
            "            dropout=cfg[\"drop_rate\"],\n",
            "            qkv_bias=cfg[\"qkv_bias\"])\n",
            "        self.ff = FeedForward(cfg)\n",
            "        self.norm1 = LayerNorm(cfg[\"emb_dim\"])\n",
            "        self.norm2 = LayerNorm(cfg[\"emb_dim\"])\n",
            "        self.drop_shortcut = torch.nn.Dropout(cfg[\"drop_rate\"])\n",
            "    def forward(self, x):\n",
            "        shortcut = x\n",
            "        # layer norm\n",
            "        x = self.norm1(x)\n",
            "        # multihead attn\n",
            "        x = self.att(x)\n",
            "        # dropout\n",
            "        x = self.drop_shortcut(x)\n",
            "        # skip connection\n",
            "        x = x + shortcut\n",
            "        shortcut = x\n",
            "        # layer norm\n",
            "        x = self.norm2(x)\n",
            "        # feedforward\n",
            "        x = self.ff(x)\n",
            "        # dropout\n",
            "        x = self.drop_shortcut(x)\n",
            "        # skip connection\n",
            "        x = x + shortcut\n",
            "        return x\n",
            "\n",
            "\n",
            "torch.manual_seed(123)\n",
            "x = torch.rand(2, 4, 768)\n",
            "block = TransformerBlock(GPT_CONFIG_124M)\n",
            "output = block(x)\n",
            "print(\"Input shape:\", x.shape)\n",
            "print(\"Output shape:\", output.shape)\n",
            "\n",
            "# The preservation of shape throughout the transformer block\n",
            "# architecture is not incidental but a crucial aspect of its\n",
            "# design. This design enables its effective application across a\n",
            "# wide range of sequence-to-sequence tasks, where each\n",
            "# output vector directly corresponds to an input vector,\n",
            "# maintaining a one-to-one relationship"
         ]
      },
      {
         "cell_type": "code",
         "execution_count": 32,
         "metadata": {},
         "outputs": [
            {
               "name": "stdout",
               "output_type": "stream",
               "text": [
                  "torch.Size([2, 1024])\n",
                  "Input batch:\n",
                  " tensor([[   40,   367,  2885,  ...,   691, 12226,   318],\n",
                  "        [  367,  2885,  1464,  ..., 12226,   318,   284]])\n",
                  "\n",
                  "Output shape: torch.Size([2, 1024, 50257])\n",
                  "tensor([[[ 0.2562, -0.3821,  0.0168,  ...,  0.1241,  0.3700, -0.4123],\n",
                  "         [ 0.3712, -0.0552, -0.1222,  ..., -0.1626, -0.3147,  0.7626],\n",
                  "         [ 0.4765,  0.4493,  1.0511,  ...,  0.0385, -1.0540,  0.1297],\n",
                  "         ...,\n",
                  "         [-1.1330, -0.1784, -0.9763,  ...,  0.6992, -0.7267, -0.0701],\n",
                  "         [-0.2662, -1.3487, -0.6321,  ..., -0.1184, -0.6835,  1.0175],\n",
                  "         [ 0.0862, -0.1340, -0.7118,  ...,  0.2626, -0.3656, -0.5268]],\n",
                  "\n",
                  "        [[-0.4119, -0.1673,  0.6608,  ...,  0.0640, -0.1031, -0.0795],\n",
                  "         [-0.4023,  0.5445,  0.8093,  ..., -0.0984, -0.4531,  0.6515],\n",
                  "         [ 0.7643,  0.6143, -0.1449,  ...,  0.6180,  0.0286, -0.6892],\n",
                  "         ...,\n",
                  "         [-0.0452, -1.1259, -0.8943,  ...,  0.2212, -0.2829,  0.0982],\n",
                  "         [-0.4905, -1.2221, -0.3150,  ...,  0.1936, -0.8729,  0.2296],\n",
                  "         [ 0.0218, -0.1226, -0.9529,  ...,  0.0313, -1.5212, -0.2723]]],\n",
                  "       grad_fn=<UnsafeViewBackward0>)\n"
               ]
            }
         ],
         "source": [
            "# GPT Model\n",
            "from torch import nn\n",
            "\n",
            "class GPTModel(nn.Module):\n",
            "    def __init__(self, cfg):\n",
            "        super().__init__()\n",
            "        self.tok_emb = nn.Embedding(cfg[\"vocab_size\"], cfg[\"emb_dim\"])\n",
            "        self.pos_emb = nn.Embedding(cfg[\"context_length\"], cfg[\"emb_dim\"])\n",
            "        self.drop_emb = nn.Dropout(cfg[\"drop_rate\"])\n",
            "        self.trf_blocks = nn.Sequential(*[TransformerBlock(cfg) for _ in range(cfg[\"n_layers\"])])\n",
            "        self.final_norm = LayerNorm(cfg[\"emb_dim\"])\n",
            "        self.out_head = nn.Linear(cfg[\"emb_dim\"], cfg[\"vocab_size\"], bias=False)\n",
            "\n",
            "    def forward(self, in_idx):\n",
            "        batch_size, seq_len = in_idx.shape\n",
            "        tok_embeds = self.tok_emb(in_idx)\n",
            "        #1\n",
            "        pos_embeds = self.pos_emb(\n",
            "        torch.arange(seq_len, device=in_idx.device)\n",
            "        )\n",
            "        x = tok_embeds + pos_embeds\n",
            "        x = self.drop_emb(x)\n",
            "        x = self.trf_blocks(x)\n",
            "        x = self.final_norm(x)\n",
            "        logits = self.out_head(x)\n",
            "        return logits\n",
            "\n",
            "torch.manual_seed(123)\n",
            "model = GPTModel(GPT_CONFIG_124M)\n",
            "print(first_batch[0].shape)\n",
            "out = model(first_batch[0])\n",
            "print(\"Input batch:\\n\", first_batch[0])\n",
            "print(\"\\nOutput shape:\", out.shape)\n",
            "print(out)\n"
         ]
      },
      {
         "cell_type": "code",
         "execution_count": 33,
         "metadata": {},
         "outputs": [
            {
               "name": "stdout",
               "output_type": "stream",
               "text": [
                  "Total number of parameters: 163,009,536\n",
                  "Token embedding layer shape: torch.Size([50257, 768])\n",
                  "Output layer shape: torch.Size([50257, 768])\n",
                  "Number of trainable parameters considering weight tying: 124,412,160\n"
               ]
            }
         ],
         "source": [
            "total_params = sum(p.numel() for p in model.parameters())\n",
            "print(f\"Total number of parameters: {total_params:,}\")\n",
            "print(\"Token embedding layer shape:\", model.tok_emb.weight.shape)\n",
            "print(\"Output layer shape:\", model.out_head.weight.shape)\n",
            "\n",
            "total_params_gpt2 = (\n",
            "total_params - sum(p.numel()\n",
            "for p in model.out_head.parameters())\n",
            ")\n",
            "print(f\"Number of trainable parameters \"\n",
            "f\"considering weight tying: {total_params_gpt2:,}\"\n",
            ")"
         ]
      },
      {
         "cell_type": "code",
         "execution_count": 34,
         "metadata": {},
         "outputs": [
            {
               "name": "stdout",
               "output_type": "stream",
               "text": [
                  "feedfordward params 56669184, attn params 28320768\n"
               ]
            }
         ],
         "source": [
            "# exercise\n",
            "# Calculate and compare the number of parameters that are\n",
            "# contained in the feed forward module and those that are\n",
            "# contained in the multi-head attention module.\n",
            "\n",
            "feedforward_params = 0\n",
            "attn_params = 0\n",
            "for i in range(len(model.trf_blocks)):\n",
            "    feedforward_params+= sum(p.numel() for p in model.trf_blocks[i].ff.parameters())\n",
            "    attn_params += sum(p.numel() for p in model.trf_blocks[i].att.parameters())\n",
            "print(f\"feedfordward params {feedforward_params}, attn params {attn_params}\")"
         ]
      },
      {
         "cell_type": "code",
         "execution_count": 35,
         "metadata": {},
         "outputs": [
            {
               "name": "stdout",
               "output_type": "stream",
               "text": [
                  "Total size of the model: 621.83 MB\n"
               ]
            }
         ],
         "source": [
            "total_size_bytes = total_params * 4 # 4 bytes per float32 parameter\n",
            "total_size_mb = total_size_bytes / (1024 * 1024)\n",
            "print(f\"Total size of the model: {total_size_mb:.2f} MB\")"
         ]
      },
      {
         "cell_type": "code",
         "execution_count": 36,
         "metadata": {},
         "outputs": [
            {
               "name": "stdout",
               "output_type": "stream",
               "text": [
                  "large params 838220800\n",
                  "large model size 3197.56 MB\n",
                  "Total size of the model: 3197.56 MB\n"
               ]
            }
         ],
         "source": [
            "# exercise\n",
            "# implement GPT2-large and count params\n",
            "\n",
            "GPT_CONFIG_124M\n",
            "GPT_CONFIG_L = {\"vocab_size\": 50257, \"context_length\": 1024, \"emb_dim\": 1280, \"n_heads\": 20, \"n_layers\": 36, \"drop_rate\": 0.1, \"qkv_bias\": False}\n",
            "\n",
            "large_model = GPTModel(GPT_CONFIG_L)\n",
            "large_params = sum(p.numel() for p in large_model.parameters())\n",
            "large_size = (large_params * 4) / (1024*1024)\n",
            "print(f\"large params {large_params}\")\n",
            "print(f\"large model size {large_size:.2f} MB\")\n",
            "\n",
            "total_size_bytes = large_params * 4 # 4 bytes per float32 parameter\n",
            "total_size_mb = total_size_bytes / (1024 * 1024)\n",
            "print(f\"Total size of the model: {total_size_mb:.2f} MB\")"
         ]
      },
      {
         "cell_type": "code",
         "execution_count": 44,
         "metadata": {},
         "outputs": [
            {
               "name": "stdout",
               "output_type": "stream",
               "text": [
                  "[15496, 314, 716]\n"
               ]
            },
            {
               "data": {
                  "text/plain": [
                     "'Hello I am282 PATHimp WORstd barrageMu 2014440 inflammatory'"
                  ]
               },
               "execution_count": 44,
               "metadata": {},
               "output_type": "execute_result"
            }
         ],
         "source": [
            "# generate text\n",
            "def generate_text_simple(model, idx, max_new_tokens, context_size):\n",
            "    for _ in range(max_new_tokens):\n",
            "        idx_cond = idx[:, -context_size:]\n",
            "        with torch.no_grad():\n",
            "            logits = model(idx_cond)\n",
            "        # last \"timestep\"/token i.e model generated output vs context\n",
            "        logits = logits[:, -1, :]\n",
            "        probas = torch.softmax(logits, dim=-1)\n",
            "        idx_next = torch.argmax(probas, dim=-1, keepdim=True)\n",
            "        # cat the predicted token to the context for the next iteration\n",
            "        idx = torch.cat((idx, idx_next), dim=1)\n",
            "    return idx\n",
            "\n",
            "start_context = \"Hello I am\"\n",
            "encoded = tokenizer.encode(start_context)\n",
            "print(encoded)\n",
            "enc_input = torch.tensor(encoded).unsqueeze(0)\n",
            "model.eval()\n",
            "next_iter = generate_text_simple(model, enc_input, 10, GPT_CONFIG_124M['context_length'])\n",
            "next_iter\n",
            "decoded_text = tokenizer.decode(next_iter.squeeze(0).tolist())\n",
            "decoded_text\n"
         ]
      },
      {
         "cell_type": "code",
         "execution_count": 45,
         "metadata": {},
         "outputs": [],
         "source": [
            "# Chapter 5\n",
            "# Pretraining\n",
            "\n",
            "GPT_CONFIG_124M = {\n",
            "    \"vocab_size\": 50257,\n",
            "    \"context_length\": 256,\n",
            "    \"emb_dim\": 768,\n",
            "    \"n_heads\": 12,\n",
            "    \"n_layers\": 12,\n",
            "    \"drop_rate\": 0.1,\n",
            "    \"qkv_bias\": False\n",
            "}\n",
            "torch.manual_seed(123)\n",
            "model = GPTModel(GPT_CONFIG_124M)\n",
            "model.eval();"
         ]
      },
      {
         "cell_type": "code",
         "execution_count": 46,
         "metadata": {},
         "outputs": [
            {
               "name": "stdout",
               "output_type": "stream",
               "text": [
                  "Output text:\n",
                  " Every effort moves you Reagan zone amplify convenanimate fel sunk sheer Cherokeeの�\n"
               ]
            }
         ],
         "source": [
            "def text_to_token_ids(text, tokenizer):\n",
            "    encoded = tokenizer.encode(text, allowed_special={'<|endoftext|>'})\n",
            "    encoded_tensor = torch.tensor(encoded).unsqueeze(0)\n",
            "    #1\n",
            "    return encoded_tensor\n",
            "def token_ids_to_text(token_ids, tokenizer):\n",
            "    flat = token_ids.squeeze(0)\n",
            "    return tokenizer.decode(flat.tolist())\n",
            "\n",
            "start_context = \"Every effort moves you\"\n",
            "tokenizer = tiktoken.get_encoding(\"gpt2\")\n",
            "\n",
            "token_ids = generate_text_simple(\n",
            "    model=model,\n",
            "    idx=text_to_token_ids(start_context, tokenizer),\n",
            "    max_new_tokens=10,\n",
            "    context_size=GPT_CONFIG_124M[\"context_length\"]\n",
            ")\n",
            "print(\"Output text:\\n\", token_ids_to_text(token_ids, tokenizer))"
         ]
      },
      {
         "cell_type": "code",
         "execution_count": 47,
         "metadata": {},
         "outputs": [
            {
               "name": "stdout",
               "output_type": "stream",
               "text": [
                  "Characters: 20479\n",
                  "Tokens: 5145\n"
               ]
            }
         ],
         "source": [
            "file_path = \"the-verdict.txt\"\n",
            "with open(file_path, \"r\", encoding=\"utf-8\") as file:\n",
            "    text_data = file.read()\n",
            "total_characters = len(text_data)\n",
            "total_tokens = len(tokenizer.encode(text_data))\n",
            "print(\"Characters:\", total_characters)\n",
            "print(\"Tokens:\", total_tokens)\n",
            "\n",
            "train_ratio = 0.90\n",
            "split_idx = int(train_ratio * len(text_data))\n",
            "train_data = text_data[:split_idx]\n",
            "val_data = text_data[split_idx:]"
         ]
      },
      {
         "cell_type": "code",
         "execution_count": 48,
         "metadata": {},
         "outputs": [],
         "source": [
            "\n",
            "torch.manual_seed(123)\n",
            "train_loader = create_dataloader_v1(\n",
            "    train_data,\n",
            "    batch_size=2,\n",
            "    max_length=GPT_CONFIG_124M[\"context_length\"],\n",
            "    stride=GPT_CONFIG_124M[\"context_length\"],\n",
            "    drop_last=True,\n",
            "    shuffle=True,\n",
            "    num_workers=0\n",
            ")\n",
            "val_loader = create_dataloader_v1(\n",
            "    val_data,\n",
            "    batch_size=2,\n",
            "    max_length=GPT_CONFIG_124M[\"context_length\"],\n",
            "    stride=GPT_CONFIG_124M[\"context_length\"],\n",
            "    drop_last=False,\n",
            "    shuffle=False,\n",
            "    num_workers=0\n",
            ")"
         ]
      },
      {
         "cell_type": "code",
         "execution_count": 49,
         "metadata": {},
         "outputs": [
            {
               "name": "stdout",
               "output_type": "stream",
               "text": [
                  "Train loader:\n",
                  "torch.Size([2, 256]) torch.Size([2, 256])\n",
                  "torch.Size([2, 256]) torch.Size([2, 256])\n",
                  "torch.Size([2, 256]) torch.Size([2, 256])\n",
                  "torch.Size([2, 256]) torch.Size([2, 256])\n",
                  "torch.Size([2, 256]) torch.Size([2, 256])\n",
                  "torch.Size([2, 256]) torch.Size([2, 256])\n",
                  "torch.Size([2, 256]) torch.Size([2, 256])\n",
                  "torch.Size([2, 256]) torch.Size([2, 256])\n",
                  "torch.Size([2, 256]) torch.Size([2, 256])\n",
                  "\n",
                  "Validation loader:\n",
                  "torch.Size([2, 256]) torch.Size([2, 256])\n"
               ]
            }
         ],
         "source": [
            "print(\"Train loader:\")\n",
            "for x, y in train_loader:\n",
            "    print(x.shape, y.shape)\n",
            "print(\"\\nValidation loader:\")\n",
            "\n",
            "for x, y in val_loader:\n",
            "    print(x.shape, y.shape)"
         ]
      },
      {
         "cell_type": "code",
         "execution_count": 50,
         "metadata": {},
         "outputs": [
            {
               "name": "stdout",
               "output_type": "stream",
               "text": [
                  "train loss 10.98\n",
                  "val loss 11.00\n"
               ]
            }
         ],
         "source": [
            "def calc_loss_batch(train_batch, target_batch, model, device):\n",
            "    train_batch = train_batch.to(device)\n",
            "    target_batch = target_batch.to(device)\n",
            "    preds = model(train_batch)\n",
            "    # flatten converts preds [9, 2, 256] --> [18, 256]; target_batch [9, 2] --> [18]\n",
            "    loss = torch.nn.functional.cross_entropy(preds.flatten(0, 1), target_batch.flatten(0))\n",
            "    return loss\n",
            "\n",
            "def calc_loss_loader(data_loader, model, device, num_batches=None):\n",
            "    total_loss = 0.\n",
            "    if len(data_loader) == 0:\n",
            "        return float(\"nan\")\n",
            "    elif num_batches is None:\n",
            "        num_batches = len(data_loader)\n",
            "    else:\n",
            "        num_batches = min(num_batches, len(data_loader)) \n",
            "    for i, (input_batch, target_batch) in enumerate(data_loader):\n",
            "        if i < num_batches:\n",
            "            loss = calc_loss_batch(input_batch, target_batch, model, device)\n",
            "            total_loss += loss.item()\n",
            "        else:\n",
            "            break\n",
            "    return total_loss / num_batches\n",
            "\n",
            "device = torch.device(\"cuda\" if torch.cuda.is_available() else \"cpu\")\n",
            "model.to(device)\n",
            "with torch.no_grad():\n",
            "    train_loss = calc_loss_loader(train_loader, model, device, 2)\n",
            "    val_loss = calc_loss_loader(train_loader, model, device, 2)\n",
            "print(f\"train loss {train_loss:.2f}\")\n",
            "print(f\"val loss {val_loss:.2f}\")\n",
            "\n",
            "\n",
            "\n",
            "\n",
            "\n",
            "\n"
         ]
      },
      {
         "cell_type": "code",
         "execution_count": 51,
         "metadata": {},
         "outputs": [
            {
               "name": "stdout",
               "output_type": "stream",
               "text": [
                  "Ep 1 (Step 000000): Train loss 9.871, Val loss 10.086\n",
                  "Ep 1 (Step 000005): Train loss 7.976, Val loss 8.304\n",
                  "Every effort moves you,.                                                \n",
                  "Ep 2 (Step 000010): Train loss 6.525, Val loss 7.041\n",
                  "Ep 2 (Step 000015): Train loss 5.790, Val loss 6.590\n",
                  "Every effort moves you, and, and, and, and the the the the the the the the the, and the, and the, and the the, and the the the the the and the the the the the, and the the the the the \",\n",
                  "Ep 3 (Step 000020): Train loss 5.238, Val loss 6.447\n",
                  "Ep 3 (Step 000025): Train loss 4.527, Val loss 6.331\n",
                  "Every effort moves you in the, and in the of the of the the of the of the of the of the of the of the of the of the of the of the of the of the of the of the of the of the of the of the of the of\n",
                  "Ep 4 (Step 000030): Train loss 3.634, Val loss 6.236\n",
                  "Ep 4 (Step 000035): Train loss 3.266, Val loss 6.216\n",
                  "Every effort moves you know, and, and, and in the picture, and Mrs.  \"I was, as--and it's the picture to have to have to have of my dear--and it's he had been the picture of the, as of\n",
                  "Ep 5 (Step 000040): Train loss 2.747, Val loss 6.202\n",
                  "Every effort moves you in the was one in the Mrs. Gisburn's the the last a little: \"Yes, and in the Riv about the Mrs. I was his pictures--that was.             \n",
                  "Ep 6 (Step 000045): Train loss 1.915, Val loss 6.248\n",
                  "Ep 6 (Step 000050): Train loss 1.507, Val loss 6.281\n",
                  "Every effort moves you in the was, and pushed one of the deep the fact with the last word. Gisburn's past!  \"Never Mrs. Gisburn's an he had been; and as his pictures--and \"There were days when I\n",
                  "Ep 7 (Step 000055): Train loss 1.202, Val loss 6.255\n",
                  "Ep 7 (Step 000060): Train loss 0.890, Val loss 6.366\n",
                  "Every effort moves you in the was one of the picture for the deep arm-chairs forward. Gisburn was no great, in the women had been through--it was back his glory, he had been the honour of the donkey, and were, and in his\n",
                  "Ep 8 (Step 000065): Train loss 0.498, Val loss 6.364\n",
                  "Ep 8 (Step 000070): Train loss 0.292, Val loss 6.417\n",
                  "Every effort moves you know,\" was one of the picture for nothing--I told Mrs.  \"Once, it, and in fact, and I had a smile behind his close grayish beard--as if he had married a rich widow, and in a little\n",
                  "Ep 9 (Step 000075): Train loss 0.160, Val loss 6.456\n",
                  "Ep 9 (Step 000080): Train loss 0.104, Val loss 6.572\n",
                  "Every effort moves you?\" \"Oh, I felt able to face the fact with equanimity. Victor Grindle was, I had been dead.\" \"Oh, instinctively embarrassed by my unexpected discovery; and as his pictures with a fashionable painter--that I found\n",
                  "Ep 10 (Step 000085): Train loss 0.078, Val loss 6.612\n",
                  "Every effort moves you?\" \"I didn't the glanced after him, so inevitably the background of her own lair it's an awful simpleton, you know, and threw back his glory, he had dropped his painting, married a rich widow, he didn't want\n"
               ]
            }
         ],
         "source": [
            "\n",
            "\n",
            "def evaluate_model(model, train_loader, val_loader, device, eval_iter):\n",
            "    model.eval() \n",
            "    with torch.no_grad():\n",
            "        train_loss = calc_loss_loader(\n",
            "            train_loader, model, device, num_batches=eval_iter\n",
            "        )\n",
            "        val_loss = calc_loss_loader(\n",
            "            val_loader, model, device, num_batches=eval_iter\n",
            "        )\n",
            "    model.train()\n",
            "    return train_loss, val_loss\n",
            "\n",
            "def generate_and_print_sample(model, tokenizer, device, start_context):\n",
            "    model.eval()\n",
            "    context_size = model.pos_emb.weight.shape[0]\n",
            "    encoded = text_to_token_ids(start_context, tokenizer).to(device)\n",
            "    with torch.no_grad():\n",
            "        token_ids = generate_text_simple(\n",
            "            model=model, idx=encoded,\n",
            "            max_new_tokens=50, context_size=context_size\n",
            "        )\n",
            "    decoded_text = token_ids_to_text(token_ids, tokenizer)\n",
            "    print(decoded_text.replace(\"\\n\", \" \"))\n",
            "    model.train()\n",
            "\n",
            "\n",
            "def train_model_simple(model, train_loader, val_loader, optimizer, device, num_epochs,eval_freq, eval_iter, start_context, tokenizer):\n",
            "    train_losses, val_losses, track_tokens_seen = [], [], []\n",
            "    tokens_seen, global_step = 0, -1\n",
            "    for epoch in range(num_epochs):\n",
            "        model.train()\n",
            "        for input_batch, target_batch in train_loader:\n",
            "            optimizer.zero_grad()\n",
            "            loss = calc_loss_batch(input_batch, target_batch, model, device)\n",
            "            loss.backward()\n",
            "            optimizer.step()\n",
            "            tokens_seen += input_batch.numel()\n",
            "            global_step += 1\n",
            "            if global_step % eval_freq == 0:\n",
            "                train_loss, val_loss = evaluate_model(model, train_loader, val_loader, device, eval_iter)\n",
            "                train_losses.append(train_loss)\n",
            "                val_losses.append(val_loss)\n",
            "                track_tokens_seen.append(tokens_seen)\n",
            "                print(f\"Ep {epoch+1} (Step {global_step:06d}): \"\n",
            "                        f\"Train loss {train_loss:.3f}, \"\n",
            "                        f\"Val loss {val_loss:.3f}\"\n",
            "                )\n",
            "        generate_and_print_sample(model, tokenizer, device, start_context)\n",
            "    return train_losses, val_losses, track_tokens_seen\n",
            "\n",
            "torch.manual_seed(123)\n",
            "model = GPTModel(GPT_CONFIG_124M)\n",
            "model.to(device)\n",
            "optimizer = torch.optim.AdamW(\n",
            "    model.parameters(),\n",
            "    lr=0.0004, weight_decay=0.1\n",
            ")\n",
            "num_epochs = 10\n",
            "train_losses, val_losses, tokens_seen = train_model_simple(\n",
            "    model, train_loader, val_loader, optimizer, device,\n",
            "    num_epochs=num_epochs, eval_freq=5, eval_iter=5,\n",
            "    start_context=\"Every effort moves you\", tokenizer=tokenizer\n",
            ")\n",
            "\n"
         ]
      },
      {
         "cell_type": "code",
         "execution_count": 52,
         "metadata": {},
         "outputs": [
            {
               "data": {
                  "image/png": "[encoded data removed]",
                  "text/plain": [
                     "<Figure size 500x300 with 2 Axes>"
                  ]
               },
               "metadata": {},
               "output_type": "display_data"
            }
         ],
         "source": [
            "import matplotlib.pyplot as plt\n",
            "from matplotlib.ticker import MaxNLocator\n",
            "\n",
            "def plot_losses(epochs_seen, tokens_seen, train_losses, val_losses):\n",
            "    fig, ax1 = plt.subplots(figsize=(5, 3))\n",
            "    ax1.plot(epochs_seen, train_losses, label=\"Training loss\")\n",
            "    ax1.plot(\n",
            "        epochs_seen, val_losses, linestyle=\"-.\", label=\"Validation loss\"\n",
            "    )\n",
            "    ax1.set_xlabel(\"Epochs\")\n",
            "    ax1.set_ylabel(\"Loss\")\n",
            "    ax1.legend(loc=\"upper right\")\n",
            "    ax1.xaxis.set_major_locator(MaxNLocator(integer=True))\n",
            "    ax2 = ax1.twiny()\n",
            "    #1\n",
            "    ax2.plot(tokens_seen, train_losses, alpha=0)\n",
            "    ax2.set_xlabel(\"Tokens seen\")\n",
            "    fig.tight_layout()\n",
            "    plt.show()\n",
            "\n",
            "epochs_tensor = torch.linspace(0, num_epochs, len(train_losses))\n",
            "plot_losses(epochs_tensor, tokens_seen, train_losses, val_losses)"
         ]
      },
      {
         "cell_type": "code",
         "execution_count": 53,
         "metadata": {},
         "outputs": [
            {
               "data": {
                  "text/plain": [
                     "'every effort moves you?\"\\n\"I didn\\'t the by a smile that lifted the tips of a self-confident moustache, I'"
                  ]
               },
               "execution_count": 53,
               "metadata": {},
               "output_type": "execute_result"
            }
         ],
         "source": [
            "model.to(\"cpu\")\n",
            "model.eval()\n",
            "\n",
            "tokenizer = tiktoken.get_encoding(\"gpt2\")\n",
            "token_ids = generate_text_simple(model, text_to_token_ids(\"every effort moves you\", tokenizer), max_new_tokens=25, context_size=GPT_CONFIG_124M['context_length'])\n",
            "text = token_ids_to_text(token_ids, tokenizer)\n",
            "text\n"
         ]
      },
      {
         "cell_type": "code",
         "execution_count": 47,
         "metadata": {},
         "outputs": [
            {
               "name": "stdout",
               "output_type": "stream",
               "text": [
                  "forward\n",
                  "forward\n",
                  "73 x closer\n",
                  "0 x every\n",
                  "0 x effort\n",
                  "582 x forward\n",
                  "2 x inches\n",
                  "0 x moves\n",
                  "0 x pizza\n",
                  "343 x toward\n"
               ]
            }
         ],
         "source": [
            "# text generation methods to introduce variation in the outpt\n",
            "vocab = {\n",
            "\"closer\": 0,\n",
            "\"every\": 1,\n",
            "\"effort\": 2,\n",
            "\"forward\": 3,\n",
            "\"inches\": 4,\n",
            "\"moves\": 5,\n",
            "\"pizza\": 6,\n",
            "\"toward\": 7,\n",
            "\"you\": 8,\n",
            "}\n",
            "inverse_vocab = {v: k for k, v in vocab.items()}\n",
            "next_token_logits = torch.tensor(\n",
            "    [4.51, 0.89, -1.90, 6.75, 1.63, -1.62, -1.89, 6.28, 1.79]\n",
            ")\n",
            "probas = torch.softmax(next_token_logits, dim=0)\n",
            "next_token_id = torch.argmax(probas).item()\n",
            "print(inverse_vocab[next_token_id])\n",
            "\n",
            "# probabilistic sampling process using multinomial function\n",
            "# multinomial function samples from the probas probability distribution num_samples times\n",
            "# multinomial = probs distribution for discrete events, where each event takes on a fixed set of discrete possible values \n",
            "# in this case, possible outcomes = vocab \n",
            "torch.manual_seed(123)\n",
            "next_token_id = torch.multinomial(probas, num_samples=1).item()\n",
            "print(inverse_vocab[next_token_id])\n",
            "\n",
            "def print_sampled_tokens(probas):\n",
            "    torch.manual_seed(123)\n",
            "    sample = [torch.multinomial(probas, num_samples=1).item() for i in range(1_000)]\n",
            "    sampled_ids = torch.bincount(torch.tensor(sample))\n",
            "    for i, freq in enumerate(sampled_ids):\n",
            "        print(f\"{freq} x {inverse_vocab[i]}\")\n",
            "\n",
            "print_sampled_tokens(probas)"
         ]
      },
      {
         "cell_type": "code",
         "execution_count": 48,
         "metadata": {},
         "outputs": [
            {
               "data": {
                  "image/png": "[encoded data removed]",
                  "text/plain": [
                     "<Figure size 500x300 with 1 Axes>"
                  ]
               },
               "metadata": {},
               "output_type": "display_data"
            }
         ],
         "source": [
            "# temperature scaling = scale the softmax to control the width of the distribution\n",
            "# dividing the logits with the temp values > 1, result in a flatter more spreadout distribution\n",
            "# temp values < 1 result in a peakier distribution \n",
            "def softmax_with_temperature(logits, temperature):\n",
            "    scaled_logits = logits / temperature\n",
            "    return torch.softmax(scaled_logits, dim=0)\n",
            "\n",
            "temperatures = [1, 0.1, 5]\n",
            "scaled_probas = [softmax_with_temperature(next_token_logits, T) for T in temperatures]\n",
            "x = torch.arange(len(vocab))\n",
            "bar_width = 0.15\n",
            "fig, ax = plt.subplots(figsize=(5, 3))\n",
            "for i, T in enumerate(temperatures):\n",
            "    rects = ax.bar(x + i * bar_width, scaled_probas[i],\n",
            "    bar_width, label=f'Temperature = {T}')\n",
            "    ax.set_ylabel('Probability')\n",
            "    ax.set_xticks(x)\n",
            "    ax.set_xticklabels(vocab.keys(), rotation=90)\n",
            "ax.legend()\n",
            "plt.tight_layout()\n",
            "plt.show()"
         ]
      },
      {
         "cell_type": "code",
         "execution_count": 49,
         "metadata": {},
         "outputs": [
            {
               "name": "stdout",
               "output_type": "stream",
               "text": [
                  "temp :1\n",
                  "73 x closer\n",
                  "0 x every\n",
                  "0 x effort\n",
                  "582 x forward\n",
                  "2 x inches\n",
                  "0 x moves\n",
                  "0 x pizza\n",
                  "343 x toward\n",
                  "temp :0.1\n",
                  "0 x closer\n",
                  "0 x every\n",
                  "0 x effort\n",
                  "985 x forward\n",
                  "0 x inches\n",
                  "0 x moves\n",
                  "0 x pizza\n",
                  "15 x toward\n",
                  "temp :5\n",
                  "165 x closer\n",
                  "75 x every\n",
                  "42 x effort\n",
                  "239 x forward\n",
                  "71 x inches\n",
                  "46 x moves\n",
                  "32 x pizza\n",
                  "227 x toward\n",
                  "103 x you\n",
                  "temp :1\n",
                  "temp :0.1\n",
                  "temp :5\n",
                  "tensor(0.0430)\n"
               ]
            }
         ],
         "source": [
            "# exercise 5.1 \n",
            "#Use the print_sampled_tokens function to print the sampling\n",
            "#frequencies of the softmax probabilities scaled with the\n",
            "# temperatures shown in figure 5.14. How often is the word\n",
            "# pizza sampled in each case? Can you think of a faster and\n",
            "# more accurate way to determine how often the word pizza\n",
            "# is sampled?\n",
            "\n",
            "for T in temperatures:\n",
            "    print(f\"temp :{T}\")\n",
            "    scaled_probs = softmax_with_temperature(next_token_logits, T)\n",
            "    print_sampled_tokens(scaled_probs)\n",
            "\n",
            "# more efficient way\n",
            "for T in temperatures:\n",
            "    print(f\"temp :{T}\")\n",
            "    scaled_probs = softmax_with_temperature(next_token_logits, T)\n",
            "    sample = torch.multinomial(scaled_probs, num_samples=1000, replacement=True)#.item()\n",
            "\n",
            "# pizza_sample = torch.sum(sample[])\n",
            "pizza_sample = sum([x.item() for x in sample if x == 6])\n",
            "pizza_sample\n",
            "\n",
            "temp_scaled_probs = [softmax_with_temperature(next_token_logits, T) for T in temperatures]\n",
            "pizza_sample_temp_5 = temp_scaled_probs[2][6]\n",
            "print(pizza_sample_temp_5)"
         ]
      },
      {
         "cell_type": "code",
         "execution_count": 50,
         "metadata": {},
         "outputs": [
            {
               "name": "stdout",
               "output_type": "stream",
               "text": [
                  "Top logits: tensor([6.7500, 6.2800, 4.5100])\n",
                  "Top positions: tensor([3, 7, 0])\n",
                  "tensor([4.5100,   -inf,   -inf, 6.7500,   -inf,   -inf,   -inf, 6.2800,   -inf])\n",
                  "tensor([0.0615, 0.0000, 0.0000, 0.5775, 0.0000, 0.0000, 0.0000, 0.3610, 0.0000])\n"
               ]
            }
         ],
         "source": [
            "# topk sampling\n",
            "# selects the top k scores from the logits and masks out the remaining possible token scores by replacing them with -inf \n",
            "# when applying softmax, those scores receive 0 probability and only the top k sampled words are considered for the output/generated token \n",
            "top_k = 3\n",
            "top_logits, top_pos = torch.topk(next_token_logits, top_k)\n",
            "print(\"Top logits:\", top_logits)\n",
            "print(\"Top positions:\", top_pos)\n",
            "\n",
            "# derive new logits using where condition, by masking all values less than the n=k probability (last element) with -inf\n",
            "new_logits = torch.where(\n",
            "    condition=next_token_logits < top_logits[-1],\n",
            "    input=torch.tensor(float('-inf')),\n",
            "    other=next_token_logits\n",
            ")\n",
            "\n",
            "print(new_logits)\n",
            "# get the probabilitis for the top k logits\n",
            "topk_probas = torch.softmax(new_logits, dim=0)\n",
            "print(topk_probas)"
         ]
      },
      {
         "cell_type": "code",
         "execution_count": 81,
         "metadata": {},
         "outputs": [
            {
               "name": "stdout",
               "output_type": "stream",
               "text": [
                  "Output text:\n",
                  " Every effort moves you in the Gisburn rather a little to live that point the tips of\n"
               ]
            }
         ],
         "source": [
            "# combine topk sampling with mulitnomial sampling and temperature scaling to generate text\n",
            "def generate(model, idx, max_new_tokens, context_size, temperature=0.0, top_k=None, eos_id=None):\n",
            "    for _ in range(max_new_tokens):\n",
            "        idx_cond = idx[:, -context_size:]\n",
            "        with torch.no_grad():\n",
            "            logits = model(idx_cond)\n",
            "        logits = logits[:, -1, :]\n",
            "        if top_k is not None:\n",
            "            top_logits, _ = torch.topk(logits, top_k)\n",
            "            min_val = top_logits[:, -1]\n",
            "            logits = torch.where(logits < min_val, torch.tensor(float('-inf')).to(logits.device),logits)\n",
            "        if temperature > 0.0:\n",
            "            logits = logits / temperature\n",
            "            probs = torch.softmax(logits, dim=-1)\n",
            "            idx_next = torch.multinomial(probs, num_samples=1)\n",
            "        else:\n",
            "            idx_next = torch.argmax(logits, dim=-1, keepdim=True)\n",
            "        if idx_next == eos_id:\n",
            "            break\n",
            "        idx = torch.cat((idx, idx_next), dim=1)\n",
            "    return idx\n",
            "\n",
            "\n",
            "torch.manual_seed(123)\n",
            "token_ids = generate(model=model,\n",
            "    idx=text_to_token_ids(\"Every effort moves you\", tokenizer),\n",
            "    max_new_tokens=15,\n",
            "    context_size=GPT_CONFIG_124M[\"context_length\"],\n",
            "    top_k=25,\n",
            "    temperature=1.4\n",
            ")\n",
            "print(\"Output text:\\n\", token_ids_to_text(token_ids, tokenizer))\n",
            "\n",
            "\n",
            "\n"
         ]
      },
      {
         "cell_type": "code",
         "execution_count": 52,
         "metadata": {},
         "outputs": [
            {
               "name": "stdout",
               "output_type": "stream",
               "text": [
                  "temp 1, topk 3, text Every effort moves you?\"\n",
                  "\n",
                  "\"Has he to hide to my--I turned, so\n",
                  "temp 1, topk 10, text Every effort moves you in the him, and pushed one of his painting; and the frame called\n",
                  "temp 1, topk 15, text Every effort moves you say her sp the tears I was taken nothing--I told Mrs. And\n",
                  "temp 0.1, topk 3, text Every effort moves you anagged him, me now, years the with the fact with equanim\n",
                  "temp 0.1, topk 10, text Every effort moves you everagged him, and pushed an to it were, so inevitably the picture\n",
                  "temp 0.1, topk 15, text Every effort moves you learned began to the-piece, in the table the fact on such my\n",
                  "temp 5, topk 3, text Every effort moves you?\" The mere,-chair, as a smile thought fact should be interesting\n",
                  "temp 5, topk 10, text Every effort moves you just began to face was! She's a with a deprecating in\n",
                  "temp 5, topk 15, text Every effort moves you?\"\n",
                  "\" on painting people, as my own sex for my such's\n"
               ]
            }
         ],
         "source": [
            "\n",
            "# exercise 5.2\n",
            "# different topk and temp settings - when is that desired?\n",
            "\n",
            "temps = [1, 0.1, 5]\n",
            "topk = [3, 10, 15]\n",
            "settings_text = []\n",
            "for t in temps:\n",
            "    for k in topk:\n",
            "        settings_text.append({\"temp\": t, \"topk\": k, \"text\": []})\n",
            "# settings_text = [{\"temp\": t, \"topk\": k, \"text\": []} for t, k in zip(temps, topk)]\n",
            "\n",
            "for i, set_ in enumerate(settings_text):\n",
            "    token_ids = generate(model=model,\n",
            "        idx=text_to_token_ids(\"Every effort moves you\", tokenizer),\n",
            "        max_new_tokens=15,\n",
            "        context_size=GPT_CONFIG_124M[\"context_length\"],\n",
            "        top_k=25,\n",
            "        temperature=1.4\n",
            "    )\n",
            "    # print(\"Output text:\\n\", token_ids_to_text(token_ids, tokenizer))\n",
            "    gen_text = token_ids_to_text(token_ids, tokenizer)\n",
            "    settings_text[i]['text'] = gen_text\n",
            "\n",
            "for set_ in settings_text:\n",
            "    print(f\"temp {set_['temp']}, topk {set_['topk']}, text {set_['text']}\")\n",
            "\n",
            "# EXERCISE 5.3\n",
            "# What are the different combinations of settings for the\n",
            "# generate function to force deterministic behavior, that is,\n",
            "# disabling the random sampling such that it always\n",
            "# produces the same outputs similar to the generate_simple\n",
            "# function?\n",
            "# temp = 0, topk = 1\n",
            "\n"
         ]
      },
      {
         "cell_type": "code",
         "execution_count": 53,
         "metadata": {},
         "outputs": [
            {
               "name": "stdout",
               "output_type": "stream",
               "text": [
                  "Ep 1 (Step 000000): Train loss 0.043, Val loss 6.608\n",
                  "Ep 1 (Step 000001): Train loss 0.036, Val loss 6.622\n",
                  "Ep 1 (Step 000002): Train loss 0.036, Val loss 6.635\n",
                  "Ep 1 (Step 000003): Train loss 0.032, Val loss 6.645\n",
                  "Ep 1 (Step 000004): Train loss 0.020, Val loss 6.657\n",
                  "Ep 1 (Step 000005): Train loss 0.028, Val loss 6.668\n",
                  "Ep 1 (Step 000006): Train loss 0.026, Val loss 6.675\n",
                  "Ep 1 (Step 000007): Train loss 0.023, Val loss 6.678\n",
                  "Ep 1 (Step 000008): Train loss 0.020, Val loss 6.680\n",
                  "Every effort moves you know you know, and pushed one of the deep arm-chairs forward. \"There: \"Be dissatisfied with the fullest reassurance. Gisburn drew back his glory, he had dropped his painting.         \n"
               ]
            }
         ],
         "source": [
            "# exercise 5.4 - save and load model weights and continue training for 1 epoch\n",
            "\n",
            "torch.save({\n",
            "    \"model_state_dict\": model.state_dict(),\n",
            "    \"optimizer_state_dict\": optimizer.state_dict(),\n",
            "    },\n",
            "    \"model_and_optimizer_cor_keys.pth\"\n",
            ")\n",
            "\n",
            "checkpoint = torch.load(\"model_and_optimizer_cor_keys.pth\", map_location=device, weights_only=True)\n",
            "new_model = GPTModel(GPT_CONFIG_124M)\n",
            "new_model.load_state_dict(checkpoint[\"model_state_dict\"])\n",
            "optimizer = torch.optim.AdamW(new_model.parameters(), lr=0.0005, weight_decay=0.1)\n",
            "optimizer.load_state_dict(checkpoint[\"optimizer_state_dict\"])\n",
            "# model.train()\n",
            "\n",
            "\n",
            "\n",
            "num_epochs = 1\n",
            "train_losses, val_losses, tokens_seen = train_model_simple(\n",
            "    new_model, train_loader, val_loader, optimizer, device,\n",
            "    num_epochs=num_epochs, eval_freq=1, eval_iter=1,\n",
            "    start_context=\"Every effort moves you\", tokenizer=tokenizer\n",
            ")\n",
            "\n"
         ]
      },
      {
         "cell_type": "code",
         "execution_count": 54,
         "metadata": {},
         "outputs": [
            {
               "data": {
                  "text/plain": [
                     "('gpt_download.py', <http.client.HTTPMessage at 0x52fecab60>)"
                  ]
               },
               "execution_count": 54,
               "metadata": {},
               "output_type": "execute_result"
            }
         ],
         "source": [
            "import urllib.request\n",
            "url = (\n",
            "\"https://raw.githubusercontent.com/rasbt/\"\n",
            "\"LLMs-from-scratch/main/ch05/\"\n",
            "\"01_main-chapter-code/gpt_download.py\"\n",
            ")\n",
            "filename = url.split('/')[-1]\n",
            "urllib.request.urlretrieve(url, filename)\n"
         ]
      },
      {
         "cell_type": "code",
         "execution_count": 37,
         "metadata": {},
         "outputs": [
            {
               "name": "stdout",
               "output_type": "stream",
               "text": [
                  "File already exists and is up-to-date: gpt2/124M/checkpoint\n",
                  "File already exists and is up-to-date: gpt2/124M/encoder.json\n",
                  "File already exists and is up-to-date: gpt2/124M/hparams.json\n",
                  "File already exists and is up-to-date: gpt2/124M/model.ckpt.data-00000-of-00001\n",
                  "File already exists and is up-to-date: gpt2/124M/model.ckpt.index\n",
                  "File already exists and is up-to-date: gpt2/124M/model.ckpt.meta\n",
                  "File already exists and is up-to-date: gpt2/124M/vocab.bpe\n"
               ]
            }
         ],
         "source": [
            "from gpt_download import download_and_load_gpt2\n",
            "settings, params = download_and_load_gpt2(\n",
            "model_size=\"124M\", models_dir=\"gpt2\"\n",
            ")"
         ]
      },
      {
         "cell_type": "code",
         "execution_count": 39,
         "metadata": {},
         "outputs": [
            {
               "name": "stdout",
               "output_type": "stream",
               "text": [
                  "Settings: {'n_vocab': 50257, 'n_ctx': 1024, 'n_embd': 768, 'n_head': 12, 'n_layer': 12}\n",
                  "Parameter dictionary keys: dict_keys(['blocks', 'b', 'g', 'wpe', 'wte'])\n",
                  "[[-0.11010301 -0.03926672  0.03310751 ... -0.1363697   0.01506208\n",
                  "   0.04531523]\n",
                  " [ 0.04034033 -0.04861503  0.04624869 ...  0.08605453  0.00253983\n",
                  "   0.04318958]\n",
                  " [-0.12746179  0.04793796  0.18410145 ...  0.08991534 -0.12972379\n",
                  "  -0.08785918]\n",
                  " ...\n",
                  " [-0.04453601 -0.05483596  0.01225674 ...  0.10435229  0.09783269\n",
                  "  -0.06952604]\n",
                  " [ 0.1860082   0.01665728  0.04611587 ... -0.09625227  0.07847701\n",
                  "  -0.02245961]\n",
                  " [ 0.05135201 -0.02768905  0.0499369  ...  0.00704835  0.15519823\n",
                  "   0.12067825]]\n",
                  "Token embedding weight tensor dimensions: (50257, 768)\n"
               ]
            }
         ],
         "source": [
            "print(\"Settings:\", settings)\n",
            "print(\"Parameter dictionary keys:\", params.keys())\n",
            "\n",
            "print(params[\"wte\"])\n",
            "print(\"Token embedding weight tensor dimensions:\", params[\"wte\"].shape)"
         ]
      },
      {
         "cell_type": "code",
         "execution_count": 53,
         "metadata": {},
         "outputs": [],
         "source": [
            "model_configs = {\n",
            "\"gpt2-small (124M)\": {\"emb_dim\": 768, \"n_layers\": 12, \"n_heads\": 12},\n",
            "\"gpt2-medium (355M)\": {\"emb_dim\": 1024, \"n_layers\": 24, \"n_heads\": 16},\n",
            "\"gpt2-large (774M)\": {\"emb_dim\": 1280, \"n_layers\": 36, \"n_heads\": 20},\n",
            "\"gpt2-xl (1558M)\": {\"emb_dim\": 1600, \"n_layers\": 48, \"n_heads\": 25},\n",
            "}\n",
            "\n",
            "model_name = \"gpt2-small (124M)\"\n",
            "NEW_CONFIG = GPT_CONFIG_124M.copy()\n",
            "NEW_CONFIG.update(model_configs[model_name])\n",
            "\n",
            "NEW_CONFIG.update({\"context_length\": 1024})\n",
            "NEW_CONFIG.update({\"qkv_bias\": True})\n",
            "\n",
            "gpt = GPTModel(NEW_CONFIG)\n",
            "gpt.eval();\n",
            "\n",
            "\n",
            "\n",
            "\n"
         ]
      },
      {
         "cell_type": "code",
         "execution_count": 41,
         "metadata": {},
         "outputs": [],
         "source": [
            "\n",
            "import numpy as np\n",
            "\n",
            "def assign(left, right):\n",
            "    if left.shape != right.shape:\n",
            "        raise ValueError(f\"Shape mismatch. Left: {left.shape}\", f\"Right: {right.shape}\"\n",
            "    )\n",
            "    return torch.nn.Parameter(torch.tensor(right))\n",
            "\n",
            "def load_weights_into_gpt(gpt, params):\n",
            "    gpt.pos_emb.weight = assign(gpt.pos_emb.weight, params['wpe'])\n",
            "    gpt.tok_emb.weight = assign(gpt.tok_emb.weight, params['wte'])\n",
            "    \n",
            "    for b in range(len(params[\"blocks\"])):\n",
            "        q_w, k_w, v_w = np.split(\n",
            "            (params[\"blocks\"][b][\"attn\"][\"c_attn\"])[\"w\"], 3, axis=-1)\n",
            "        gpt.trf_blocks[b].att.W_query.weight = assign(\n",
            "            gpt.trf_blocks[b].att.W_query.weight, q_w.T)\n",
            "        gpt.trf_blocks[b].att.W_key.weight = assign(\n",
            "            gpt.trf_blocks[b].att.W_key.weight, k_w.T)\n",
            "        gpt.trf_blocks[b].att.W_value.weight = assign(\n",
            "            gpt.trf_blocks[b].att.W_value.weight, v_w.T)\n",
            "\n",
            "        q_b, k_b, v_b = np.split(\n",
            "            (params[\"blocks\"][b][\"attn\"][\"c_attn\"])[\"b\"], 3, axis=-1)\n",
            "        gpt.trf_blocks[b].att.W_query.bias = assign(\n",
            "            gpt.trf_blocks[b].att.W_query.bias, q_b)\n",
            "        gpt.trf_blocks[b].att.W_key.bias = assign(\n",
            "            gpt.trf_blocks[b].att.W_key.bias, k_b)\n",
            "        gpt.trf_blocks[b].att.W_value.bias = assign(\n",
            "            gpt.trf_blocks[b].att.W_value.bias, v_b)\n",
            "\n",
            "        gpt.trf_blocks[b].att.out_proj.weight = assign(\n",
            "            gpt.trf_blocks[b].att.out_proj.weight, \n",
            "            params[\"blocks\"][b][\"attn\"][\"c_proj\"][\"w\"].T)\n",
            "        gpt.trf_blocks[b].att.out_proj.bias = assign(\n",
            "            gpt.trf_blocks[b].att.out_proj.bias, \n",
            "            params[\"blocks\"][b][\"attn\"][\"c_proj\"][\"b\"])\n",
            "\n",
            "        gpt.trf_blocks[b].ff.layers[0].weight = assign(\n",
            "            gpt.trf_blocks[b].ff.layers[0].weight, \n",
            "            params[\"blocks\"][b][\"mlp\"][\"c_fc\"][\"w\"].T)\n",
            "        gpt.trf_blocks[b].ff.layers[0].bias = assign(\n",
            "            gpt.trf_blocks[b].ff.layers[0].bias, \n",
            "            params[\"blocks\"][b][\"mlp\"][\"c_fc\"][\"b\"])\n",
            "        gpt.trf_blocks[b].ff.layers[2].weight = assign(\n",
            "            gpt.trf_blocks[b].ff.layers[2].weight, \n",
            "            params[\"blocks\"][b][\"mlp\"][\"c_proj\"][\"w\"].T)\n",
            "        gpt.trf_blocks[b].ff.layers[2].bias = assign(\n",
            "            gpt.trf_blocks[b].ff.layers[2].bias, \n",
            "            params[\"blocks\"][b][\"mlp\"][\"c_proj\"][\"b\"])\n",
            "\n",
            "        gpt.trf_blocks[b].norm1.scale = assign(\n",
            "            gpt.trf_blocks[b].norm1.scale, \n",
            "            params[\"blocks\"][b][\"ln_1\"][\"g\"])\n",
            "        gpt.trf_blocks[b].norm1.shift = assign(\n",
            "            gpt.trf_blocks[b].norm1.shift, \n",
            "            params[\"blocks\"][b][\"ln_1\"][\"b\"])\n",
            "        gpt.trf_blocks[b].norm2.scale = assign(\n",
            "            gpt.trf_blocks[b].norm2.scale, \n",
            "            params[\"blocks\"][b][\"ln_2\"][\"g\"])\n",
            "        gpt.trf_blocks[b].norm2.shift = assign(\n",
            "            gpt.trf_blocks[b].norm2.shift, \n",
            "            params[\"blocks\"][b][\"ln_2\"][\"b\"])\n",
            "\n",
            "    gpt.final_norm.scale = assign(gpt.final_norm.scale, params[\"g\"])\n",
            "    gpt.final_norm.shift = assign(gpt.final_norm.shift, params[\"b\"])\n",
            "    gpt.out_head.weight = assign(gpt.out_head.weight, params[\"wte\"])\n",
            " "
         ]
      },
      {
         "cell_type": "code",
         "execution_count": 44,
         "metadata": {},
         "outputs": [],
         "source": [
            "device = torch.device(\"cuda\" if torch.cuda.is_available() else \"cpu\")\n",
            "load_weights_into_gpt(gpt, params)\n",
            "gpt.to(device);"
         ]
      },
      {
         "cell_type": "code",
         "execution_count": 45,
         "metadata": {},
         "outputs": [
            {
               "name": "stdout",
               "output_type": "stream",
               "text": [
                  "[[-0.4738484   0.08742206  0.00388936 ... -0.25919554  0.15165617\n",
                  "  -0.41001597]\n",
                  " [-0.26136586  0.1473427   0.06946629 ... -0.01636625  0.2170211\n",
                  "  -0.19235404]\n",
                  " [-0.09780374  0.23870145  0.3668052  ...  0.19914557  0.10434178\n",
                  "  -0.2400296 ]\n",
                  " ...\n",
                  " [ 0.17441125  0.40739733 -0.13367423 ... -0.22591433 -0.11071706\n",
                  "  -0.21971957]\n",
                  " [-0.18825532 -0.03070945  0.06061395 ...  0.05599799 -0.22653137\n",
                  "   0.38899696]\n",
                  " [ 0.18357256  0.4110258   0.22059144 ...  0.12845424 -0.44823655\n",
                  "   0.41800687]]\n",
                  "tensor([[-0.4738,  0.0874,  0.0039,  ..., -0.2592,  0.1517, -0.4100],\n",
                  "        [-0.2614,  0.1473,  0.0695,  ..., -0.0164,  0.2170, -0.1924],\n",
                  "        [-0.0978,  0.2387,  0.3668,  ...,  0.1991,  0.1043, -0.2400],\n",
                  "        ...,\n",
                  "        [ 0.1744,  0.4074, -0.1337,  ..., -0.2259, -0.1107, -0.2197],\n",
                  "        [-0.1883, -0.0307,  0.0606,  ...,  0.0560, -0.2265,  0.3890],\n",
                  "        [ 0.1836,  0.4110,  0.2206,  ...,  0.1285, -0.4482,  0.4180]],\n",
                  "       grad_fn=<SliceBackward0>)\n"
               ]
            }
         ],
         "source": [
            "\n",
            "q_w, k_w, v_w = np.split((params[\"blocks\"][0][\"attn\"][\"c_attn\"])[\"w\"], 3, axis=-1)\n",
            "print(q_w.T[:10])\n",
            "\n",
            "gpt_weight_test = gpt.trf_blocks[0].att.W_query.weight\n",
            "\n",
            "print(gpt_weight_test[:10])\n",
            "assert torch.allclose(gpt_weight_test, torch.tensor(q_w.T))"
         ]
      },
      {
         "cell_type": "code",
         "execution_count": 52,
         "metadata": {},
         "outputs": [
            {
               "name": "stdout",
               "output_type": "stream",
               "text": [
                  "generate\n",
                  "tensor([[6109, 3626, 6100,  345,  257,  649,  367,   11,   39,   13,  554, 3919,\n",
                  "          287,  257, 1917,  287,  465, 2761,  326, 1281,  338,   12, 1558,    8,\n",
                  "          379, 1115,  517,  373,   62]])\n",
                  "Output text:\n",
                  " Every effort moves you a new H,H. Inno in a problem in his problems that post's-17) at three more was_\n",
                  "generate text simple\n",
                  "Every effort moves you are the Jungle, I to the smell like a man's the year after the great, if the next was a new year\n"
               ]
            }
         ],
         "source": [
            "\n",
            "def text_to_token_ids(text, tokenizer):\n",
            "    encoded = tokenizer.encode(text, allowed_special={'<|endoftext|>'})\n",
            "    encoded_tensor = torch.tensor(encoded).unsqueeze(0)\n",
            "    #1\n",
            "    return encoded_tensor\n",
            "def token_ids_to_text(token_ids, tokenizer):\n",
            "    flat = token_ids.squeeze(0)\n",
            "    return tokenizer.decode(flat.tolist())\n",
            "\n",
            "def generate_text_simple(model, idx, max_new_tokens, context_size):\n",
            "    for _ in range(max_new_tokens):\n",
            "        idx_cond = idx[:, -context_size:]\n",
            "        with torch.no_grad():\n",
            "            logits = model(idx_cond)\n",
            "        # last \"timestep\"/token i.e model generated output vs context\n",
            "        logits = logits[:, -1, :]\n",
            "        probas = torch.softmax(logits, dim=-1)\n",
            "        idx_next = torch.argmax(probas, dim=-1, keepdim=True)\n",
            "        # cat the predicted token to the context for the next iteration\n",
            "        idx = torch.cat((idx, idx_next), dim=1)\n",
            "    return idx\n",
            "\n",
            "def generate(model, idx, max_new_tokens, context_size, temperature=0.0, top_k=None, eos_id=None, device=\"cpu\"):\n",
            "    for _ in range(max_new_tokens):\n",
            "        idx_cond = idx[:, -context_size:]\n",
            "        with torch.no_grad():\n",
            "            logits = model(idx_cond)\n",
            "        logits = logits[:, -1, :]\n",
            "        if top_k is not None:\n",
            "            top_logits, _ = torch.topk(logits, top_k)\n",
            "            min_val = top_logits[:, -1]\n",
            "            logits = torch.where(logits < min_val, torch.tensor(float('-inf')).to(logits.device),logits)\n",
            "        if temperature > 0.0:\n",
            "            logits = logits / temperature\n",
            "            probs = torch.softmax(logits, dim=-1)\n",
            "            idx_next = torch.multinomial(probs, num_samples=1)\n",
            "        else:\n",
            "            idx_next = torch.argmax(logits, dim=-1, keepdim=True)\n",
            "        if idx_next == eos_id:\n",
            "            break\n",
            "        idx = torch.cat((idx, idx_next), dim=1)\n",
            "    return idx\n",
            "\n",
            "torch.manual_seed(123)\n",
            "tokenizer = tiktoken.get_encoding(\"gpt2\")\n",
            "device = torch.device(\"cuda\" if torch.cuda.is_available() else \"cpu\")\n",
            "new_gpt = GPTModel(NEW_CONFIG)\n",
            "load_weights_into_gpt(new_gpt, params)\n",
            "new_gpt.to(device)\n",
            "token_ids = generate(\n",
            "    model=new_gpt,\n",
            "    idx=text_to_token_ids(\"Every effort moves you\", tokenizer).to(device),\n",
            "    max_new_tokens=25,\n",
            "    context_size=NEW_CONFIG[\"context_length\"],\n",
            "    top_k=50,\n",
            "    temperature=1.5,\n",
            "    device=device\n",
            ")\n",
            "print(\"generate\")\n",
            "print(token_ids[:5])\n",
            "print(\"Output text:\\n\", token_ids_to_text(token_ids, tokenizer))\n",
            "\n",
            "start_context = \"Every effort moves you\"\n",
            "encoded = tokenizer.encode(start_context)\n",
            "enc_input = torch.tensor(encoded).unsqueeze(0)\n",
            "new_gpt.eval()\n",
            "print(\"generate text simple\")\n",
            "out = generate_text_simple(model=new_gpt, idx=enc_input, max_new_tokens=25, context_size=NEW_CONFIG['context_length'])\n",
            "text_out = token_ids_to_text(out, tokenizer=tokenizer)\n",
            "print(text_out)\n"
         ]
      },
      {
         "cell_type": "code",
         "execution_count": 64,
         "metadata": {},
         "outputs": [
            {
               "name": "stdout",
               "output_type": "stream",
               "text": [
                  "Training loss: 8.154706372155083\n",
                  "Validation loss: 7.950900077819824\n"
               ]
            }
         ],
         "source": [
            "\n",
            "torch.manual_seed(123) # For reproducibility due to the shuffling in the data loader\n",
            "train_loss = calc_loss_loader(train_loader, gpt, device)\n",
            "val_loss = calc_loss_loader(val_loader, gpt, device)\n",
            "\n",
            "print(\"Training loss:\", train_loss)\n",
            "print(\"Validation loss:\", val_loss)"
         ]
      },
      {
         "cell_type": "code",
         "execution_count": 65,
         "metadata": {},
         "outputs": [
            {
               "name": "stdout",
               "output_type": "stream",
               "text": [
                  "Ep 1 (Step 000000): Train loss 8.195, Val loss 7.951\n",
                  "Ep 1 (Step 000005): Train loss 8.194, Val loss 7.951\n",
                  "Every effort moves you are the Jungle, I to the smell like a man's the year after the great, if the next was a new year to the most likely to be a step by the new, of the U. It's of theodora is to-\n",
                  "Ep 2 (Step 000010): Train loss 8.303, Val loss 7.951\n",
                  "Ep 2 (Step 000015): Train loss 8.021, Val loss 7.951\n",
                  "Every effort moves you are the Jungle, I to the smell like a man's the year after the great, if the next was a new year to the most likely to be a step by the new, of the U. It's of theodora is to-\n",
                  "Ep 3 (Step 000020): Train loss 8.146, Val loss 7.951\n",
                  "Ep 3 (Step 000025): Train loss 8.164, Val loss 7.951\n",
                  "Every effort moves you are the Jungle, I to the smell like a man's the year after the great, if the next was a new year to the most likely to be a step by the new, of the U. It's of theodora is to-\n",
                  "Ep 4 (Step 000030): Train loss 8.168, Val loss 7.951\n",
                  "Ep 4 (Step 000035): Train loss 8.235, Val loss 7.951\n",
                  "Every effort moves you are the Jungle, I to the smell like a man's the year after the great, if the next was a new year to the most likely to be a step by the new, of the U. It's of theodora is to-\n",
                  "Ep 5 (Step 000040): Train loss 8.023, Val loss 7.951\n",
                  "Every effort moves you are the Jungle, I to the smell like a man's the year after the great, if the next was a new year to the most likely to be a step by the new, of the U. It's of theodora is to-\n"
               ]
            }
         ],
         "source": [
            "# exercise 5.5 \n",
            "# calculate training and val losses with pretrained openai weights\n",
            "\n",
            "\n",
            "num_epochs = 5\n",
            "train_losses, val_losses, tokens_seen = train_model_simple(\n",
            "    gpt, train_loader, val_loader, optimizer, device,\n",
            "    num_epochs=num_epochs, eval_freq=5, eval_iter=5,\n",
            "    start_context=\"Every effort moves you\", tokenizer=tokenizer\n",
            ")"
         ]
      },
      {
         "cell_type": "code",
         "execution_count": 66,
         "metadata": {},
         "outputs": [
            {
               "data": {
                  "image/png": "[encoded data removed]",
                  "text/plain": [
                     "<Figure size 500x300 with 2 Axes>"
                  ]
               },
               "metadata": {},
               "output_type": "display_data"
            }
         ],
         "source": [
            "epochs_tensor = torch.linspace(0, num_epochs, len(train_losses))\n",
            "plot_losses(epochs_tensor, tokens_seen, train_losses, val_losses)\n"
         ]
      },
      {
         "cell_type": "code",
         "execution_count": 67,
         "metadata": {},
         "outputs": [
            {
               "name": "stdout",
               "output_type": "stream",
               "text": [
                  "sms_spam_collection/SMSSpamCollection.tsv already exists. Skipping download and extraction.\n"
               ]
            }
         ],
         "source": [
            "# chapter 6 - fine-tuning\n",
            "\n",
            "import urllib.request\n",
            "import zipfile\n",
            "import os\n",
            "from pathlib import Path\n",
            "url = \"https://archive.ics.uci.edu/static/public/228/sms+spam+collection.zip\"\n",
            "zip_path = \"sms_spam_collection.zip\"\n",
            "extracted_path = \"sms_spam_collection\"\n",
            "data_file_path = Path(extracted_path) / \"SMSSpamCollection.tsv\"\n",
            "def download_and_unzip_spam_data(url, zip_path, extracted_path, data_file_path):\n",
            "    if data_file_path.exists():\n",
            "        print(f\"{data_file_path} already exists. Skipping download \"\n",
            "    \"and extraction.\")\n",
            "        return\n",
            "    with urllib.request.urlopen(url) as response:\n",
            "        with open(zip_path, \"wb\") as out_file:\n",
            "            out_file.write(response.read())\n",
            "    with zipfile.ZipFile(zip_path, \"r\") as zip_ref:\n",
            "        zip_ref.extractall(extracted_path)\n",
            "    original_file_path = Path(extracted_path) / \"SMSSpamCollection\"\n",
            "    os.rename(original_file_path, data_file_path)\n",
            "    print(f\"File downloaded and saved as {data_file_path}\")\n",
            "\n",
            "download_and_unzip_spam_data(url, zip_path, extracted_path, data_file_path)"
         ]
      },
      {
         "cell_type": "code",
         "execution_count": 68,
         "metadata": {},
         "outputs": [
            {
               "data": {
                  "text/html": [
                     "<div>\n",
                     "<style scoped>\n",
                     "    .dataframe tbody tr th:only-of-type {\n",
                     "        vertical-align: middle;\n",
                     "    }\n",
                     "\n",
                     "    .dataframe tbody tr th {\n",
                     "        vertical-align: top;\n",
                     "    }\n",
                     "\n",
                     "    .dataframe thead th {\n",
                     "        text-align: right;\n",
                     "    }\n",
                     "</style>\n",
                     "<table border=\"1\" class=\"dataframe\">\n",
                     "  <thead>\n",
                     "    <tr style=\"text-align: right;\">\n",
                     "      <th></th>\n",
                     "      <th>Label</th>\n",
                     "      <th>Text</th>\n",
                     "    </tr>\n",
                     "  </thead>\n",
                     "  <tbody>\n",
                     "    <tr>\n",
                     "      <th>0</th>\n",
                     "      <td>ham</td>\n",
                     "      <td>Go until jurong point, crazy.. Available only ...</td>\n",
                     "    </tr>\n",
                     "    <tr>\n",
                     "      <th>1</th>\n",
                     "      <td>ham</td>\n",
                     "      <td>Ok lar... Joking wif u oni...</td>\n",
                     "    </tr>\n",
                     "    <tr>\n",
                     "      <th>2</th>\n",
                     "      <td>spam</td>\n",
                     "      <td>Free entry in 2 a wkly comp to win FA Cup fina...</td>\n",
                     "    </tr>\n",
                     "    <tr>\n",
                     "      <th>3</th>\n",
                     "      <td>ham</td>\n",
                     "      <td>U dun say so early hor... U c already then say...</td>\n",
                     "    </tr>\n",
                     "    <tr>\n",
                     "      <th>4</th>\n",
                     "      <td>ham</td>\n",
                     "      <td>Nah I don't think he goes to usf, he lives aro...</td>\n",
                     "    </tr>\n",
                     "    <tr>\n",
                     "      <th>...</th>\n",
                     "      <td>...</td>\n",
                     "      <td>...</td>\n",
                     "    </tr>\n",
                     "    <tr>\n",
                     "      <th>5567</th>\n",
                     "      <td>spam</td>\n",
                     "      <td>This is the 2nd time we have tried 2 contact u...</td>\n",
                     "    </tr>\n",
                     "    <tr>\n",
                     "      <th>5568</th>\n",
                     "      <td>ham</td>\n",
                     "      <td>Will ü b going to esplanade fr home?</td>\n",
                     "    </tr>\n",
                     "    <tr>\n",
                     "      <th>5569</th>\n",
                     "      <td>ham</td>\n",
                     "      <td>Pity, * was in mood for that. So...any other s...</td>\n",
                     "    </tr>\n",
                     "    <tr>\n",
                     "      <th>5570</th>\n",
                     "      <td>ham</td>\n",
                     "      <td>The guy did some bitching but I acted like i'd...</td>\n",
                     "    </tr>\n",
                     "    <tr>\n",
                     "      <th>5571</th>\n",
                     "      <td>ham</td>\n",
                     "      <td>Rofl. Its true to its name</td>\n",
                     "    </tr>\n",
                     "  </tbody>\n",
                     "</table>\n",
                     "<p>5572 rows × 2 columns</p>\n",
                     "</div>"
                  ],
                  "text/plain": [
                     "     Label                                               Text\n",
                     "0      ham  Go until jurong point, crazy.. Available only ...\n",
                     "1      ham                      Ok lar... Joking wif u oni...\n",
                     "2     spam  Free entry in 2 a wkly comp to win FA Cup fina...\n",
                     "3      ham  U dun say so early hor... U c already then say...\n",
                     "4      ham  Nah I don't think he goes to usf, he lives aro...\n",
                     "...    ...                                                ...\n",
                     "5567  spam  This is the 2nd time we have tried 2 contact u...\n",
                     "5568   ham               Will ü b going to esplanade fr home?\n",
                     "5569   ham  Pity, * was in mood for that. So...any other s...\n",
                     "5570   ham  The guy did some bitching but I acted like i'd...\n",
                     "5571   ham                         Rofl. Its true to its name\n",
                     "\n",
                     "[5572 rows x 2 columns]"
                  ]
               },
               "execution_count": 68,
               "metadata": {},
               "output_type": "execute_result"
            }
         ],
         "source": [
            "import pandas as pd\n",
            "df = pd.read_csv(data_file_path, sep=\"\\t\", header=None, names=[\"Label\", \"Text\"])\n",
            "df"
         ]
      },
      {
         "cell_type": "code",
         "execution_count": 69,
         "metadata": {},
         "outputs": [
            {
               "name": "stdout",
               "output_type": "stream",
               "text": [
                  "Label\n",
                  "ham     4825\n",
                  "spam     747\n",
                  "Name: count, dtype: int64\n"
               ]
            }
         ],
         "source": [
            "print(df[\"Label\"].value_counts())"
         ]
      },
      {
         "cell_type": "code",
         "execution_count": 70,
         "metadata": {},
         "outputs": [
            {
               "name": "stdout",
               "output_type": "stream",
               "text": [
                  "Label\n",
                  "ham     747\n",
                  "spam    747\n",
                  "Name: count, dtype: int64\n"
               ]
            }
         ],
         "source": [
            "def create_balanced_dataset(df):\n",
            "    num_spam = df[df[\"Label\"] == \"spam\"].shape[0]\n",
            "    ham_subset = df[df[\"Label\"] == \"ham\"].sample(num_spam, random_state=123)\n",
            "    balanced_df = pd.concat([\n",
            "        ham_subset, df[df[\"Label\"] == \"spam\"]\n",
            "    ])\n",
            "    return balanced_df\n",
            "balanced_df = create_balanced_dataset(df)\n",
            "print(balanced_df[\"Label\"].value_counts())\n"
         ]
      },
      {
         "cell_type": "code",
         "execution_count": 71,
         "metadata": {},
         "outputs": [
            {
               "data": {
                  "text/html": [
                     "<div>\n",
                     "<style scoped>\n",
                     "    .dataframe tbody tr th:only-of-type {\n",
                     "        vertical-align: middle;\n",
                     "    }\n",
                     "\n",
                     "    .dataframe tbody tr th {\n",
                     "        vertical-align: top;\n",
                     "    }\n",
                     "\n",
                     "    .dataframe thead th {\n",
                     "        text-align: right;\n",
                     "    }\n",
                     "</style>\n",
                     "<table border=\"1\" class=\"dataframe\">\n",
                     "  <thead>\n",
                     "    <tr style=\"text-align: right;\">\n",
                     "      <th></th>\n",
                     "      <th>Label</th>\n",
                     "      <th>Text</th>\n",
                     "    </tr>\n",
                     "  </thead>\n",
                     "  <tbody>\n",
                     "    <tr>\n",
                     "      <th>4307</th>\n",
                     "      <td>0</td>\n",
                     "      <td>Awww dat is sweet! We can think of something t...</td>\n",
                     "    </tr>\n",
                     "    <tr>\n",
                     "      <th>4138</th>\n",
                     "      <td>0</td>\n",
                     "      <td>Just got to  &amp;lt;#&amp;gt;</td>\n",
                     "    </tr>\n",
                     "    <tr>\n",
                     "      <th>4831</th>\n",
                     "      <td>0</td>\n",
                     "      <td>The word \"Checkmate\" in chess comes from the P...</td>\n",
                     "    </tr>\n",
                     "    <tr>\n",
                     "      <th>4461</th>\n",
                     "      <td>0</td>\n",
                     "      <td>This is wishing you a great day. Moji told me ...</td>\n",
                     "    </tr>\n",
                     "    <tr>\n",
                     "      <th>5440</th>\n",
                     "      <td>0</td>\n",
                     "      <td>Thank you. do you generally date the brothas?</td>\n",
                     "    </tr>\n",
                     "    <tr>\n",
                     "      <th>...</th>\n",
                     "      <td>...</td>\n",
                     "      <td>...</td>\n",
                     "    </tr>\n",
                     "    <tr>\n",
                     "      <th>5537</th>\n",
                     "      <td>1</td>\n",
                     "      <td>Want explicit SEX in 30 secs? Ring 02073162414...</td>\n",
                     "    </tr>\n",
                     "    <tr>\n",
                     "      <th>5540</th>\n",
                     "      <td>1</td>\n",
                     "      <td>ASKED 3MOBILE IF 0870 CHATLINES INCLU IN FREE ...</td>\n",
                     "    </tr>\n",
                     "    <tr>\n",
                     "      <th>5547</th>\n",
                     "      <td>1</td>\n",
                     "      <td>Had your contract mobile 11 Mnths? Latest Moto...</td>\n",
                     "    </tr>\n",
                     "    <tr>\n",
                     "      <th>5566</th>\n",
                     "      <td>1</td>\n",
                     "      <td>REMINDER FROM O2: To get 2.50 pounds free call...</td>\n",
                     "    </tr>\n",
                     "    <tr>\n",
                     "      <th>5567</th>\n",
                     "      <td>1</td>\n",
                     "      <td>This is the 2nd time we have tried 2 contact u...</td>\n",
                     "    </tr>\n",
                     "  </tbody>\n",
                     "</table>\n",
                     "<p>1494 rows × 2 columns</p>\n",
                     "</div>"
                  ],
                  "text/plain": [
                     "      Label                                               Text\n",
                     "4307      0  Awww dat is sweet! We can think of something t...\n",
                     "4138      0                             Just got to  &lt;#&gt;\n",
                     "4831      0  The word \"Checkmate\" in chess comes from the P...\n",
                     "4461      0  This is wishing you a great day. Moji told me ...\n",
                     "5440      0      Thank you. do you generally date the brothas?\n",
                     "...     ...                                                ...\n",
                     "5537      1  Want explicit SEX in 30 secs? Ring 02073162414...\n",
                     "5540      1  ASKED 3MOBILE IF 0870 CHATLINES INCLU IN FREE ...\n",
                     "5547      1  Had your contract mobile 11 Mnths? Latest Moto...\n",
                     "5566      1  REMINDER FROM O2: To get 2.50 pounds free call...\n",
                     "5567      1  This is the 2nd time we have tried 2 contact u...\n",
                     "\n",
                     "[1494 rows x 2 columns]"
                  ]
               },
               "execution_count": 71,
               "metadata": {},
               "output_type": "execute_result"
            }
         ],
         "source": [
            "# balanced_df[\"Label\"] = balanced_df[\"Label\"].map({\"ham\": 0, \"spam\": 1})\n",
            "balanced_df['Label'] = balanced_df['Label'].map({\"ham\": 0, \"spam\": 1})\n",
            "balanced_df"
         ]
      },
      {
         "cell_type": "code",
         "execution_count": 72,
         "metadata": {},
         "outputs": [
            {
               "name": "stdout",
               "output_type": "stream",
               "text": [
                  "1045 149 300\n"
               ]
            },
            {
               "data": {
                  "text/html": [
                     "<div>\n",
                     "<style scoped>\n",
                     "    .dataframe tbody tr th:only-of-type {\n",
                     "        vertical-align: middle;\n",
                     "    }\n",
                     "\n",
                     "    .dataframe tbody tr th {\n",
                     "        vertical-align: top;\n",
                     "    }\n",
                     "\n",
                     "    .dataframe thead th {\n",
                     "        text-align: right;\n",
                     "    }\n",
                     "</style>\n",
                     "<table border=\"1\" class=\"dataframe\">\n",
                     "  <thead>\n",
                     "    <tr style=\"text-align: right;\">\n",
                     "      <th></th>\n",
                     "      <th>Label</th>\n",
                     "      <th>Text</th>\n",
                     "    </tr>\n",
                     "  </thead>\n",
                     "  <tbody>\n",
                     "    <tr>\n",
                     "      <th>0</th>\n",
                     "      <td>0</td>\n",
                     "      <td>Dude how do you like the buff wind.</td>\n",
                     "    </tr>\n",
                     "    <tr>\n",
                     "      <th>1</th>\n",
                     "      <td>0</td>\n",
                     "      <td>Tessy..pls do me a favor. Pls convey my birthd...</td>\n",
                     "    </tr>\n",
                     "    <tr>\n",
                     "      <th>2</th>\n",
                     "      <td>1</td>\n",
                     "      <td>Reminder: You have not downloaded the content ...</td>\n",
                     "    </tr>\n",
                     "    <tr>\n",
                     "      <th>3</th>\n",
                     "      <td>1</td>\n",
                     "      <td>Got what it takes 2 take part in the WRC Rally...</td>\n",
                     "    </tr>\n",
                     "    <tr>\n",
                     "      <th>4</th>\n",
                     "      <td>1</td>\n",
                     "      <td>Shop till u Drop, IS IT YOU, either 10K, 5K, £...</td>\n",
                     "    </tr>\n",
                     "    <tr>\n",
                     "      <th>...</th>\n",
                     "      <td>...</td>\n",
                     "      <td>...</td>\n",
                     "    </tr>\n",
                     "    <tr>\n",
                     "      <th>1040</th>\n",
                     "      <td>1</td>\n",
                     "      <td>4mths half price Orange line rental &amp; latest c...</td>\n",
                     "    </tr>\n",
                     "    <tr>\n",
                     "      <th>1041</th>\n",
                     "      <td>1</td>\n",
                     "      <td>Thanks for the Vote. Now sing along with the s...</td>\n",
                     "    </tr>\n",
                     "    <tr>\n",
                     "      <th>1042</th>\n",
                     "      <td>1</td>\n",
                     "      <td>IMPORTANT INFORMATION 4 ORANGE USER 0796XXXXXX...</td>\n",
                     "    </tr>\n",
                     "    <tr>\n",
                     "      <th>1043</th>\n",
                     "      <td>1</td>\n",
                     "      <td>Urgent! call 09066612661 from landline. Your c...</td>\n",
                     "    </tr>\n",
                     "    <tr>\n",
                     "      <th>1044</th>\n",
                     "      <td>0</td>\n",
                     "      <td>His frens go then he in lor. Not alone wif my ...</td>\n",
                     "    </tr>\n",
                     "  </tbody>\n",
                     "</table>\n",
                     "<p>1045 rows × 2 columns</p>\n",
                     "</div>"
                  ],
                  "text/plain": [
                     "      Label                                               Text\n",
                     "0         0                Dude how do you like the buff wind.\n",
                     "1         0  Tessy..pls do me a favor. Pls convey my birthd...\n",
                     "2         1  Reminder: You have not downloaded the content ...\n",
                     "3         1  Got what it takes 2 take part in the WRC Rally...\n",
                     "4         1  Shop till u Drop, IS IT YOU, either 10K, 5K, £...\n",
                     "...     ...                                                ...\n",
                     "1040      1  4mths half price Orange line rental & latest c...\n",
                     "1041      1  Thanks for the Vote. Now sing along with the s...\n",
                     "1042      1  IMPORTANT INFORMATION 4 ORANGE USER 0796XXXXXX...\n",
                     "1043      1  Urgent! call 09066612661 from landline. Your c...\n",
                     "1044      0  His frens go then he in lor. Not alone wif my ...\n",
                     "\n",
                     "[1045 rows x 2 columns]"
                  ]
               },
               "execution_count": 72,
               "metadata": {},
               "output_type": "execute_result"
            }
         ],
         "source": [
            "def random_split(df, train_frac, validation_frac):\n",
            "    df = df.sample(frac=1, random_state=123).reset_index(drop=True)\n",
            "    train_end = int(len(df) * train_frac)\n",
            "    validation_end = train_end + int(len(df) * validation_frac)\n",
            "    train_df = df[:train_end]\n",
            "    validation_df = df[train_end:validation_end]\n",
            "    test_df = df[validation_end:]\n",
            "    return train_df, validation_df, test_df\n",
            "\n",
            "train_df, validation_df, test_df = random_split(balanced_df, 0.7, 0.1)\n",
            "print(train_df.shape[0], validation_df.shape[0], test_df.shape[0])\n",
            "train_df.to_csv(\"train.csv\", index=None)\n",
            "validation_df.to_csv(\"validation.csv\", index=None)\n",
            "test_df.to_csv(\"test.csv\", index=None)\n",
            "train_df"
         ]
      },
      {
         "cell_type": "code",
         "execution_count": 73,
         "metadata": {},
         "outputs": [
            {
               "data": {
                  "text/html": [
                     "<div>\n",
                     "<style scoped>\n",
                     "    .dataframe tbody tr th:only-of-type {\n",
                     "        vertical-align: middle;\n",
                     "    }\n",
                     "\n",
                     "    .dataframe tbody tr th {\n",
                     "        vertical-align: top;\n",
                     "    }\n",
                     "\n",
                     "    .dataframe thead th {\n",
                     "        text-align: right;\n",
                     "    }\n",
                     "</style>\n",
                     "<table border=\"1\" class=\"dataframe\">\n",
                     "  <thead>\n",
                     "    <tr style=\"text-align: right;\">\n",
                     "      <th></th>\n",
                     "      <th>Label</th>\n",
                     "      <th>Text</th>\n",
                     "    </tr>\n",
                     "  </thead>\n",
                     "  <tbody>\n",
                     "    <tr>\n",
                     "      <th>0</th>\n",
                     "      <td>0</td>\n",
                     "      <td>Dude how do you like the buff wind.</td>\n",
                     "    </tr>\n",
                     "    <tr>\n",
                     "      <th>1</th>\n",
                     "      <td>0</td>\n",
                     "      <td>Tessy..pls do me a favor. Pls convey my birthd...</td>\n",
                     "    </tr>\n",
                     "    <tr>\n",
                     "      <th>2</th>\n",
                     "      <td>1</td>\n",
                     "      <td>Reminder: You have not downloaded the content ...</td>\n",
                     "    </tr>\n",
                     "    <tr>\n",
                     "      <th>3</th>\n",
                     "      <td>1</td>\n",
                     "      <td>Got what it takes 2 take part in the WRC Rally...</td>\n",
                     "    </tr>\n",
                     "    <tr>\n",
                     "      <th>4</th>\n",
                     "      <td>1</td>\n",
                     "      <td>Shop till u Drop, IS IT YOU, either 10K, 5K, £...</td>\n",
                     "    </tr>\n",
                     "    <tr>\n",
                     "      <th>...</th>\n",
                     "      <td>...</td>\n",
                     "      <td>...</td>\n",
                     "    </tr>\n",
                     "    <tr>\n",
                     "      <th>1040</th>\n",
                     "      <td>1</td>\n",
                     "      <td>4mths half price Orange line rental &amp; latest c...</td>\n",
                     "    </tr>\n",
                     "    <tr>\n",
                     "      <th>1041</th>\n",
                     "      <td>1</td>\n",
                     "      <td>Thanks for the Vote. Now sing along with the s...</td>\n",
                     "    </tr>\n",
                     "    <tr>\n",
                     "      <th>1042</th>\n",
                     "      <td>1</td>\n",
                     "      <td>IMPORTANT INFORMATION 4 ORANGE USER 0796XXXXXX...</td>\n",
                     "    </tr>\n",
                     "    <tr>\n",
                     "      <th>1043</th>\n",
                     "      <td>1</td>\n",
                     "      <td>Urgent! call 09066612661 from landline. Your c...</td>\n",
                     "    </tr>\n",
                     "    <tr>\n",
                     "      <th>1044</th>\n",
                     "      <td>0</td>\n",
                     "      <td>His frens go then he in lor. Not alone wif my ...</td>\n",
                     "    </tr>\n",
                     "  </tbody>\n",
                     "</table>\n",
                     "<p>1045 rows × 2 columns</p>\n",
                     "</div>"
                  ],
                  "text/plain": [
                     "      Label                                               Text\n",
                     "0         0                Dude how do you like the buff wind.\n",
                     "1         0  Tessy..pls do me a favor. Pls convey my birthd...\n",
                     "2         1  Reminder: You have not downloaded the content ...\n",
                     "3         1  Got what it takes 2 take part in the WRC Rally...\n",
                     "4         1  Shop till u Drop, IS IT YOU, either 10K, 5K, £...\n",
                     "...     ...                                                ...\n",
                     "1040      1  4mths half price Orange line rental & latest c...\n",
                     "1041      1  Thanks for the Vote. Now sing along with the s...\n",
                     "1042      1  IMPORTANT INFORMATION 4 ORANGE USER 0796XXXXXX...\n",
                     "1043      1  Urgent! call 09066612661 from landline. Your c...\n",
                     "1044      0  His frens go then he in lor. Not alone wif my ...\n",
                     "\n",
                     "[1045 rows x 2 columns]"
                  ]
               },
               "execution_count": 73,
               "metadata": {},
               "output_type": "execute_result"
            }
         ],
         "source": [
            "train_df = pd.read_csv(\"train.csv\")\n",
            "train_df"
         ]
      },
      {
         "cell_type": "code",
         "execution_count": 74,
         "metadata": {},
         "outputs": [
            {
               "name": "stdout",
               "output_type": "stream",
               "text": [
                  "120\n"
               ]
            }
         ],
         "source": [
            "import torch\n",
            "from torch.utils.data import Dataset\n",
            "\n",
            "class SpamDataset(Dataset):\n",
            "    def __init__(self, csv_file, tokenizer, max_length=None, pad_token=50256):\n",
            "        self.data = pd.read_csv(csv_file)\n",
            "        self.encoded_texts = [tokenizer.encode(text) for text in self.data['Text']]\n",
            "        if max_length is None:\n",
            "            self.max_length = self._longest_encoded_length()\n",
            "        else:\n",
            "            self.max_length = max_length\n",
            "        self.encoded_texts = [encoded_text + [pad_token]*(self.max_length - len(encoded_text)) for encoded_text in self.encoded_texts]\n",
            "        \n",
            "    def __getitem__(self, idx):\n",
            "        encoded = self.encoded_texts[idx]\n",
            "        label = self.data.iloc[idx]['Label']\n",
            "        return torch.tensor(encoded, dtype=torch.long), torch.tensor(label, dtype=torch.long)\n",
            "    \n",
            "    def __len__(self):\n",
            "        return len(self.data)\n",
            "    \n",
            "    def _longest_encoded_length(self):\n",
            "        max_len = 0\n",
            "        for seq in self.encoded_texts:\n",
            "            if len(seq) > max_len:\n",
            "                max_len = len(seq)\n",
            "        return max_len\n",
            "\n",
            "tokenizer = tiktoken.get_encoding(\"gpt2\")\n",
            "train_dataset = SpamDataset(\"train.csv\", tokenizer)\n",
            "\n",
            "print(train_dataset.max_length)\n",
            "\n",
            "# use train datasets max_length for val and test\n",
            "val_dataset = SpamDataset(\n",
            "    csv_file=\"validation.csv\",\n",
            "    max_length=train_dataset.max_length,\n",
            "    tokenizer=tokenizer\n",
            ")\n",
            "test_dataset = SpamDataset(\n",
            "    csv_file=\"test.csv\",\n",
            "    max_length=train_dataset.max_length,\n",
            "    tokenizer=tokenizer\n",
            ")\n"
         ]
      },
      {
         "cell_type": "code",
         "execution_count": 75,
         "metadata": {},
         "outputs": [],
         "source": [
            "# exercise 6.1\n",
            "\n",
            "# Pad the inputs to the maximum number of tokens the\n",
            "# model supports and observe how it affects the predictive\n",
            "# performance"
         ]
      },
      {
         "cell_type": "code",
         "execution_count": 76,
         "metadata": {},
         "outputs": [
            {
               "name": "stdout",
               "output_type": "stream",
               "text": [
                  "Input batch dimensions: torch.Size([8, 120])\n",
                  "Label batch dimensions torch.Size([8])\n",
                  "130 training batches\n",
                  "19 validation batches\n",
                  "38 test batches\n"
               ]
            }
         ],
         "source": [
            "from torch.utils.data import DataLoader\n",
            "\n",
            "num_workers = 0\n",
            "batch_size = 8\n",
            "\n",
            "torch.manual_seed(123)\n",
            "train_loader = DataLoader(\n",
            "    dataset=train_dataset,\n",
            "    batch_size=batch_size,\n",
            "    shuffle=True,\n",
            "    num_workers=num_workers,\n",
            "    drop_last=True,\n",
            ")\n",
            "val_loader = DataLoader(\n",
            "    dataset=val_dataset,\n",
            "    batch_size=batch_size,\n",
            "    num_workers=num_workers,\n",
            "    drop_last=False,\n",
            ")\n",
            "test_loader = DataLoader(\n",
            "    dataset=test_dataset,\n",
            "    batch_size=batch_size,\n",
            "    num_workers=num_workers,\n",
            "    drop_last=False,\n",
            ")\n",
            "\n",
            "for input_batch, target_batch in train_loader:\n",
            "    pass\n",
            "print(\"Input batch dimensions:\", input_batch.shape)\n",
            "print(\"Label batch dimensions\", target_batch.shape)\n",
            "\n",
            "print(f\"{len(train_loader)} training batches\")\n",
            "print(f\"{len(val_loader)} validation batches\")\n",
            "print(f\"{len(test_loader)} test batches\")"
         ]
      },
      {
         "cell_type": "code",
         "execution_count": 77,
         "metadata": {},
         "outputs": [],
         "source": [
            "CHOOSE_MODEL = \"gpt2-small (124M)\"\n",
            "INPUT_PROMPT = \"Every effort moves\"\n",
            "BASE_CONFIG = {\n",
            "\"vocab_size\": 50257,\n",
            "\"context_length\": 1024,\n",
            "\"drop_rate\": 0.0,\n",
            "\"qkv_bias\": True\n",
            "}\n",
            "model_configs = {\n",
            "\"gpt2-small (124M)\": {\"emb_dim\": 768, \"n_layers\": 12, \"n_heads\": 12},\n",
            "\"gpt2-medium (355M)\": {\"emb_dim\": 1024, \"n_layers\": 24, \"n_heads\": 16},\n",
            "\"gpt2-large (774M)\": {\"emb_dim\": 1280, \"n_layers\": 36, \"n_heads\": 20},\n",
            "\"gpt2-xl (1558M)\": {\"emb_dim\": 1600, \"n_layers\": 48, \"n_heads\": 25},\n",
            "}\n",
            "BASE_CONFIG.update(model_configs[CHOOSE_MODEL])\n"
         ]
      },
      {
         "cell_type": "code",
         "execution_count": 78,
         "metadata": {},
         "outputs": [
            {
               "name": "stdout",
               "output_type": "stream",
               "text": [
                  "File already exists and is up-to-date: gpt2/124M/checkpoint\n",
                  "File already exists and is up-to-date: gpt2/124M/encoder.json\n",
                  "File already exists and is up-to-date: gpt2/124M/hparams.json\n",
                  "File already exists and is up-to-date: gpt2/124M/model.ckpt.data-00000-of-00001\n",
                  "File already exists and is up-to-date: gpt2/124M/model.ckpt.index\n",
                  "File already exists and is up-to-date: gpt2/124M/model.ckpt.meta\n",
                  "File already exists and is up-to-date: gpt2/124M/vocab.bpe\n"
               ]
            }
         ],
         "source": [
            "from gpt_download import download_and_load_gpt2\n",
            "# from book_code.ch05 import GPTModel, load_weights_into_gpt\n",
            "\n",
            "model_size = CHOOSE_MODEL.split(\" \")[-1].lstrip(\"(\").rstrip(\")\")\n",
            "settings, params = download_and_load_gpt2(\n",
            "model_size=model_size, models_dir=\"gpt2\"\n",
            ")\n",
            "model = GPTModel(BASE_CONFIG)\n",
            "load_weights_into_gpt(model, params)\n",
            "model.eval();"
         ]
      },
      {
         "cell_type": "code",
         "execution_count": null,
         "metadata": {},
         "outputs": [
            {
               "name": "stdout",
               "output_type": "stream",
               "text": [
                  "Every effort moves you are the Jungle, I to the smell like a man's the year after\n"
               ]
            }
         ],
         "source": [
            "text_1 = \"Every effort moves you\"\n",
            "token_ids = generate_text_simple(\n",
            "    model=model,\n",
            "    idx=text_to_token_ids(text_1, tokenizer),\n",
            "    max_new_tokens=15,\n",
            "    context_size=BASE_CONFIG[\"context_length\"]\n",
            ")\n",
            "print(token_ids_to_text(token_ids, tokenizer))"
         ]
      },
      {
         "cell_type": "code",
         "execution_count": null,
         "metadata": {},
         "outputs": [
            {
               "name": "stdout",
               "output_type": "stream",
               "text": [
                  "Is the following text 'spam'? Answer with 'yes' or 'no': 'You are a winner you have been specially selected to receive $1000 cash or a $2000 award.'\n",
                  "\n",
                  "\n",
                  "\n",
                  "\n",
                  "\n",
                  "\n",
                  "\n",
                  "\n",
                  "\n",
                  "\n",
                  "\n",
                  "\n",
                  "\n",
                  "\n",
                  "\n",
                  "\n",
                  "- (Gone of the\n"
               ]
            }
         ],
         "source": [
            "text_2 = (\n",
            "\"Is the following text 'spam'? Answer with 'yes' or 'no':\"\n",
            "\" 'You are a winner you have been specially\"\n",
            "\" selected to receive $1000 cash or a $2000 award.'\"\n",
            ")\n",
            "token_ids = generate_text_simple(\n",
            "    model=model,\n",
            "    idx=text_to_token_ids(text_2, tokenizer),\n",
            "    max_new_tokens=23,\n",
            "    context_size=BASE_CONFIG[\"context_length\"]\n",
            ")\n",
            "print(token_ids_to_text(token_ids, tokenizer))"
         ]
      },
      {
         "cell_type": "code",
         "execution_count": 82,
         "metadata": {},
         "outputs": [],
         "source": [
            "# freeze model layers\n",
            "# replace last layer with classifier layer consisting of two heads - 1 for spam and 1 for not-spam \n",
            "# only need to fine-tune the last (few) layers of the network \n",
            "torch.manual_seed(123)\n",
            "for param in model.parameters():\n",
            "    param.requires_grad = False\n",
            "\n",
            "# output layer hs requires_grad set to True by default\n",
            "num_classes = 2\n",
            "model.out_head = nn.Linear(in_features=BASE_CONFIG['emb_dim'], out_features=num_classes)\n",
            "\n",
            "# unfreeze last transform block and layernorm layer\n",
            "\n",
            "for param in model.trf_blocks[-1].parameters():\n",
            "    param.requires_grad = True\n",
            "for param in model.final_norm.parameters():\n",
            "    param.requires_grad = True\n"
         ]
      },
      {
         "cell_type": "code",
         "execution_count": 88,
         "metadata": {},
         "outputs": [
            {
               "name": "stdout",
               "output_type": "stream",
               "text": [
                  "Inputs: tensor([[5211,  345,  423,  640]])\n",
                  "Inputs dimensions: torch.Size([1, 4])\n",
                  "Outputs:\n",
                  " tensor([[[-0.3194,  0.0427],\n",
                  "         [-3.0345,  0.6616],\n",
                  "         [-0.3902,  0.3803],\n",
                  "         [-0.6379,  1.5290]]])\n",
                  "Outputs dimensions: torch.Size([1, 4, 2])\n",
                  "Last output token: tensor([[-0.6379,  1.5290]])\n",
                  "tensor(1)\n"
               ]
            }
         ],
         "source": [
            "inputs = tokenizer.encode(\"Do you have time\")\n",
            "inputs = torch.tensor(inputs).unsqueeze(0)\n",
            "print(\"Inputs:\", inputs)\n",
            "print(\"Inputs dimensions:\", inputs.shape)\n",
            "\n",
            "with torch.no_grad():\n",
            "    outputs = model(inputs)\n",
            "# output dim is now 2 instead of vocab_size \n",
            "print(\"Outputs:\\n\", outputs)\n",
            "print(\"Outputs dimensions:\", outputs.shape)\n",
            "\n",
            "# Given the causal attention mask setup in figure 6.12, the\n",
            "# last token in a sequence accumulates the most information\n",
            "# since it is the only token with access to data from all the\n",
            "# previous tokens. Therefore, in our spam classification task,\n",
            "# we focus on this last token during the fine-tuning process\n",
            "# use last output token to generate prediction\n",
            "# this token has seen all the context from the previous tokens \n",
            "print(\"Last output token:\", outputs[:, -1, :])\n",
            "\n",
            "probs = torch.softmax(outputs[:, -1, :], dim=-1)\n",
            "pred = torch.argmax(probs)\n",
            "print(pred)"
         ]
      },
      {
         "cell_type": "code",
         "execution_count": 90,
         "metadata": {},
         "outputs": [
            {
               "name": "stdout",
               "output_type": "stream",
               "text": [
                  "0.3375\n"
               ]
            }
         ],
         "source": [
            "def calc_accuracy_loader(data_loader, model, device, num_batches=None):\n",
            "    model.eval()\n",
            "    correct_predictions, num_examples = 0, 0\n",
            "    if num_batches is None:\n",
            "        num_batches = len(data_loader)\n",
            "    else:\n",
            "        num_batches = min(num_batches, len(data_loader))\n",
            "    for i, (input_batch, target_batch) in enumerate(data_loader):\n",
            "        if i < num_batches:\n",
            "            input_batch = input_batch.to(device)\n",
            "            target_batch = target_batch.to(device)\n",
            "            with torch.no_grad():\n",
            "                logits = model(input_batch)[:, -1, :]\n",
            "            # largest values will already correspond to the token with the highest probability so we can skip the softmax function\n",
            "            predicted_labels = torch.argmax(logits, dim=-1)\n",
            "            num_examples += predicted_labels.shape[0]\n",
            "            correct_predictions += ((predicted_labels == target_batch).sum().item())\n",
            "        else:\n",
            "            break\n",
            "    return correct_predictions / num_examples\n",
            "\n",
            "device = torch.device(\"cuda\" if torch.cuda.is_available() else \"cpu\")\n",
            "model.to(device)\n",
            "torch.manual_seed(123)\n",
            "acc = calc_accuracy_loader(train_loader, model, device, num_batches=10)\n",
            "print(acc)"
         ]
      },
      {
         "cell_type": "code",
         "execution_count": 91,
         "metadata": {},
         "outputs": [
            {
               "name": "stdout",
               "output_type": "stream",
               "text": [
                  "Training loss: 2.275\n",
                  "Validation loss: 3.194\n",
                  "Test loss: 2.630\n"
               ]
            }
         ],
         "source": [
            "def calc_loss_batch(input_batch, target_batch, model, device):\n",
            "    input_batch = input_batch.to(device)\n",
            "    target_batch = target_batch.to(device)\n",
            "    logits = model(input_batch)[:, -1, :]\n",
            "    loss = torch.nn.functional.cross_entropy(logits, target_batch)\n",
            "    return loss\n",
            "\n",
            "def calc_loss_loader(data_loader, model, device, num_batches=None):\n",
            "    total_loss = 0.\n",
            "    if len(data_loader) == 0:\n",
            "        return float(\"nan\")\n",
            "    elif num_batches is None:\n",
            "        num_batches = len(data_loader)\n",
            "    else:\n",
            "        num_batches = min(num_batches, len(data_loader))\n",
            "    for i, (input_batch, target_batch) in enumerate(data_loader):\n",
            "        if i < num_batches:\n",
            "            loss = calc_loss_batch(\n",
            "            input_batch, target_batch, model, device\n",
            "            )\n",
            "            total_loss += loss.item()\n",
            "        else:\n",
            "            break\n",
            "    return total_loss / num_batches\n",
            "\n",
            "with torch.no_grad():\n",
            "    train_loss = calc_loss_loader(\n",
            "    train_loader, model, device, num_batches=5\n",
            "    )\n",
            "    val_loss = calc_loss_loader(val_loader, model, device, num_batches=5)\n",
            "    test_loss = calc_loss_loader(test_loader, model, device, num_batches=5)\n",
            "print(f\"Training loss: {train_loss:.3f}\")\n",
            "print(f\"Validation loss: {val_loss:.3f}\")\n",
            "print(f\"Test loss: {test_loss:.3f}\")"
         ]
      },
      {
         "cell_type": "code",
         "execution_count": 92,
         "metadata": {},
         "outputs": [],
         "source": [
            "def evaluate_model(model, train_loader, val_loader, device, eval_iter):\n",
            "    model.eval()\n",
            "    with torch.no_grad():\n",
            "        train_loss = calc_loss_loader(\n",
            "        train_loader, model, device, num_batches=eval_iter\n",
            "        )\n",
            "        val_loss = calc_loss_loader(\n",
            "        val_loader, model, device, num_batches=eval_iter\n",
            "        )\n",
            "    model.train()\n",
            "    return train_loss, val_loss\n",
            "\n",
            "\n",
            "def train_classifier_simple(model, train_loader, val_loader, optimizer, device, num_epochs, eval_freq, eval_iter):\n",
            "    train_losses, val_losses, train_accs, val_accs = [], [], [], [] #1\n",
            "    examples_seen, global_step = 0, -1\n",
            "    for epoch in range(num_epochs):\n",
            "        model.train()\n",
            "        for input_batch, target_batch in train_loader:\n",
            "            optimizer.zero_grad()\n",
            "            loss = calc_loss_batch(input_batch, target_batch, model, device)\n",
            "            loss.backward()\n",
            "            optimizer.step()\n",
            "            examples_seen += input_batch.shape[0]\n",
            "            global_step += 1\n",
            "            if global_step % eval_freq == 0:\n",
            "                train_loss, val_loss = evaluate_model(\n",
            "                model, train_loader, val_loader, device, eval_iter)\n",
            "                train_losses.append(train_loss)\n",
            "                val_losses.append(val_loss)\n",
            "                print(f\"Ep {epoch+1} (Step {global_step:06d}): \"\n",
            "                f\"Train loss {train_loss:.3f}, \"\n",
            "                f\"Val loss {val_loss:.3f}\"\n",
            "                )\n",
            "        train_accuracy = calc_accuracy_loader(\n",
            "        train_loader, model, device, num_batches=eval_iter\n",
            "        )\n",
            "        val_accuracy = calc_accuracy_loader(\n",
            "        val_loader, model, device, num_batches=eval_iter\n",
            "        )\n",
            "        print(f\"Training accuracy: {train_accuracy*100:.2f}% | \", end=\"\")\n",
            "        print(f\"Validation accuracy: {val_accuracy*100:.2f}%\")\n",
            "        train_accs.append(train_accuracy)\n",
            "        val_accs.append(val_accuracy)\n",
            "    return train_losses, val_losses, train_accs, val_accs, examples_seen\n",
            "\n",
            "\n"
         ]
      },
      {
         "cell_type": "code",
         "execution_count": 93,
         "metadata": {},
         "outputs": [
            {
               "name": "stdout",
               "output_type": "stream",
               "text": [
                  "Ep 1 (Step 000000): Train loss 2.125, Val loss 3.027\n",
                  "Ep 1 (Step 000050): Train loss 0.334, Val loss 0.604\n",
                  "Ep 1 (Step 000100): Train loss 0.338, Val loss 0.443\n",
                  "Training accuracy: 85.00% | Validation accuracy: 80.00%\n",
                  "Ep 2 (Step 000150): Train loss 0.520, Val loss 0.347\n",
                  "Ep 2 (Step 000200): Train loss 0.376, Val loss 0.338\n",
                  "Ep 2 (Step 000250): Train loss 0.410, Val loss 0.318\n",
                  "Training accuracy: 80.00% | Validation accuracy: 85.00%\n",
                  "Ep 3 (Step 000300): Train loss 0.362, Val loss 0.293\n",
                  "Ep 3 (Step 000350): Train loss 0.328, Val loss 0.280\n",
                  "Training accuracy: 90.00% | Validation accuracy: 85.00%\n",
                  "Ep 4 (Step 000400): Train loss 0.180, Val loss 0.306\n",
                  "Ep 4 (Step 000450): Train loss 0.297, Val loss 0.262\n",
                  "Ep 4 (Step 000500): Train loss 0.257, Val loss 0.276\n",
                  "Training accuracy: 90.00% | Validation accuracy: 87.50%\n",
                  "Ep 5 (Step 000550): Train loss 0.202, Val loss 0.233\n",
                  "Ep 5 (Step 000600): Train loss 0.293, Val loss 0.244\n",
                  "Training accuracy: 95.00% | Validation accuracy: 90.00%\n",
                  "Training completed in 4.76 minutes.\n"
               ]
            }
         ],
         "source": [
            "import time\n",
            "start_time = time.time()\n",
            "torch.manual_seed(123)\n",
            "optimizer = torch.optim.AdamW(model.parameters(), lr=5e-5, weight_decay=0.1)\n",
            "num_epochs = 5\n",
            "train_losses, val_losses, train_accs, val_accs, examples_seen = train_classifier_simple(\n",
            "    model, train_loader, val_loader, optimizer, device,\n",
            "    num_epochs=num_epochs, eval_freq=50,\n",
            "    eval_iter=5\n",
            ")\n",
            "end_time = time.time()\n",
            "execution_time_minutes = (end_time - start_time) / 60\n",
            "print(f\"Training completed in {execution_time_minutes:.2f} minutes.\")"
         ]
      },
      {
         "cell_type": "code",
         "execution_count": 94,
         "metadata": {},
         "outputs": [
            {
               "data": {
                  "image/png": "[encoded data removed]",
                  "text/plain": [
                     "<Figure size 500x300 with 2 Axes>"
                  ]
               },
               "metadata": {},
               "output_type": "display_data"
            }
         ],
         "source": [
            "import matplotlib.pyplot as plt\n",
            "\n",
            "def plot_values(epochs_seen, examples_seen, train_values, val_values, label=\"loss\"):\n",
            "    fig, ax1 = plt.subplots(figsize=(5, 3))\n",
            "    #1\n",
            "    ax1.plot(epochs_seen, train_values, label=f\"Training {label}\")\n",
            "    ax1.plot(\n",
            "        epochs_seen, val_values, linestyle=\"-.\",\n",
            "        label=f\"Validation {label}\"\n",
            "    )\n",
            "    ax1.set_xlabel(\"Epochs\")\n",
            "    ax1.set_ylabel(label.capitalize())\n",
            "    ax1.legend()\n",
            "    ax2 = ax1.twiny()\n",
            "    ax2.plot(examples_seen, train_values, alpha=0)\n",
            "    ax2.set_xlabel(\"Examples seen\")\n",
            "    fig.tight_layout()\n",
            "    #4\n",
            "    plt.savefig(f\"{label}-plot.pdf\")\n",
            "    plt.show()\n",
            "epochs_tensor = torch.linspace(0, num_epochs, len(train_losses))\n",
            "examples_seen_tensor = torch.linspace(0, examples_seen, len(train_losses))\n",
            "plot_values(epochs_tensor, examples_seen_tensor, train_losses, val_losses)"
         ]
      },
      {
         "cell_type": "code",
         "execution_count": 96,
         "metadata": {},
         "outputs": [
            {
               "data": {
                  "image/png": "[encoded data removed]",
                  "text/plain": [
                     "<Figure size 500x300 with 2 Axes>"
                  ]
               },
               "metadata": {},
               "output_type": "display_data"
            },
            {
               "name": "stdout",
               "output_type": "stream",
               "text": [
                  "Training accuracy: 90.10%\n",
                  "Validation accuracy: 88.59%\n",
                  "Test accuracy: 87.67%\n"
               ]
            }
         ],
         "source": [
            "epochs_tensor = torch.linspace(0, num_epochs, len(train_accs))\n",
            "examples_seen_tensor = torch.linspace(0, examples_seen, len(train_accs))\n",
            "plot_values(\n",
            "epochs_tensor, examples_seen_tensor, train_accs, val_accs,\n",
            "label=\"accuracy\"\n",
            ")\n",
            "train_accuracy = calc_accuracy_loader(train_loader, model, device)\n",
            "val_accuracy = calc_accuracy_loader(val_loader, model, device)\n",
            "test_accuracy = calc_accuracy_loader(test_loader, model, device)\n",
            "print(f\"Training accuracy: {train_accuracy*100:.2f}%\")\n",
            "print(f\"Validation accuracy: {val_accuracy*100:.2f}%\")\n",
            "print(f\"Test accuracy: {test_accuracy*100:.2f}%\")"
         ]
      },
      {
         "cell_type": "code",
         "execution_count": 100,
         "metadata": {},
         "outputs": [
            {
               "name": "stdout",
               "output_type": "stream",
               "text": [
                  "predicted label 0\n",
                  "not spam\n",
                  "predicted label 0\n",
                  "not spam\n"
               ]
            }
         ],
         "source": [
            "def classify_review(text, model, tokenizer, device, max_length=None,pad_token_id=50256):\n",
            "    model.eval()\n",
            "    input_ids = tokenizer.encode(text)\n",
            "    supported_context_length = model.pos_emb.weight.shape[1]\n",
            "    input_ids = input_ids[:min(max_length, supported_context_length)]\n",
            "    input_ids += [pad_token_id] * (max_length - len(input_ids))\n",
            "    input_tensor = torch.tensor(input_ids, device=device).unsqueeze(0)\n",
            "    with torch.no_grad():\n",
            "        logits = model(input_tensor)[:, -1, :]\n",
            "    predicted_label = torch.argmax(logits, dim=-1).item()\n",
            "    print(f\"predicted label {predicted_label}\")\n",
            "    return \"spam\" if predicted_label == 1 else \"not spam\"\n",
            "\n",
            "text_1 = (\n",
            "\"You are a winner you have been specially\"\n",
            "\" selected to receive $1000 cash or a $2000 award.\"\n",
            ")\n",
            "print(classify_review(\n",
            "text_1, model, tokenizer, device, max_length=train_dataset.max_length\n",
            "))\n",
            "\n",
            "text_2 = (\n",
            "\"Hey, just wanted to check if we're still on\"\n",
            "\" for dinner tonight? Let me know!\"\n",
            ")\n",
            "print(classify_review(\n",
            "text_2, model, tokenizer, device, max_length=train_dataset.max_length\n",
            "))"
         ]
      },
      {
         "cell_type": "code",
         "execution_count": null,
         "metadata": {},
         "outputs": [
            {
               "name": "stdout",
               "output_type": "stream",
               "text": [
                  "Ep 1 (Step 000000): Train loss 0.941, Val loss 1.122\n",
                  "Ep 1 (Step 000050): Train loss 0.978, Val loss 1.122\n",
                  "Ep 1 (Step 000100): Train loss 0.940, Val loss 1.122\n",
                  "Training accuracy: 47.50% | Validation accuracy: 52.50%\n",
                  "Ep 2 (Step 000150): Train loss 1.071, Val loss 1.122\n",
                  "Ep 2 (Step 000200): Train loss 1.433, Val loss 1.122\n",
                  "Ep 2 (Step 000250): Train loss 0.709, Val loss 1.122\n",
                  "Training accuracy: 52.50% | Validation accuracy: 52.50%\n",
                  "Ep 3 (Step 000300): Train loss 0.920, Val loss 1.122\n",
                  "Ep 3 (Step 000350): Train loss 1.126, Val loss 1.122\n",
                  "Training accuracy: 57.50% | Validation accuracy: 52.50%\n",
                  "Ep 4 (Step 000400): Train loss 0.519, Val loss 1.122\n",
                  "Ep 4 (Step 000450): Train loss 1.155, Val loss 1.122\n",
                  "Ep 4 (Step 000500): Train loss 0.937, Val loss 1.122\n",
                  "Training accuracy: 55.00% | Validation accuracy: 52.50%\n",
                  "Ep 5 (Step 000550): Train loss 1.020, Val loss 1.122\n",
                  "Ep 5 (Step 000600): Train loss 1.272, Val loss 1.122\n",
                  "Training accuracy: 52.50% | Validation accuracy: 52.50%\n",
                  "Training completed in 8.35 minutes.\n"
               ]
            },
            {
               "data": {
                  "image/png": "[encoded data removed]",
                  "text/plain": [
                     "<Figure size 500x300 with 2 Axes>"
                  ]
               },
               "metadata": {},
               "output_type": "display_data"
            },
            {
               "data": {
                  "image/png": "[encoded data removed]",
                  "text/plain": [
                     "<Figure size 500x300 with 2 Axes>"
                  ]
               },
               "metadata": {},
               "output_type": "display_data"
            },
            {
               "name": "stdout",
               "output_type": "stream",
               "text": [
                  "Training accuracy: 50.58%\n",
                  "Validation accuracy: 55.03%\n",
                  "Test accuracy: 51.33%\n"
               ]
            }
         ],
         "source": [
            "# EXERCISE 6.2 FINE-TUNING THE WHOLE MODEL\n",
            "# Instead of fine-tuning just the final transformer block,\n",
            "# fine-tune the entire model and assess the effect on\n",
            "# predictive performance\n",
            "\n",
            "torch.manual_seed(123)\n",
            "\n",
            "new_model = GPTModel(BASE_CONFIG)\n",
            "load_weights_into_gpt(new_model, params)\n",
            "# for param in model.parameters():\n",
            "#     param.requires_grad = False\n",
            "\n",
            "# output layer hs requires_grad set to True by default\n",
            "num_classes = 2\n",
            "new_model.out_head = nn.Linear(in_features=BASE_CONFIG['emb_dim'], out_features=num_classes)\n",
            "\n",
            "# unfreeze last transform block and layernorm layer\n",
            "\n",
            "# for param in model.trf_blocks[-1].parameters():\n",
            "#     param.requires_grad = True\n",
            "# for param in model.final_norm.parameters():\n",
            "#     param.requires_grad = True\n",
            "\n",
            "start_time = time.time()\n",
            "torch.manual_seed(123)\n",
            "optimizer = torch.optim.AdamW(model.parameters(), lr=5e-5, weight_decay=0.1)\n",
            "num_epochs = 5\n",
            "train_losses, val_losses, train_accs, val_accs, examples_seen = train_classifier_simple(\n",
            "    new_model, train_loader, val_loader, optimizer, device,\n",
            "    num_epochs=num_epochs, eval_freq=50,\n",
            "    eval_iter=5\n",
            ")\n",
            "end_time = time.time()\n",
            "execution_time_minutes = (end_time - start_time) / 60\n",
            "print(f\"Training completed in {execution_time_minutes:.2f} minutes.\")\n",
            "\n",
            "epochs_tensor = torch.linspace(0, num_epochs, len(train_losses))\n",
            "examples_seen_tensor = torch.linspace(0, examples_seen, len(train_losses))\n",
            "plot_values(epochs_tensor, examples_seen_tensor, train_losses, val_losses)\n",
            "\n",
            "\n",
            "epochs_tensor = torch.linspace(0, num_epochs, len(train_accs))\n",
            "examples_seen_tensor = torch.linspace(0, examples_seen, len(train_accs))\n",
            "plot_values(\n",
            "epochs_tensor, examples_seen_tensor, train_accs, val_accs,\n",
            "label=\"accuracy\"\n",
            ")\n",
            "train_accuracy = calc_accuracy_loader(train_loader, new_model, device)\n",
            "val_accuracy = calc_accuracy_loader(val_loader, new_model, device)\n",
            "test_accuracy = calc_accuracy_loader(test_loader, new_model, device)\n",
            "print(f\"Training accuracy: {train_accuracy*100:.2f}%\")\n",
            "print(f\"Validation accuracy: {val_accuracy*100:.2f}%\")\n",
            "print(f\"Test accuracy: {test_accuracy*100:.2f}%\")"
         ]
      },
      {
         "cell_type": "code",
         "execution_count": 54,
         "metadata": {},
         "outputs": [],
         "source": [
            "# EXERCISE 6.3 FINE-TUNING THE FIRST VS. LAST TOKEN\n",
            "# Try fine-tuning the first output token. Notice the changes\n",
            "# in predictive performance compared to fine-tuning the last\n",
            "# output token."
         ]
      },
      {
         "cell_type": "code",
         "execution_count": 55,
         "metadata": {},
         "outputs": [
            {
               "name": "stdout",
               "output_type": "stream",
               "text": [
                  "sms_spam_collection/SMSSpamCollection.tsv already exists. Skipping download and extraction.\n"
               ]
            }
         ],
         "source": [
            "\n",
            "# chapter 6 - fine-tuning\n",
            "\n",
            "import urllib.request\n",
            "import zipfile\n",
            "import os\n",
            "from pathlib import Path\n",
            "\n",
            "url = \"https://archive.ics.uci.edu/static/public/228/sms+spam+collection.zip\"\n",
            "zip_path = \"sms_spam_collection.zip\"\n",
            "extracted_path = \"sms_spam_collection\"\n",
            "data_file_path = Path(extracted_path) / \"SMSSpamCollection.tsv\"\n",
            "def download_and_unzip_spam_data(url, zip_path, extracted_path, data_file_path):\n",
            "    if data_file_path.exists():\n",
            "        print(f\"{data_file_path} already exists. Skipping download \"\n",
            "    \"and extraction.\")\n",
            "        return\n",
            "    with urllib.request.urlopen(url) as response:\n",
            "        with open(zip_path, \"wb\") as out_file:\n",
            "            out_file.write(response.read())\n",
            "    with zipfile.ZipFile(zip_path, \"r\") as zip_ref:\n",
            "        zip_ref.extractall(extracted_path)\n",
            "    original_file_path = Path(extracted_path) / \"SMSSpamCollection\"\n",
            "    os.rename(original_file_path, data_file_path)\n",
            "    print(f\"File downloaded and saved as {data_file_path}\")\n",
            "\n",
            "download_and_unzip_spam_data(url, zip_path, extracted_path, data_file_path)"
         ]
      },
      {
         "cell_type": "code",
         "execution_count": 56,
         "metadata": {},
         "outputs": [
            {
               "name": "stdout",
               "output_type": "stream",
               "text": [
                  "120\n",
                  "Input batch dimensions: torch.Size([8, 120])\n",
                  "Label batch dimensions torch.Size([8])\n",
                  "130 training batches\n",
                  "19 validation batches\n",
                  "38 test batches\n"
               ]
            }
         ],
         "source": [
            "\n",
            "import torch\n",
            "from torch.utils.data import DataLoader\n",
            "from torch.utils.data import Dataset\n",
            "import tiktoken\n",
            "import pandas as pd\n",
            "df = pd.read_csv(data_file_path, sep=\"\\t\", header=None, names=[\"Label\", \"Text\"])\n",
            "\n",
            "class SpamDataset(Dataset):\n",
            "    def __init__(self, csv_file, tokenizer, max_length=None, pad_token=50256):\n",
            "        self.data = pd.read_csv(csv_file)\n",
            "        self.encoded_texts = [tokenizer.encode(text) for text in self.data['Text']]\n",
            "        if max_length is None:\n",
            "            self.max_length = self._longest_encoded_length()\n",
            "        else:\n",
            "            self.max_length = max_length\n",
            "        self.encoded_texts = [encoded_text + [pad_token]*(self.max_length - len(encoded_text)) for encoded_text in self.encoded_texts]\n",
            "        \n",
            "    def __getitem__(self, idx):\n",
            "        encoded = self.encoded_texts[idx]\n",
            "        label = self.data.iloc[idx]['Label']\n",
            "        return torch.tensor(encoded, dtype=torch.long), torch.tensor(label, dtype=torch.long)\n",
            "    \n",
            "    def __len__(self):\n",
            "        return len(self.data)\n",
            "    \n",
            "    def _longest_encoded_length(self):\n",
            "        max_len = 0\n",
            "        for seq in self.encoded_texts:\n",
            "            if len(seq) > max_len:\n",
            "                max_len = len(seq)\n",
            "        return max_len\n",
            "\n",
            "tokenizer = tiktoken.get_encoding(\"gpt2\")\n",
            "train_dataset = SpamDataset(\"train.csv\", tokenizer)\n",
            "\n",
            "print(train_dataset.max_length)\n",
            "\n",
            "# use train datasets max_length for val and test\n",
            "val_dataset = SpamDataset(\n",
            "    csv_file=\"validation.csv\",\n",
            "    max_length=train_dataset.max_length,\n",
            "    tokenizer=tokenizer\n",
            ")\n",
            "test_dataset = SpamDataset(\n",
            "    csv_file=\"test.csv\",\n",
            "    max_length=train_dataset.max_length,\n",
            "    tokenizer=tokenizer\n",
            ")\n",
            "\n",
            "\n",
            "num_workers = 0\n",
            "batch_size = 8\n",
            "\n",
            "torch.manual_seed(123)\n",
            "train_loader = DataLoader(\n",
            "    dataset=train_dataset,\n",
            "    batch_size=batch_size,\n",
            "    shuffle=True,\n",
            "    num_workers=num_workers,\n",
            "    drop_last=True,\n",
            ")\n",
            "val_loader = DataLoader(\n",
            "    dataset=val_dataset,\n",
            "    batch_size=batch_size,\n",
            "    num_workers=num_workers,\n",
            "    drop_last=False,\n",
            ")\n",
            "test_loader = DataLoader(\n",
            "    dataset=test_dataset,\n",
            "    batch_size=batch_size,\n",
            "    num_workers=num_workers,\n",
            "    drop_last=False,\n",
            ")\n",
            "\n",
            "for input_batch, target_batch in train_loader:\n",
            "    pass\n",
            "print(\"Input batch dimensions:\", input_batch.shape)\n",
            "print(\"Label batch dimensions\", target_batch.shape)\n",
            "\n",
            "print(f\"{len(train_loader)} training batches\")\n",
            "print(f\"{len(val_loader)} validation batches\")\n",
            "print(f\"{len(test_loader)} test batches\")"
         ]
      },
      {
         "cell_type": "code",
         "execution_count": 57,
         "metadata": {},
         "outputs": [],
         "source": [
            "\n",
            "CHOOSE_MODEL = \"gpt2-small (124M)\"\n",
            "INPUT_PROMPT = \"Every effort moves\"\n",
            "BASE_CONFIG = {\n",
            "\"vocab_size\": 50257,\n",
            "\"context_length\": 1024,\n",
            "\"drop_rate\": 0.0,\n",
            "\"qkv_bias\": True\n",
            "}\n",
            "model_configs = {\n",
            "\"gpt2-small (124M)\": {\"emb_dim\": 768, \"n_layers\": 12, \"n_heads\": 12},\n",
            "\"gpt2-medium (355M)\": {\"emb_dim\": 1024, \"n_layers\": 24, \"n_heads\": 16},\n",
            "\"gpt2-large (774M)\": {\"emb_dim\": 1280, \"n_layers\": 36, \"n_heads\": 20},\n",
            "\"gpt2-xl (1558M)\": {\"emb_dim\": 1600, \"n_layers\": 48, \"n_heads\": 25},\n",
            "}\n",
            "BASE_CONFIG.update(model_configs[CHOOSE_MODEL])\n"
         ]
      },
      {
         "cell_type": "code",
         "execution_count": 58,
         "metadata": {},
         "outputs": [
            {
               "name": "stdout",
               "output_type": "stream",
               "text": [
                  "File already exists and is up-to-date: gpt2/124M/checkpoint\n",
                  "File already exists and is up-to-date: gpt2/124M/encoder.json\n",
                  "File already exists and is up-to-date: gpt2/124M/hparams.json\n",
                  "File already exists and is up-to-date: gpt2/124M/model.ckpt.data-00000-of-00001\n",
                  "File already exists and is up-to-date: gpt2/124M/model.ckpt.index\n",
                  "File already exists and is up-to-date: gpt2/124M/model.ckpt.meta\n",
                  "File already exists and is up-to-date: gpt2/124M/vocab.bpe\n",
                  "File already exists and is up-to-date: gpt2/124M/checkpoint\n",
                  "File already exists and is up-to-date: gpt2/124M/encoder.json\n",
                  "File already exists and is up-to-date: gpt2/124M/hparams.json\n",
                  "File already exists and is up-to-date: gpt2/124M/model.ckpt.data-00000-of-00001\n",
                  "File already exists and is up-to-date: gpt2/124M/model.ckpt.index\n",
                  "File already exists and is up-to-date: gpt2/124M/model.ckpt.meta\n",
                  "File already exists and is up-to-date: gpt2/124M/vocab.bpe\n",
                  "generate\n",
                  "tensor([[6109, 3626, 6100,  345,  832,  257,  890, 1351,   13, 1400, 3626,  460,\n",
                  "         4259,  393, 1844, 1123, 1917,  790, 1744, 1110,   13, 1400, 4876,  481,\n",
                  "         4259,  777, 2428,  319,  663]])\n",
                  "Output text:\n",
                  " Every effort moves you through a long list. No effort can fix or complete each problem every possible day. No task will fix these issues on its\n"
               ]
            }
         ],
         "source": [
            "from gpt_implementation import GPTModel\n",
            "from gpt_implementation import load_weights_into_gpt\n",
            "from gpt_implementation import generate, text_to_token_ids, token_ids_to_text\n",
            "from gpt_download import download_and_load_gpt2\n",
            "\n",
            "model_size = CHOOSE_MODEL.split(\" \")[-1].lstrip(\"(\").rstrip(\")\")\n",
            "settings, params = download_and_load_gpt2(\n",
            "model_size=model_size, models_dir=\"gpt2\"\n",
            ")\n",
            "model = GPTModel(BASE_CONFIG)\n",
            "load_weights_into_gpt(model, params)\n",
            "model.eval();\n",
            "\n",
            "# from book_code.ch05 import GPTModel, load_weights_into_gpt\n",
            "\n",
            "CHOOSE_MODEL = \"gpt2-small (124M)\"\n",
            "INPUT_PROMPT = \"Every effort moves\"\n",
            "BASE_CONFIG = {\n",
            "\"vocab_size\": 50257,\n",
            "\"context_length\": 1024,\n",
            "\"drop_rate\": 0.0,\n",
            "\"qkv_bias\": True\n",
            "}\n",
            "model_configs = {\n",
            "\"gpt2-small (124M)\": {\"emb_dim\": 768, \"n_layers\": 12, \"n_heads\": 12},\n",
            "\"gpt2-medium (355M)\": {\"emb_dim\": 1024, \"n_layers\": 24, \"n_heads\": 16},\n",
            "\"gpt2-large (774M)\": {\"emb_dim\": 1280, \"n_layers\": 36, \"n_heads\": 20},\n",
            "\"gpt2-xl (1558M)\": {\"emb_dim\": 1600, \"n_layers\": 48, \"n_heads\": 25},\n",
            "}\n",
            "BASE_CONFIG.update(model_configs[CHOOSE_MODEL])\n",
            "\n",
            "\n",
            "model_size = CHOOSE_MODEL.split(\" \")[-1].lstrip(\"(\").rstrip(\")\")\n",
            "settings, params = download_and_load_gpt2(\n",
            "model_size=model_size, models_dir=\"gpt2\"\n",
            ")\n",
            "model = GPTModel(BASE_CONFIG)\n",
            "load_weights_into_gpt(model, params)\n",
            "model.eval()\n",
            "device = torch.device(\"cuda\" if torch.cuda.is_available() else \"cpu\")\n",
            "\n",
            "token_ids = generate(\n",
            "    model=model,\n",
            "    idx=text_to_token_ids(\"Every effort moves you\", tokenizer).to(device),\n",
            "    max_new_tokens=25,\n",
            "    context_size=BASE_CONFIG[\"context_length\"],\n",
            "    top_k=50,\n",
            "    temperature=1.5,\n",
            "    device=device\n",
            ")\n",
            "print(\"generate\")\n",
            "print(token_ids[:5])\n",
            "print(\"Output text:\\n\", token_ids_to_text(token_ids, tokenizer))"
         ]
      },
      {
         "cell_type": "code",
         "execution_count": 60,
         "metadata": {},
         "outputs": [
            {
               "name": "stdout",
               "output_type": "stream",
               "text": [
                  "Number of entries: 1100\n"
               ]
            }
         ],
         "source": [
            "import json\n",
            "import os\n",
            "import urllib\n",
            "\n",
            "def download_and_load_file(file_path, url):\n",
            "    if not os.path.exists(file_path):\n",
            "        with urllib.request.urlopen(url) as response:\n",
            "            text_data = response.read().decode(\"utf-8\")\n",
            "        with open(file_path, \"w\", encoding=\"utf-8\") as file:\n",
            "            file.write(text_data)\n",
            "    else:\n",
            "        #1\n",
            "        with open(file_path, \"r\", encoding=\"utf-8\") as file:\n",
            "            text_data = file.read()\n",
            "    with open(file_path, \"r\") as file:\n",
            "        data = json.load(file)\n",
            "    return data\n",
            "\n",
            "file_path = \"instruction-data.json\"\n",
            "url = (\n",
            "\"https://raw.githubusercontent.com/rasbt/LLMs-from-scratch\"\n",
            "\"/main/ch07/01_main-chapter-code/instruction-data.json\"\n",
            ")\n",
            "data = download_and_load_file(file_path, url)\n",
            "print(\"Number of entries:\", len(data))"
         ]
      },
      {
         "cell_type": "code",
         "execution_count": 66,
         "metadata": {},
         "outputs": [
            {
               "data": {
                  "text/plain": [
                     "[{'instruction': 'Evaluate the following phrase by transforming it into the spelling given.',\n",
                     "  'input': 'freind --> friend',\n",
                     "  'output': 'The spelling of the given phrase \"freind\" is incorrect, the correct spelling is \"friend\".'},\n",
                     " {'instruction': 'Edit the following sentence for grammar.',\n",
                     "  'input': 'He go to the park every day.',\n",
                     "  'output': 'He goes to the park every day.'},\n",
                     " {'instruction': 'Convert 45 kilometers to meters.',\n",
                     "  'input': '',\n",
                     "  'output': '45 kilometers is 45000 meters.'},\n",
                     " {'instruction': \"Rewrite this sentence to start with 'Although': Despite the rain, they went for a walk.\",\n",
                     "  'input': '',\n",
                     "  'output': 'Although it was raining, they went for a walk.'},\n",
                     " {'instruction': 'What are the first 10 square numbers?',\n",
                     "  'input': '',\n",
                     "  'output': '1, 4, 9, 16, 25, 36, 49, 64, 81, 100.'}]"
                  ]
               },
               "execution_count": 66,
               "metadata": {},
               "output_type": "execute_result"
            }
         ],
         "source": [
            "data[:5]"
         ]
      },
      {
         "cell_type": "code",
         "execution_count": 70,
         "metadata": {},
         "outputs": [
            {
               "name": "stdout",
               "output_type": "stream",
               "text": [
                  "Below is an instruction that describes a task. Write a response that appropriately completes the request.\n",
                  "\\n### Instruction:\\nIdentify the correct spelling of the following word.\n",
                  "\\n### Input:\\nOcassion\n",
                  "\\n### Response:\\nThe correct spelling is 'Occasion.'\n",
                  "Below is an instruction that describes a task. Write a response that appropriately completes the request.\n",
                  "\\n### Instruction:\\nWhat is an antonym of 'complicated'?\n",
                  "\\n### Response:\\nAn antonym of 'complicated' is 'simple'.\n"
               ]
            }
         ],
         "source": [
            "def format_input(entry):\n",
            "    instruction_text = (\n",
            "    f\"Below is an instruction that describes a task. \"\n",
            "    f\"Write a response that appropriately completes the request.\"\n",
            "    f\"\\n\\\\n### Instruction:\\\\n{entry['instruction']}\"\n",
            "    )\n",
            "    input_text = (\n",
            "    f\"\\n\\\\n### Input:\\\\n{entry['input']}\" if entry[\"input\"] else \"\"\n",
            "    )\n",
            "    return instruction_text + input_text\n",
            "\n",
            "model_input = format_input(data[50])\n",
            "desired_response = f\"\\n\\\\n### Response:\\\\n{data[50]['output']}\"\n",
            "print(model_input + desired_response)\n",
            "\n",
            "model_input = format_input(data[999])\n",
            "desired_response = f\"\\n\\\\n### Response:\\\\n{data[999]['output']}\"\n",
            "print(model_input + desired_response)"
         ]
      },
      {
         "cell_type": "code",
         "execution_count": 72,
         "metadata": {},
         "outputs": [
            {
               "name": "stdout",
               "output_type": "stream",
               "text": [
                  "Training set length: 935\n",
                  "Validation set length: 55\n",
                  "Test set length: 110\n"
               ]
            }
         ],
         "source": [
            "train_portion = int(len(data) * 0.85)\n",
            "test_portion = int(len(data) * 0.1)\n",
            "val_portion = len(data) - train_portion - test_portion\n",
            "train_data = data[:train_portion]\n",
            "test_data = data[train_portion:train_portion + test_portion]\n",
            "val_data = data[train_portion + test_portion:]\n",
            "print(\"Training set length:\", len(train_data))\n",
            "print(\"Validation set length:\", len(val_data))\n",
            "print(\"Test set length:\", len(test_data))"
         ]
      },
      {
         "cell_type": "code",
         "execution_count": null,
         "metadata": {},
         "outputs": [],
         "source": [
            "import torch\n",
            "from torch.utils.data import Dataset\n",
            "import tiktoken\n",
            "\n",
            "class InstructionDataset(Dataset):\n",
            "    def __init__(self, data, tokenizer):\n",
            "        self.data = data\n",
            "        self.encoded_texts = []\n",
            "        for entry in data:\n",
            "            instruction_plus_input = format_input(entry)\n",
            "            response_text = f\"\\n\\\\n### Response:\\\\n{entry['output']}\"\n",
            "            full_text = instruction_plus_input + response_text\n",
            "            self.encoded_texts.append(\n",
            "                tokenizer.encode(full_text)\n",
            "            )\n",
            "    def __getitem__(self, index):\n",
            "        return self.encoded_texts[index]\n",
            "\n",
            "    def __len__(self):\n",
            "        return len(self.data)\n",
            "\n",
            "\n",
            "tokenizer = tiktoken.get_encoding(\"gpt2\")\n",
            "print(tokenizer.encode(\"<|endoftext|>\", allowed_special={\"<|endoftext|>\"}))\n",
            "\n",
            "# collate fn is responsible for taking a list of individual samples and creating a batch that can be processed efficiently\n",
            "\n",
            "def custom_collate_draft_1(\n",
            "        batch,\n",
            "        pad_token_id=50256,\n",
            "        device=\"cpu\"\n",
            "    ):\n",
            "    batch_max_length = max(len(item)+1 for item in batch) #1\n",
            "    inputs_lst = []\n",
            "    for item in batch:\n",
            "        new_item = item.copy()\n",
            "        new_item += [pad_token_id]\n",
            "        padded = (\n",
            "            new_item + [pad_token_id] *\n",
            "            (batch_max_length - len(new_item))\n",
            "        )\n",
            "        inputs = torch.tensor(padded[:-1])\n",
            "        inputs_lst.append(inputs)\n",
            "    inputs_tensor = torch.stack(inputs_lst).to(device)\n",
            "    return inputs_tensor\n",
            "\n"
         ]
      },
      {
         "cell_type": "code",
         "execution_count": null,
         "metadata": {},
         "outputs": [],
         "source": [
            "# EXERCISE 7.1 CHANGING PROMPT STYLES\n",
            "# After fine-tuning the model with the Alpaca prompt style,\n",
            "# try the Phi-3 prompt style shown in figure 7.4 and observe\n",
            "# whether it affects the response quality of the model."
         ]
      }
   ],
   "metadata": {
      "kernelspec": {
         "display_name": "stanford",
         "language": "python",
         "name": "python3"
      },
      "language_info": {
         "codemirror_mode": {
            "name": "ipython",
            "version": 3
         },
         "file_extension": ".py",
         "mimetype": "text/x-python",
         "name": "python",
         "nbconvert_exporter": "python",
         "pygments_lexer": "ipython3",
         "version": "3.10.16"
      }
   },
   "nbformat": 4,
   "nbformat_minor": 2
}
